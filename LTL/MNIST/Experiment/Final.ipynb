{
 "cells": [
  {
   "cell_type": "code",
   "execution_count": 1,
   "metadata": {},
   "outputs": [],
   "source": [
    "import torch\n",
    "import os\n",
    "import torch.nn.init as init\n",
    "from torchvision import datasets, transforms\n",
    "from torch import optim, nn\n",
    "from torch.utils.data import DataLoader, Subset\n",
    "import matplotlib.pyplot as plt\n",
    "import logging\n",
    "import math\n",
    "import copy"
   ]
  },
  {
   "cell_type": "code",
   "execution_count": 2,
   "metadata": {},
   "outputs": [],
   "source": [
    "batch_size = 128\n",
    "device = torch.device(\"cuda\" if torch.cuda.is_available() else \"cpu\")\n",
    "output_dir = './final_out'"
   ]
  },
  {
   "cell_type": "code",
   "execution_count": 3,
   "metadata": {},
   "outputs": [],
   "source": [
    "train_settings = {\n",
    "    \"combined_1\": {\"epochs\": 4, \"lr\": 0.005, \"loss_type\": [\"distribution\", \"follow_leader\"], \n",
    "                                            \"factor\": [20, [0, 2., 4., 6., 8.]], \"alpha\": 1.},\n",
    "}"
   ]
  },
  {
   "cell_type": "markdown",
   "metadata": {},
   "source": [
    "## Dataloader"
   ]
  },
  {
   "cell_type": "code",
   "execution_count": 4,
   "metadata": {},
   "outputs": [],
   "source": [
    "tf = transforms.Compose([\n",
    "        transforms.ToTensor(),\n",
    "        transforms.Normalize([0.5], [0.5]),\n",
    "    ])"
   ]
  },
  {
   "cell_type": "code",
   "execution_count": 5,
   "metadata": {},
   "outputs": [],
   "source": [
    "def task_dataloader(task_num):\n",
    "    task_dir = {0: [0, 1], 1: [2, 3], 2: [4, 5], 3: [6, 7], 4:[8, 9]}\n",
    "\n",
    "    train_dataset = datasets.MNIST(root='data', train=True, download=True, transform=tf)\n",
    "\n",
    "    indices = [i for i, (_, label) in enumerate(train_dataset) if label in task_dir[task_num]]\n",
    "    dataset = Subset(train_dataset, indices)\n",
    "    task_train_loader = DataLoader(dataset, batch_size=batch_size, shuffle=False, drop_last=True)\n",
    "\n",
    "    test_dataset = datasets.MNIST(root='./data', train=False, transform=tf, download=True)\n",
    "    indices = [i for i, (_, label) in enumerate(test_dataset) if label in task_dir[task_num]]\n",
    "    dataset = Subset(test_dataset, indices)\n",
    "    task_test_loader = DataLoader(dataset, batch_size=batch_size, shuffle=False, drop_last=True)\n",
    "\n",
    "    return task_train_loader, task_test_loader\n",
    "\n",
    "def load_all_data():\n",
    "    train_dataset = datasets.MNIST(root='./data', train=True, transform=tf, download=True)\n",
    "    train_loader = DataLoader(dataset=train_dataset, batch_size=batch_size, shuffle=False, drop_last=True)\n",
    "\n",
    "    test_dataset = datasets.MNIST(root='./data', train=False, transform=tf, download=True)\n",
    "    test_loader = DataLoader(dataset=test_dataset, batch_size=batch_size, shuffle=False, drop_last=True)\n",
    "\n",
    "    return train_loader, test_loader"
   ]
  },
  {
   "cell_type": "code",
   "execution_count": 6,
   "metadata": {},
   "outputs": [],
   "source": [
    "def adjust_learning_rate(optimizer):\n",
    "    for param_group in optimizer.param_groups:\n",
    "        param_group['lr'] = 0.75 * param_group['lr']"
   ]
  },
  {
   "cell_type": "code",
   "execution_count": 7,
   "metadata": {},
   "outputs": [],
   "source": [
    "class MLP_Enhance(nn.Module):\n",
    "    def __init__(self, out_dim=10, in_channel=1, img_sz=28, hidden_dim=400):\n",
    "        super(MLP_Enhance, self).__init__()\n",
    "        self.in_dim = in_channel*img_sz*img_sz\n",
    "        self.linear = nn.Sequential(\n",
    "            nn.Linear(self.in_dim, hidden_dim),\n",
    "            nn.BatchNorm1d(hidden_dim),\n",
    "            nn.ReLU(inplace=True),\n",
    "            nn.Linear(hidden_dim, hidden_dim),\n",
    "            nn.BatchNorm1d(hidden_dim),\n",
    "            nn.ReLU(inplace=True),\n",
    "        )\n",
    "        self.last = nn.Sequential(\n",
    "            nn.Linear(hidden_dim, out_dim),\n",
    "            nn.Softmax(dim=1)\n",
    "        )\n",
    "        self.init_weights()\n",
    "\n",
    "    def init_weights(self):\n",
    "        for layer in self.linear:\n",
    "            if isinstance(layer, nn.Linear):\n",
    "                init.kaiming_normal_(layer.weight, mode='fan_out', nonlinearity='relu')\n",
    "                init.constant_(layer.bias, 0)\n",
    "        last_linear = self.last[0]\n",
    "        init.xavier_normal_(last_linear.weight)\n",
    "        init.constant_(last_linear.bias, 0)\n",
    "\n",
    "\n",
    "    def features(self, x):\n",
    "        x = self.linear(x.view(-1,self.in_dim))\n",
    "        return x\n",
    "\n",
    "    def logits(self, x):\n",
    "        x = self.last(x)\n",
    "        return x\n",
    "\n",
    "    def forward(self, x):\n",
    "        x = self.features(x)\n",
    "        x = self.logits(x)\n",
    "        return x"
   ]
  },
  {
   "cell_type": "code",
   "execution_count": 8,
   "metadata": {},
   "outputs": [],
   "source": [
    "train_loader, test_loader = load_all_data()\n",
    "task_dataloaders = {}\n",
    "for task in range(0, 5):\n",
    "    train_dl, test_ld = task_dataloader(task)\n",
    "    task_dataloaders[task] = (train_dl, test_ld)"
   ]
  },
  {
   "cell_type": "code",
   "execution_count": 9,
   "metadata": {},
   "outputs": [],
   "source": [
    "def cal_acc(model, dataloader, device):\n",
    "    model.eval()\n",
    "    correct, total = 0., 0.\n",
    "    with torch.no_grad():\n",
    "        for images, labels in dataloader:\n",
    "            images, labels = images.to(device), labels.to(device)\n",
    "            outputs = model(images)\n",
    "            _, predicted = torch.max(outputs.data, 1)\n",
    "            total += labels.size(0)\n",
    "            correct += (predicted == labels).sum().item()\n",
    "\n",
    "    return correct / total"
   ]
  },
  {
   "cell_type": "code",
   "execution_count": 10,
   "metadata": {},
   "outputs": [],
   "source": [
    "def plot_acc_history(all_accuracies):\n",
    "    plt.figure(figsize=(18, 12))\n",
    "\n",
    "    for i, task_accuracies in enumerate(all_accuracies):\n",
    "        plt.subplot(2, 3, i+1)\n",
    "        for task, accs in task_accuracies.items():\n",
    "            plt.plot(accs,'-', label=f'Task {task}')\n",
    "        plt.title(f'Accuracy per Mini-Batch for Task {i}')\n",
    "        plt.xlabel('Mini-Batch Number')\n",
    "        plt.ylabel('Accuracy (%)')\n",
    "        plt.ylim(-5, 105)\n",
    "        plt.legend()\n",
    "        plt.grid(True)\n",
    "\n",
    "    plt.tight_layout()\n",
    "    plt.show()\n",
    "\n",
    "\n",
    "def plot_task_acc_history(all_accuracies, save_name, epochs):\n",
    "    for task in [0, 1, 2, 3, 4]:\n",
    "        if (task == 0):\n",
    "            task_history = []\n",
    "        else:\n",
    "            task_history =  [0] * (epochs * task)\n",
    "        for i, task_accuracies in enumerate (all_accuracies):\n",
    "            if (i >= task):\n",
    "                task_history.extend(task_accuracies[task])\n",
    "                    \n",
    "        plt.plot(task_history, '-', label=f'Task {task}')\n",
    "\n",
    "    plt.xlabel('Mini-Batch Number')\n",
    "    plt.ylabel('Accuracy (%)')\n",
    "    plt.ylim(-5, 105)\n",
    "    plt.legend()\n",
    "    plt.grid(True)\n",
    "    plt.tight_layout()\n",
    "    plt.savefig(save_name) \n",
    "    plt.show()"
   ]
  },
  {
   "cell_type": "markdown",
   "metadata": {},
   "source": [
    "# Train"
   ]
  },
  {
   "cell_type": "code",
   "execution_count": 14,
   "metadata": {},
   "outputs": [],
   "source": [
    "def train(model, task_num, criterion, prev_model, factor, alpha = 1., epoches = 4, lr = 0.005, loss_type = [\"Baseline\"]):\n",
    "    follower = MLP_Enhance()\n",
    "    follower = follower.to(device)\n",
    "    follower.load_state_dict(model.state_dict())\n",
    "    criterion = nn.CrossEntropyLoss()\n",
    "    optimizer_F = torch.optim.Adam(follower.parameters(), lr)\n",
    "        \n",
    "    train_loader = task_dataloaders[task_num][0]\n",
    "    task_accuracies = {task: [] for task in range(task_num + 1)}\n",
    "\n",
    "    distribution_factor = 20\n",
    "    follow_leader_factor = factor[1][task_num]\n",
    "\n",
    "    if(task_num != 0):\n",
    "        leading_factor = follow_leader_factor / task_num * alpha\n",
    "        if(task_num != 1):\n",
    "            sub_leading_factor = (follow_leader_factor - leading_factor) / (task_num - 1)\n",
    "        else:\n",
    "            sub_leading_factor = 0\n",
    "\n",
    "        print('leading', leading_factor)\n",
    "        print('sub leading', sub_leading_factor)\n",
    "    \n",
    "    valid_out_dim = task_num * 2 + 2\n",
    "    logging.info(f\"##########Task {task_num}##########\")\n",
    "    for e in range(epoches):\n",
    "        logging.info(f\"Epoch {e}\")\n",
    "        batch_num = 0\n",
    "        for images, labels in train_loader:\n",
    "            follower.train()\n",
    "            images, labels = images.to(device), labels.to(device)\n",
    "            outputs = follower(images)\n",
    "\n",
    "            diff_loss = 0\n",
    "            if (\"distribution\" in loss_type):\n",
    "                random_data = torch.rand(256, 1, 28, 28).to(device)\n",
    "                random_data = (random_data - 0.5) / 0.5\n",
    "                random_target = torch.randint(0, 10, (256,), dtype=torch.int64).to(device)\n",
    "                fake_output = follower(random_data)\n",
    "                diff_loss = distribution_factor * criterion(fake_output, random_target)\n",
    "\n",
    "            reg_loss = 0\n",
    "            if (\"follow_leader\" in loss_type):\n",
    "                for k, mod in enumerate(prev_model):\n",
    "                    with torch.no_grad():\n",
    "                        leader_output = mod(images)\n",
    "                    diff = torch.mean(torch.abs(leader_output[:,k*2:k * 2 + 2] - outputs[:,k*2:k * 2 + 2]))\n",
    "\n",
    "                    if (k == task_num - 1): # the nearest model will be the leader\n",
    "                        reg_loss += leading_factor * diff\n",
    "                    else:\n",
    "                        reg_loss += sub_leading_factor * diff\n",
    "                \n",
    "                if(batch_num == 0):\n",
    "                    print(\"reg_loss\", reg_loss)\n",
    "                    \n",
    "            loss = criterion(outputs[:,:valid_out_dim], labels) + reg_loss + diff_loss\n",
    "            optimizer_F.zero_grad()\n",
    "            loss.backward()\n",
    "            optimizer_F.step()\n",
    "            batch_num += 1\n",
    "\n",
    "        adjust_learning_rate(optimizer_F)\n",
    "\n",
    "        avg_acc = 0\n",
    "        log_message = []\n",
    "        log_message.append(f\"Epoch: {e}, \")\n",
    "        for task in range(task_num + 1):\n",
    "            acc = cal_acc(follower, task_dataloaders[task][0], device)\n",
    "            avg_acc += acc\n",
    "            task_accuracies[task].append(acc * 100)\n",
    "            log_message.append(f\"Task {task} acc: {acc * 100:.4f}\")\n",
    "\n",
    "        logging.info(', '.join(log_message) + f\", Task avg acc:{avg_acc*100/(task_num + 1):.4f}\")\n",
    "    \n",
    "    return follower, task_accuracies"
   ]
  },
  {
   "cell_type": "code",
   "execution_count": 15,
   "metadata": {},
   "outputs": [],
   "source": [
    "def setup_logging(file_name):\n",
    "    logging.basicConfig(level=logging.INFO,\n",
    "                        format='%(asctime)s - %(levelname)s - %(message)s',\n",
    "                        handlers=[\n",
    "                            logging.FileHandler(file_name),\n",
    "                            logging.StreamHandler()\n",
    "                        ],\n",
    "                        force=True)\n",
    "    \n",
    "def train_split_task(task_name):\n",
    "    print(f\"Training on {task_name}\")\n",
    "    prev_model = []\n",
    "    model = MLP_Enhance()\n",
    "    model = model.to(device)\n",
    "    criterion = nn.CrossEntropyLoss()\n",
    "\n",
    "    settings = train_settings[task_name]\n",
    "    epochs, lr, loss_type, factor, alpha = settings['epochs'], settings['lr'], settings['loss_type'], settings['factor'], settings['alpha']\n",
    "\n",
    "    file_name = f\"{output_dir}/{task_name}_epochs={epochs}_alpha={alpha}_factor={factor}\"\n",
    "\n",
    "    log_file_name = file_name + '.log'\n",
    "    img_file_name = file_name + '.png'\n",
    "    if True:\n",
    "    # if os.path.exists(log_file_name) == False:\n",
    "        setup_logging(log_file_name)\n",
    "        all_accuracies = []\n",
    "        for task in [0, 1, 2, 3, 4]:\n",
    "            model, task_accuracies = train(model, task, criterion, prev_model, factor = factor, alpha = alpha, \n",
    "                                           epoches = epochs, lr = lr, loss_type = loss_type)\n",
    "            all_accuracies.append(task_accuracies)\n",
    "            prev_model.append(copy.deepcopy(model))\n",
    "\n",
    "        plot_task_acc_history(all_accuracies, img_file_name, epochs)"
   ]
  },
  {
   "cell_type": "code",
   "execution_count": 16,
   "metadata": {},
   "outputs": [
    {
     "name": "stderr",
     "output_type": "stream",
     "text": [
      "2024-06-02 00:43:37,492 - INFO - ##########Task 0##########\n",
      "2024-06-02 00:43:37,493 - INFO - Epoch 0\n"
     ]
    },
    {
     "name": "stdout",
     "output_type": "stream",
     "text": [
      "Training on combined_1\n",
      "reg_loss 0\n"
     ]
    },
    {
     "name": "stderr",
     "output_type": "stream",
     "text": [
      "2024-06-02 00:43:43,170 - INFO - Epoch: 0, , Task 0 acc: 77.5989, Task avg acc:77.5989\n",
      "2024-06-02 00:43:43,170 - INFO - Epoch 1\n"
     ]
    },
    {
     "name": "stdout",
     "output_type": "stream",
     "text": [
      "reg_loss 0\n"
     ]
    },
    {
     "name": "stderr",
     "output_type": "stream",
     "text": [
      "2024-06-02 00:43:48,527 - INFO - Epoch: 1, , Task 0 acc: 87.7710, Task avg acc:87.7710\n",
      "2024-06-02 00:43:48,528 - INFO - Epoch 2\n"
     ]
    },
    {
     "name": "stdout",
     "output_type": "stream",
     "text": [
      "reg_loss 0\n"
     ]
    },
    {
     "name": "stderr",
     "output_type": "stream",
     "text": [
      "2024-06-02 00:43:53,925 - INFO - Epoch: 2, , Task 0 acc: 97.5048, Task avg acc:97.5048\n",
      "2024-06-02 00:43:53,926 - INFO - Epoch 3\n"
     ]
    },
    {
     "name": "stdout",
     "output_type": "stream",
     "text": [
      "reg_loss 0\n"
     ]
    },
    {
     "name": "stderr",
     "output_type": "stream",
     "text": [
      "2024-06-02 00:43:59,281 - INFO - Epoch: 3, , Task 0 acc: 95.2009, Task avg acc:95.2009\n",
      "2024-06-02 00:43:59,295 - INFO - ##########Task 1##########\n",
      "2024-06-02 00:43:59,296 - INFO - Epoch 0\n"
     ]
    },
    {
     "name": "stdout",
     "output_type": "stream",
     "text": [
      "leading 2.0\n",
      "sub leading 0\n",
      "reg_loss tensor(0.1364, device='cuda:0', grad_fn=<AddBackward0>)\n"
     ]
    },
    {
     "name": "stderr",
     "output_type": "stream",
     "text": [
      "2024-06-02 00:44:06,911 - INFO - Epoch: 0, , Task 0 acc: 49.9123, Task 1 acc: 88.6220, Task avg acc:69.2672\n",
      "2024-06-02 00:44:06,912 - INFO - Epoch 1\n"
     ]
    },
    {
     "name": "stdout",
     "output_type": "stream",
     "text": [
      "reg_loss tensor(0.1064, device='cuda:0', grad_fn=<AddBackward0>)\n"
     ]
    },
    {
     "name": "stderr",
     "output_type": "stream",
     "text": [
      "2024-06-02 00:44:14,557 - INFO - Epoch: 1, , Task 0 acc: 52.8380, Task 1 acc: 87.3005, Task avg acc:70.0693\n",
      "2024-06-02 00:44:14,558 - INFO - Epoch 2\n"
     ]
    },
    {
     "name": "stdout",
     "output_type": "stream",
     "text": [
      "reg_loss tensor(0.1303, device='cuda:0', grad_fn=<AddBackward0>)\n"
     ]
    },
    {
     "name": "stderr",
     "output_type": "stream",
     "text": [
      "2024-06-02 00:44:22,222 - INFO - Epoch: 2, , Task 0 acc: 58.5061, Task 1 acc: 83.6104, Task avg acc:71.0582\n",
      "2024-06-02 00:44:22,223 - INFO - Epoch 3\n"
     ]
    },
    {
     "name": "stdout",
     "output_type": "stream",
     "text": [
      "reg_loss tensor(0.1334, device='cuda:0', grad_fn=<AddBackward0>)\n"
     ]
    },
    {
     "name": "stderr",
     "output_type": "stream",
     "text": [
      "2024-06-02 00:44:29,851 - INFO - Epoch: 3, , Task 0 acc: 52.8619, Task 1 acc: 76.4378, Task avg acc:64.6499\n",
      "2024-06-02 00:44:29,865 - INFO - ##########Task 2##########\n",
      "2024-06-02 00:44:29,867 - INFO - Epoch 0\n"
     ]
    },
    {
     "name": "stdout",
     "output_type": "stream",
     "text": [
      "leading 2.0\n",
      "sub leading 2.0\n",
      "reg_loss tensor(0.3352, device='cuda:0', grad_fn=<AddBackward0>)\n"
     ]
    },
    {
     "name": "stderr",
     "output_type": "stream",
     "text": [
      "2024-06-02 00:44:39,698 - INFO - Epoch: 0, , Task 0 acc: 55.6601, Task 1 acc: 33.6769, Task 2 acc: 59.0338, Task avg acc:49.4569\n",
      "2024-06-02 00:44:39,699 - INFO - Epoch 1\n"
     ]
    },
    {
     "name": "stdout",
     "output_type": "stream",
     "text": [
      "reg_loss tensor(0.3465, device='cuda:0', grad_fn=<AddBackward0>)\n"
     ]
    },
    {
     "name": "stderr",
     "output_type": "stream",
     "text": [
      "2024-06-02 00:44:50,081 - INFO - Epoch: 1, , Task 0 acc: 53.4200, Task 1 acc: 35.1313, Task 2 acc: 61.5212, Task avg acc:50.0242\n",
      "2024-06-02 00:44:50,081 - INFO - Epoch 2\n"
     ]
    },
    {
     "name": "stdout",
     "output_type": "stream",
     "text": [
      "reg_loss tensor(0.3997, device='cuda:0', grad_fn=<AddBackward0>)\n"
     ]
    },
    {
     "name": "stderr",
     "output_type": "stream",
     "text": [
      "2024-06-02 00:44:59,374 - INFO - Epoch: 2, , Task 0 acc: 54.6875, Task 1 acc: 30.0449, Task 2 acc: 69.1182, Task avg acc:51.2835\n",
      "2024-06-02 00:44:59,375 - INFO - Epoch 3\n"
     ]
    },
    {
     "name": "stdout",
     "output_type": "stream",
     "text": [
      "reg_loss tensor(0.4111, device='cuda:0', grad_fn=<AddBackward0>)\n"
     ]
    },
    {
     "name": "stderr",
     "output_type": "stream",
     "text": [
      "2024-06-02 00:45:08,558 - INFO - Epoch: 3, , Task 0 acc: 56.8479, Task 1 acc: 35.9209, Task 2 acc: 67.0528, Task avg acc:53.2739\n",
      "2024-06-02 00:45:08,571 - INFO - ##########Task 3##########\n",
      "2024-06-02 00:45:08,572 - INFO - Epoch 0\n"
     ]
    },
    {
     "name": "stdout",
     "output_type": "stream",
     "text": [
      "leading 2.0\n",
      "sub leading 2.0\n",
      "reg_loss tensor(0.7069, device='cuda:0', grad_fn=<AddBackward0>)\n"
     ]
    },
    {
     "name": "stderr",
     "output_type": "stream",
     "text": [
      "2024-06-02 00:45:20,347 - INFO - Epoch: 0, , Task 0 acc: 89.7800, Task 1 acc: 3.0918, Task 2 acc: 44.2170, Task 3 acc: 79.3914, Task avg acc:54.1200\n",
      "2024-06-02 00:45:20,348 - INFO - Epoch 1\n"
     ]
    },
    {
     "name": "stdout",
     "output_type": "stream",
     "text": [
      "reg_loss tensor(0.7392, device='cuda:0', grad_fn=<AddBackward0>)\n"
     ]
    },
    {
     "name": "stderr",
     "output_type": "stream",
     "text": [
      "2024-06-02 00:45:32,162 - INFO - Epoch: 1, , Task 0 acc: 70.7270, Task 1 acc: 9.5329, Task 2 acc: 28.4662, Task 3 acc: 88.6020, Task avg acc:49.3320\n",
      "2024-06-02 00:45:32,163 - INFO - Epoch 2\n"
     ]
    },
    {
     "name": "stdout",
     "output_type": "stream",
     "text": [
      "reg_loss tensor(0.7223, device='cuda:0', grad_fn=<AddBackward0>)\n"
     ]
    },
    {
     "name": "stderr",
     "output_type": "stream",
     "text": [
      "2024-06-02 00:45:43,878 - INFO - Epoch: 2, , Task 0 acc: 53.4120, Task 1 acc: 29.7623, Task 2 acc: 41.1009, Task 3 acc: 77.1628, Task avg acc:50.3595\n",
      "2024-06-02 00:45:43,878 - INFO - Epoch 3\n"
     ]
    },
    {
     "name": "stdout",
     "output_type": "stream",
     "text": [
      "reg_loss tensor(0.7283, device='cuda:0', grad_fn=<AddBackward0>)\n"
     ]
    },
    {
     "name": "stderr",
     "output_type": "stream",
     "text": [
      "2024-06-02 00:45:55,606 - INFO - Epoch: 3, , Task 0 acc: 58.1712, Task 1 acc: 23.8032, Task 2 acc: 20.2227, Task 3 acc: 90.6743, Task avg acc:48.2179\n",
      "2024-06-02 00:45:55,618 - INFO - ##########Task 4##########\n",
      "2024-06-02 00:45:55,620 - INFO - Epoch 0\n"
     ]
    },
    {
     "name": "stdout",
     "output_type": "stream",
     "text": [
      "leading 2.0\n",
      "sub leading 2.0\n",
      "reg_loss tensor(1.1415, device='cuda:0', grad_fn=<AddBackward0>)\n"
     ]
    },
    {
     "name": "stderr",
     "output_type": "stream",
     "text": [
      "2024-06-02 00:46:09,435 - INFO - Epoch: 0, , Task 0 acc: 47.5765, Task 1 acc: 16.3314, Task 2 acc: 20.4831, Task 3 acc: 7.0888, Task 4 acc: 62.7038, Task avg acc:30.8367\n",
      "2024-06-02 00:46:09,436 - INFO - Epoch 1\n"
     ]
    },
    {
     "name": "stdout",
     "output_type": "stream",
     "text": [
      "reg_loss tensor(1.0164, device='cuda:0', grad_fn=<AddBackward0>)\n"
     ]
    },
    {
     "name": "stderr",
     "output_type": "stream",
     "text": [
      "2024-06-02 00:46:23,282 - INFO - Epoch: 1, , Task 0 acc: 54.1693, Task 1 acc: 19.3567, Task 2 acc: 8.7105, Task 3 acc: 38.9145, Task 4 acc: 73.8451, Task avg acc:38.9992\n",
      "2024-06-02 00:46:23,283 - INFO - Epoch 2\n"
     ]
    },
    {
     "name": "stdout",
     "output_type": "stream",
     "text": [
      "reg_loss tensor(1.0290, device='cuda:0', grad_fn=<AddBackward0>)\n"
     ]
    },
    {
     "name": "stderr",
     "output_type": "stream",
     "text": [
      "2024-06-02 00:46:38,667 - INFO - Epoch: 2, , Task 0 acc: 54.8071, Task 1 acc: 17.1376, Task 2 acc: 1.0506, Task 3 acc: 38.4622, Task 4 acc: 84.9100, Task avg acc:39.2735\n",
      "2024-06-02 00:46:38,668 - INFO - Epoch 3\n"
     ]
    },
    {
     "name": "stdout",
     "output_type": "stream",
     "text": [
      "reg_loss tensor(1.0427, device='cuda:0', grad_fn=<AddBackward0>)\n"
     ]
    },
    {
     "name": "stderr",
     "output_type": "stream",
     "text": [
      "2024-06-02 00:46:52,538 - INFO - Epoch: 3, , Task 0 acc: 64.1741, Task 1 acc: 24.1938, Task 2 acc: 3.9152, Task 3 acc: 41.6118, Task 4 acc: 79.9677, Task avg acc:42.7725\n"
     ]
    },
    {
     "data": {
      "image/png": "[encoded data removed]",
      "text/plain": [
       "<Figure size 432x288 with 1 Axes>"
      ]
     },
     "metadata": {
      "needs_background": "light"
     },
     "output_type": "display_data"
    }
   ],
   "source": [
    "for key in train_settings.keys():\n",
    "    train_split_task(key)"
   ]
  },
  {
   "cell_type": "code",
   "execution_count": 17,
   "metadata": {},
   "outputs": [
    {
     "ename": "KeyError",
     "evalue": "'l2'",
     "output_type": "error",
     "traceback": [
      "\u001b[1;31m---------------------------------------------------------------------------\u001b[0m",
      "\u001b[1;31mKeyError\u001b[0m                                  Traceback (most recent call last)",
      "Input \u001b[1;32mIn [17]\u001b[0m, in \u001b[0;36m<cell line: 9>\u001b[1;34m()\u001b[0m\n\u001b[0;32m     10\u001b[0m plt\u001b[38;5;241m.\u001b[39msubplot(nrows, ncols, i \u001b[38;5;241m+\u001b[39m \u001b[38;5;241m1\u001b[39m)\n\u001b[0;32m     12\u001b[0m settings \u001b[38;5;241m=\u001b[39m train_settings[key]\n\u001b[1;32m---> 13\u001b[0m epochs, lr, l2, loss_type, factor \u001b[38;5;241m=\u001b[39m settings[\u001b[38;5;124m'\u001b[39m\u001b[38;5;124mepochs\u001b[39m\u001b[38;5;124m'\u001b[39m], settings[\u001b[38;5;124m'\u001b[39m\u001b[38;5;124mlr\u001b[39m\u001b[38;5;124m'\u001b[39m], \u001b[43msettings\u001b[49m\u001b[43m[\u001b[49m\u001b[38;5;124;43m'\u001b[39;49m\u001b[38;5;124;43ml2\u001b[39;49m\u001b[38;5;124;43m'\u001b[39;49m\u001b[43m]\u001b[49m, settings[\u001b[38;5;124m'\u001b[39m\u001b[38;5;124mloss_type\u001b[39m\u001b[38;5;124m'\u001b[39m], settings[\u001b[38;5;124m'\u001b[39m\u001b[38;5;124mfactor\u001b[39m\u001b[38;5;124m'\u001b[39m]\n\u001b[0;32m     15\u001b[0m file_name \u001b[38;5;241m=\u001b[39m \u001b[38;5;124mf\u001b[39m\u001b[38;5;124m\"\u001b[39m\u001b[38;5;132;01m{\u001b[39;00moutput_dir\u001b[38;5;132;01m}\u001b[39;00m\u001b[38;5;124m/\u001b[39m\u001b[38;5;132;01m{\u001b[39;00mkey\u001b[38;5;132;01m}\u001b[39;00m\u001b[38;5;124m_epochs=\u001b[39m\u001b[38;5;132;01m{\u001b[39;00mepochs\u001b[38;5;132;01m}\u001b[39;00m\u001b[38;5;124m_lr=\u001b[39m\u001b[38;5;132;01m{\u001b[39;00mlr\u001b[38;5;132;01m}\u001b[39;00m\u001b[38;5;124m_factor=\u001b[39m\u001b[38;5;132;01m{\u001b[39;00mfactor\u001b[38;5;132;01m}\u001b[39;00m\u001b[38;5;124m_l2=\u001b[39m\u001b[38;5;132;01m{\u001b[39;00ml2\u001b[38;5;132;01m}\u001b[39;00m\u001b[38;5;124m.png\u001b[39m\u001b[38;5;124m\"\u001b[39m\n\u001b[0;32m     16\u001b[0m \u001b[38;5;28;01mtry\u001b[39;00m:\n",
      "\u001b[1;31mKeyError\u001b[0m: 'l2'"
     ]
    },
    {
     "data": {
      "image/png": "[encoded data removed]",
      "text/plain": [
       "<Figure size 1512x288 with 1 Axes>"
      ]
     },
     "metadata": {
      "needs_background": "light"
     },
     "output_type": "display_data"
    }
   ],
   "source": [
    "from PIL import Image\n",
    "import matplotlib.pyplot as plt\n",
    "import math\n",
    "\n",
    "ncols = 3\n",
    "nrows = math.ceil(len(train_settings.keys()) / 3.)\n",
    "\n",
    "plt.figure(figsize=(21, 4 * nrows))  # Adjust the figure size based on the number of rows\n",
    "for i, key in enumerate(train_settings.keys()):\n",
    "    plt.subplot(nrows, ncols, i + 1)\n",
    "\n",
    "    settings = train_settings[key]\n",
    "    epochs, lr, l2, loss_type, factor = settings['epochs'], settings['lr'], settings['l2'], settings['loss_type'], settings['factor']\n",
    "\n",
    "    file_name = f\"{output_dir}/{key}_epochs={epochs}_lr={lr}_factor={factor}_l2={l2}.png\"\n",
    "    try:\n",
    "        with Image.open(file_name) as img:\n",
    "            plt.imshow(img)\n",
    "            plt.title(f\"{key}_factor={factor}.png\")\n",
    "            plt.axis('off')\n",
    "    except FileNotFoundError:\n",
    "        print(f\"Error: The file '{file_name}' does not exist.\")\n",
    "plt.tight_layout()\n",
    "plt.show()  # Move plt.show() outside the loop to display all subplots at once\n"
   ]
  }
 ],
 "metadata": {
  "kernelspec": {
   "display_name": "ml",
   "language": "python",
   "name": "python3"
  },
  "language_info": {
   "codemirror_mode": {
    "name": "ipython",
    "version": 3
   },
   "file_extension": ".py",
   "mimetype": "text/x-python",
   "name": "python",
   "nbconvert_exporter": "python",
   "pygments_lexer": "ipython3",
   "version": "3.8.12"
  }
 },
 "nbformat": 4,
 "nbformat_minor": 2
}
