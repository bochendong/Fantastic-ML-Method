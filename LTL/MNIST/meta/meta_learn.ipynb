{
 "cells": [
  {
   "cell_type": "code",
   "execution_count": 1,
   "metadata": {},
   "outputs": [
    {
     "name": "stderr",
     "output_type": "stream",
     "text": [
      "/Users/dongpochen/opt/anaconda3/envs/torch/lib/python3.9/site-packages/tqdm/auto.py:21: TqdmWarning: IProgress not found. Please update jupyter and ipywidgets. See https://ipywidgets.readthedocs.io/en/stable/user_install.html\n",
      "  from .autonotebook import tqdm as notebook_tqdm\n"
     ]
    }
   ],
   "source": [
    "import torch\n",
    "import torch.nn as nn\n",
    "import torch.nn.functional as F\n",
    "\n",
    "import torch\n",
    "import os\n",
    "import torch.nn.init as init\n",
    "from torchvision import datasets, transforms\n",
    "from torch import optim, nn\n",
    "from torch.utils.data import DataLoader, Subset\n",
    "import matplotlib.pyplot as plt\n",
    "import logging\n",
    "import math\n",
    "import copy"
   ]
  },
  {
   "cell_type": "code",
   "execution_count": 2,
   "metadata": {},
   "outputs": [],
   "source": [
    "batch_size = 128\n",
    "device = torch.device(\"cuda\" if torch.cuda.is_available() else \"cpu\")\n",
    "output_dir = './output'"
   ]
  },
  {
   "cell_type": "code",
   "execution_count": 3,
   "metadata": {},
   "outputs": [],
   "source": [
    "def adjust_learning_rate(optimizer):\n",
    "    for param_group in optimizer.param_groups:\n",
    "        param_group['lr'] = 0.75 * param_group['lr']"
   ]
  },
  {
   "cell_type": "markdown",
   "metadata": {},
   "source": [
    "# Dataloader"
   ]
  },
  {
   "cell_type": "code",
   "execution_count": 4,
   "metadata": {},
   "outputs": [],
   "source": [
    "tf = transforms.Compose([\n",
    "        transforms.ToTensor(),\n",
    "        transforms.Normalize([0.5], [0.5]),\n",
    "    ])"
   ]
  },
  {
   "cell_type": "code",
   "execution_count": 5,
   "metadata": {},
   "outputs": [],
   "source": [
    "def task_dataloader(task_num):\n",
    "    task_dir = {0: [0, 1], 1: [2, 3], 2: [4, 5], 3: [6, 7], 4:[8, 9]}\n",
    "\n",
    "    train_dataset = datasets.MNIST(root='data', train=True, download=True, transform=tf)\n",
    "\n",
    "    indices = [i for i, (_, label) in enumerate(train_dataset) if label in task_dir[task_num]]\n",
    "    dataset = Subset(train_dataset, indices)\n",
    "    task_train_loader = DataLoader(dataset, batch_size=batch_size, shuffle=False, drop_last=True)\n",
    "\n",
    "    test_dataset = datasets.MNIST(root='./data', train=False, transform=tf, download=True)\n",
    "    indices = [i for i, (_, label) in enumerate(test_dataset) if label in task_dir[task_num]]\n",
    "    dataset = Subset(test_dataset, indices)\n",
    "    task_test_loader = DataLoader(dataset, batch_size=batch_size, shuffle=False, drop_last=True)\n",
    "\n",
    "    return task_train_loader, task_test_loader\n",
    "\n",
    "def load_all_data():\n",
    "    train_dataset = datasets.MNIST(root='./data', train=True, transform=tf, download=True)\n",
    "    train_loader = DataLoader(dataset=train_dataset, batch_size=batch_size, shuffle=False, drop_last=True)\n",
    "\n",
    "    test_dataset = datasets.MNIST(root='./data', train=False, transform=tf, download=True)\n",
    "    test_loader = DataLoader(dataset=test_dataset, batch_size=batch_size, shuffle=False, drop_last=True)\n",
    "\n",
    "    return train_loader, test_loader"
   ]
  },
  {
   "cell_type": "code",
   "execution_count": 6,
   "metadata": {},
   "outputs": [],
   "source": [
    "train_loader, test_loader = load_all_data()\n",
    "task_dataloaders = {}\n",
    "for task in range(0, 5):\n",
    "    train_dl, test_ld = task_dataloader(task)\n",
    "    task_dataloaders[task] = (train_dl, test_ld)"
   ]
  },
  {
   "cell_type": "markdown",
   "metadata": {},
   "source": [
    "# Model"
   ]
  },
  {
   "cell_type": "code",
   "execution_count": 7,
   "metadata": {},
   "outputs": [],
   "source": [
    "class DeepModelWithAttention(nn.Module):\n",
    "    def __init__(self, desired_sum):\n",
    "        super(DeepModelWithAttention, self).__init__()\n",
    "        self.desired_sum = desired_sum\n",
    "\n",
    "        self.attn = nn.MultiheadAttention(embed_dim=2, num_heads= 1)\n",
    "        self.fc = nn.Linear(2, 1)\n",
    "        \n",
    "    def forward(self, x):\n",
    "        attn_output, _ = self.attn(x, x, x)\n",
    "        attn_output = attn_output.mean(dim = 1)\n",
    "        output = self.fc(attn_output).squeeze(-1) \n",
    "        \n",
    "        output = F.softmax(output, dim = 0) * self.desired_sum\n",
    "\n",
    "        return output"
   ]
  },
  {
   "cell_type": "code",
   "execution_count": 8,
   "metadata": {},
   "outputs": [],
   "source": [
    "class MLP_Enhance(nn.Module):\n",
    "    def __init__(self, out_dim=10, in_channel=1, img_sz=28, hidden_dim=400):\n",
    "        super(MLP_Enhance, self).__init__()\n",
    "        self.in_dim = in_channel*img_sz*img_sz\n",
    "        self.linear = nn.Sequential(\n",
    "            nn.Linear(self.in_dim, hidden_dim),\n",
    "            nn.BatchNorm1d(hidden_dim),\n",
    "            nn.ReLU(inplace=True),\n",
    "            nn.Linear(hidden_dim, hidden_dim),\n",
    "            nn.BatchNorm1d(hidden_dim),\n",
    "            nn.ReLU(inplace=True),\n",
    "        )\n",
    "        self.last = nn.Sequential(\n",
    "            nn.Linear(hidden_dim, out_dim),\n",
    "            nn.Softmax(dim=1)\n",
    "        )\n",
    "        self.init_weights()\n",
    "\n",
    "    def init_weights(self):\n",
    "        for layer in self.linear:\n",
    "            if isinstance(layer, nn.Linear):\n",
    "                init.kaiming_normal_(layer.weight, mode='fan_out', nonlinearity='relu')\n",
    "                init.constant_(layer.bias, 0)\n",
    "        last_linear = self.last[0]\n",
    "        init.xavier_normal_(last_linear.weight)\n",
    "        init.constant_(last_linear.bias, 0)\n",
    "\n",
    "\n",
    "    def features(self, x):\n",
    "        x = self.linear(x.view(-1,self.in_dim))\n",
    "        return x\n",
    "\n",
    "    def logits(self, x):\n",
    "        x = self.last(x)\n",
    "        return x\n",
    "\n",
    "    def forward(self, x):\n",
    "        x = self.features(x)\n",
    "        x = self.logits(x)\n",
    "        return x"
   ]
  },
  {
   "cell_type": "code",
   "execution_count": 9,
   "metadata": {},
   "outputs": [],
   "source": [
    "def cal_acc(model, dataloader, device):\n",
    "    model.eval()\n",
    "    correct, total = 0., 0.\n",
    "    with torch.no_grad():\n",
    "        for images, labels in dataloader:\n",
    "            images, labels = images.to(device), labels.to(device)\n",
    "            outputs = model(images)\n",
    "            _, predicted = torch.max(outputs.data, 1)\n",
    "            total += labels.size(0)\n",
    "            correct += (predicted == labels).sum().item()\n",
    "\n",
    "    return correct / total"
   ]
  },
  {
   "cell_type": "code",
   "execution_count": 10,
   "metadata": {},
   "outputs": [],
   "source": [
    "def plot_acc_history(all_accuracies):\n",
    "    plt.figure(figsize=(18, 12))\n",
    "\n",
    "    for i, task_accuracies in enumerate(all_accuracies):\n",
    "        plt.subplot(2, 3, i+1)\n",
    "        for task, accs in task_accuracies.items():\n",
    "            plt.plot(accs,'-', label=f'Task {task}')\n",
    "        plt.title(f'Accuracy per Mini-Batch for Task {i}')\n",
    "        plt.xlabel('Mini-Batch Number')\n",
    "        plt.ylabel('Accuracy (%)')\n",
    "        plt.ylim(-5, 105)\n",
    "        plt.legend()\n",
    "        plt.grid(True)\n",
    "\n",
    "    plt.tight_layout()\n",
    "    plt.show()\n",
    "\n",
    "\n",
    "def plot_task_acc_history(all_accuracies, save_name, epochs):\n",
    "    for task in [0, 1, 2, 3, 4]:\n",
    "        if (task == 0):\n",
    "            task_history = []\n",
    "        else:\n",
    "            task_history =  [0] * (epochs * task)\n",
    "        for i, task_accuracies in enumerate (all_accuracies):\n",
    "            if (i >= task):\n",
    "                task_history.extend(task_accuracies[task])\n",
    "                    \n",
    "        plt.plot(task_history, '-', label=f'Task {task}')\n",
    "\n",
    "    plt.xlabel('Mini-Batch Number')\n",
    "    plt.ylabel('Accuracy (%)')\n",
    "    plt.ylim(-5, 105)\n",
    "    plt.legend()\n",
    "    plt.grid(True)\n",
    "    plt.tight_layout()\n",
    "    plt.savefig(save_name) \n",
    "    plt.show()"
   ]
  },
  {
   "cell_type": "markdown",
   "metadata": {},
   "source": [
    "# Train Function"
   ]
  },
  {
   "cell_type": "code",
   "execution_count": 11,
   "metadata": {},
   "outputs": [],
   "source": [
    "def pretrain_meta(meta_model, optimizer_M, task_num):\n",
    "    target = torch.full((task_num, 1, 1), 2.0).to(device)\n",
    "    criterion = nn.MSELoss()\n",
    "\n",
    "    print(\"Pretrain on meta_model\")\n",
    "    for epoch in range(400):\n",
    "        prev_outputs = None\n",
    "        for k in range (task_num):\n",
    "            past_output = F.softmax(torch.rand(batch_size, 10), dim=-1).to(device)\n",
    "            outputs = F.softmax(torch.rand(batch_size, 10), dim=-1).to(device)\n",
    "            diff = past_output[:,k*2:k * 2 + 2] - outputs[:,k*2:k * 2 + 2]\n",
    "            diff = diff.unsqueeze(0)\n",
    "            if (prev_outputs == None):\n",
    "                prev_outputs = diff\n",
    "            else:\n",
    "                prev_outputs = torch.cat((prev_outputs, diff), dim=0)\n",
    "\n",
    "        meta_out = meta_model(prev_outputs).view(-1, 1, 1 )\n",
    "\n",
    "        meta_model.train()\n",
    "        optimizer_M.zero_grad()\n",
    "        loss = criterion(meta_out, target)\n",
    "        loss.backward()\n",
    "        optimizer_M.step()\n",
    "        \n",
    "        '''if((epoch + 1) % 100 == 0):\n",
    "            print(f'Epoch [{epoch+1}/{400}], Loss: {loss.item():.4f}')'''"
   ]
  },
  {
   "cell_type": "code",
   "execution_count": 12,
   "metadata": {},
   "outputs": [
    {
     "name": "stdout",
     "output_type": "stream",
     "text": [
      "Pretrain on meta_model\n"
     ]
    }
   ],
   "source": [
    "task_num = 1\n",
    "meta_model = DeepModelWithAttention(desired_sum = 2 * task_num).to(device)\n",
    "optimizer_M = optim.Adam(meta_model.parameters(), lr=0.001)\n",
    "pretrain_meta(meta_model, optimizer_M, task_num)"
   ]
  },
  {
   "cell_type": "code",
   "execution_count": 13,
   "metadata": {},
   "outputs": [
    {
     "name": "stdout",
     "output_type": "stream",
     "text": [
      "tensor(2.4168)\n"
     ]
    }
   ],
   "source": [
    "s = torch.rand(4, 2)\n",
    "\n",
    "a = torch.rand(4, 2)\n",
    "b = torch.rand(4, 2)\n",
    "c = torch.rand(4, 2)\n",
    "\n",
    "l1 = 2 * torch.mean(torch.abs(a - s)) + 2 * torch.mean(torch.abs(b - s)) + 2 * torch.mean(torch.abs(c - s))\n",
    "print(l1)"
   ]
  },
  {
   "cell_type": "code",
   "execution_count": 14,
   "metadata": {},
   "outputs": [
    {
     "name": "stdout",
     "output_type": "stream",
     "text": [
      "torch.Size([3, 4, 2])\n",
      "tensor(2.4168)\n"
     ]
    }
   ],
   "source": [
    "diff_1 = torch.abs(a - s)\n",
    "diff_2 = torch.abs(b - s)\n",
    "diff_3 = torch.abs(c - s)\n",
    "\n",
    "diff_1 = diff_1.unsqueeze(0)\n",
    "diff_2 = diff_2.unsqueeze(0)\n",
    "diff_3 = diff_3.unsqueeze(0)\n",
    "\n",
    "diff = torch.cat((diff_1, diff_2), dim=0)\n",
    "diff = torch.cat((diff, diff_3), dim=0)\n",
    "\n",
    "print(diff.size())\n",
    "mean_diff = torch.mean(diff, dim = (1, 2))\n",
    "l2 = torch.sum(2 * mean_diff)\n",
    "print(l2)"
   ]
  },
  {
   "cell_type": "code",
   "execution_count": 24,
   "metadata": {},
   "outputs": [],
   "source": [
    "def train(model, task_num, criterion, optimizer, prev_models, task_dataloaders, epoches = 4):\n",
    "    train_loader = task_dataloaders[task_num][0]\n",
    "    task_accuracies = {task: [] for task in range(task_num + 1)}\n",
    "    distribution_factor  = 20\n",
    "\n",
    "    if (task_num != 0):\n",
    "        meta_model = DeepModelWithAttention(desired_sum = 2 * task_num).to(device)\n",
    "        optimizer_M = optim.Adam(meta_model.parameters(), lr=0.001)\n",
    "        pretrain_meta(meta_model, optimizer_M, task_num)\n",
    "    \n",
    "    valid_out_dim = task_num * 2 + 2\n",
    "    logging.info(f\"##########Task {task_num}##########\")\n",
    "    for e in range(epoches):\n",
    "        logging.info(f\"Epoch {e}\")\n",
    "        batch_num = 0\n",
    "        for images, labels in train_loader:\n",
    "            model.train()\n",
    "            images, labels = images.to(device), labels.to(device)\n",
    "            outputs = model(images)\n",
    "\n",
    "            random_data = torch.rand(256, 1, 28, 28).to(device)\n",
    "            random_data = (random_data - 0.5) / 0.5\n",
    "            random_target = torch.randint(0, 10, (256,), dtype=torch.int64).to(device)\n",
    "            fake_output = model(random_data)\n",
    "            dis_loss = distribution_factor * criterion(fake_output, random_target)\n",
    "\n",
    "            reg_loss = 0\n",
    "            prev_outputs = None\n",
    "            \n",
    "            if (task_num != 0):\n",
    "                meta_model.eval()\n",
    "                for k, prev_mod in enumerate(prev_models):\n",
    "                    with torch.no_grad():\n",
    "                        past_output = prev_mod(images)\n",
    "                    diff = torch.abs(past_output[:,k*2:k * 2 + 2] - outputs[:,k*2:k * 2 + 2])\n",
    "                    diff = diff.unsqueeze(0)\n",
    "                    if (prev_outputs == None):\n",
    "                        prev_outputs = diff\n",
    "                    else:\n",
    "                        prev_outputs = torch.cat((prev_outputs, diff), dim=0)\n",
    "\n",
    "                with torch.no_grad():\n",
    "                    meta_out = meta_model(prev_outputs).view(-1, 1, 1)\n",
    "                    \n",
    "                mean_diff = torch.mean(prev_outputs, dim = (1, 2))\n",
    "                reg_loss = torch.sum(meta_out * mean_diff)\n",
    "                \n",
    "                if (batch_num == 0):\n",
    "                    # print(meta_out)\n",
    "                    print(mean_diff)\n",
    "            \n",
    "            classifiaction_loss = criterion(outputs[:,:valid_out_dim], labels) \n",
    "                    \n",
    "            loss = classifiaction_loss + dis_loss + reg_loss\n",
    "            optimizer.zero_grad()\n",
    "            loss.backward()\n",
    "            optimizer.step()\n",
    "\n",
    "            '''if (task_num != 0):\n",
    "                meta_model.train()\n",
    "                prev_outputs = None\n",
    "                with torch.no_grad():\n",
    "                    outputs = model(images)\n",
    "                for k, prev_mod in enumerate(prev_models):\n",
    "                    with torch.no_grad():\n",
    "                        past_output = prev_mod(images)\n",
    "                    \n",
    "                    diff = torch.abs(past_output[:,k*2:k * 2 + 2] - outputs[:,k*2:k * 2 + 2])\n",
    "                    diff = diff.unsqueeze(0)\n",
    "                    if (prev_outputs == None):\n",
    "                        prev_outputs = diff\n",
    "                    else:\n",
    "                        prev_outputs = torch.cat((prev_outputs, diff), dim=0)\n",
    "\n",
    "                meta_out = meta_model(prev_outputs).view(-1, 1, 1)\n",
    "\n",
    "                mean_diff = torch.mean(prev_outputs, dim = (1, 2))\n",
    "                meta_loss = torch.sum(meta_out * mean_diff)\n",
    "\n",
    "                optimizer_M.zero_grad()\n",
    "                meta_loss.backward()\n",
    "                optimizer_M.step()'''\n",
    "\n",
    "            batch_num += 1\n",
    "\n",
    "        avg_acc = 0\n",
    "        log_message = []\n",
    "        log_message.append(f\"Epoch: {e}, \")\n",
    "        for task in range(task_num + 1):\n",
    "            acc = cal_acc(model, task_dataloaders[task][0], device)\n",
    "            avg_acc += acc\n",
    "            task_accuracies[task].append(acc * 100)\n",
    "            log_message.append(f\"Task {task} acc: {acc * 100:.4f}\")\n",
    "\n",
    "        logging.info(', '.join(log_message) + f\", Task avg acc:{avg_acc*100/(task_num + 1):.4f}\")\n",
    "        if(task_num != 0):\n",
    "            logging.info(f'loss:{loss.item()}, c_loss: {classifiaction_loss: .4f}, reg_loss:{reg_loss:.4f}')\n",
    "    \n",
    "    return task_accuracies"
   ]
  },
  {
   "cell_type": "markdown",
   "metadata": {},
   "source": [
    "# Train"
   ]
  },
  {
   "cell_type": "code",
   "execution_count": 25,
   "metadata": {},
   "outputs": [],
   "source": [
    "def setup_logging(file_name):\n",
    "    logging.basicConfig(level=logging.INFO,\n",
    "                        format='%(asctime)s - %(levelname)s - %(message)s',\n",
    "                        handlers=[\n",
    "                            logging.FileHandler(file_name),\n",
    "                            logging.StreamHandler()\n",
    "                        ],\n",
    "                        force=True)\n",
    "    \n",
    "\n",
    "def train_split_task(task_name, task_dataloaders):\n",
    "    print(f\"Training on {task_name}\")\n",
    "    prev_models = []\n",
    "    model = MLP_Enhance()\n",
    "    model = model.to(device)\n",
    "    optimizer = torch.optim.Adam(model.parameters(), lr = 0.005)\n",
    "    criterion = nn.CrossEntropyLoss()\n",
    "\n",
    "    epochs, lr = 4, 0.005\n",
    "    file_name = f\"{output_dir}/{task_name}_epochs={epochs}\"\n",
    "    log_file_name = file_name + '.log'\n",
    "    img_file_name = file_name + '.png'\n",
    "\n",
    "    setup_logging(log_file_name)\n",
    "    all_accuracies = []\n",
    "    for task in [0, 1, 2, 3, 4]:\n",
    "        task_accuracies = train(model, task, criterion, optimizer, prev_models, task_dataloaders, epoches = epochs)\n",
    "        all_accuracies.append(task_accuracies)\n",
    "        prev_models.append(copy.deepcopy(model))\n",
    "\n",
    "    plot_task_acc_history(all_accuracies, img_file_name, epochs)"
   ]
  },
  {
   "cell_type": "code",
   "execution_count": 26,
   "metadata": {},
   "outputs": [
    {
     "name": "stderr",
     "output_type": "stream",
     "text": [
      "2024-06-02 10:16:07,758 - INFO - ##########Task 0##########\n",
      "2024-06-02 10:16:07,760 - INFO - Epoch 0\n"
     ]
    },
    {
     "name": "stdout",
     "output_type": "stream",
     "text": [
      "Training on 0\n"
     ]
    },
    {
     "name": "stderr",
     "output_type": "stream",
     "text": [
      "2024-06-02 10:16:16,827 - INFO - Epoch: 0, , Task 0 acc: 93.0564, Task avg acc:93.0564\n",
      "2024-06-02 10:16:16,829 - INFO - Epoch 1\n",
      "2024-06-02 10:16:26,309 - INFO - Epoch: 1, , Task 0 acc: 96.9069, Task avg acc:96.9069\n",
      "2024-06-02 10:16:26,310 - INFO - Epoch 2\n",
      "2024-06-02 10:16:35,780 - INFO - Epoch: 2, , Task 0 acc: 97.9512, Task avg acc:97.9512\n",
      "2024-06-02 10:16:35,782 - INFO - Epoch 3\n",
      "2024-06-02 10:16:45,238 - INFO - Epoch: 3, , Task 0 acc: 97.9034, Task avg acc:97.9034\n"
     ]
    },
    {
     "name": "stdout",
     "output_type": "stream",
     "text": [
      "Pretrain on meta_model\n"
     ]
    },
    {
     "name": "stderr",
     "output_type": "stream",
     "text": [
      "2024-06-02 10:16:46,223 - INFO - ##########Task 1##########\n",
      "2024-06-02 10:16:46,224 - INFO - Epoch 0\n"
     ]
    },
    {
     "name": "stdout",
     "output_type": "stream",
     "text": [
      "tensor([[[2.]]])\n",
      "tensor([0.0847], grad_fn=<MeanBackward1>)\n"
     ]
    },
    {
     "name": "stderr",
     "output_type": "stream",
     "text": [
      "2024-06-02 10:16:59,314 - INFO - Epoch: 0, , Task 0 acc: 85.3555, Task 1 acc: 84.9900, Task avg acc:85.1728\n",
      "2024-06-02 10:16:59,317 - INFO - loss:47.17885208129883, reg_loss:0.1346\n",
      "2024-06-02 10:16:59,319 - INFO - Epoch 1\n"
     ]
    },
    {
     "name": "stdout",
     "output_type": "stream",
     "text": [
      "tensor([[[2.]]])\n",
      "tensor([0.0762], grad_fn=<MeanBackward1>)\n"
     ]
    },
    {
     "name": "stderr",
     "output_type": "stream",
     "text": [
      "2024-06-02 10:17:12,994 - INFO - Epoch: 1, , Task 0 acc: 67.7854, Task 1 acc: 77.4102, Task avg acc:72.5978\n",
      "2024-06-02 10:17:12,997 - INFO - loss:47.15931701660156, reg_loss:0.1534\n",
      "2024-06-02 10:17:12,998 - INFO - Epoch 2\n"
     ]
    },
    {
     "name": "stdout",
     "output_type": "stream",
     "text": [
      "tensor([[[2.]]])\n",
      "tensor([0.0834], grad_fn=<MeanBackward1>)\n"
     ]
    },
    {
     "name": "stderr",
     "output_type": "stream",
     "text": [
      "2024-06-02 10:17:25,906 - INFO - Epoch: 2, , Task 0 acc: 57.3661, Task 1 acc: 92.8191, Task avg acc:75.0926\n",
      "2024-06-02 10:17:25,907 - INFO - loss:47.10131072998047, reg_loss:0.1724\n",
      "2024-06-02 10:17:25,908 - INFO - Epoch 3\n"
     ]
    },
    {
     "name": "stdout",
     "output_type": "stream",
     "text": [
      "tensor([[[2.]]])\n",
      "tensor([0.1082], grad_fn=<MeanBackward1>)\n"
     ]
    },
    {
     "name": "stderr",
     "output_type": "stream",
     "text": [
      "2024-06-02 10:17:38,695 - INFO - Epoch: 3, , Task 0 acc: 61.7746, Task 1 acc: 88.7051, Task avg acc:75.2398\n",
      "2024-06-02 10:17:38,697 - INFO - loss:47.25305938720703, reg_loss:0.1654\n"
     ]
    },
    {
     "name": "stdout",
     "output_type": "stream",
     "text": [
      "Pretrain on meta_model\n"
     ]
    },
    {
     "name": "stderr",
     "output_type": "stream",
     "text": [
      "2024-06-02 10:17:39,985 - INFO - ##########Task 2##########\n",
      "2024-06-02 10:17:39,987 - INFO - Epoch 0\n"
     ]
    },
    {
     "name": "stdout",
     "output_type": "stream",
     "text": [
      "tensor([[[2.0000]],\n",
      "\n",
      "        [[2.0000]]])\n",
      "tensor([0.1008, 0.0950], grad_fn=<MeanBackward1>)\n"
     ]
    },
    {
     "name": "stderr",
     "output_type": "stream",
     "text": [
      "2024-06-02 10:17:55,724 - INFO - Epoch: 0, , Task 0 acc: 79.4404, Task 1 acc: 67.6031, Task 2 acc: 44.1810, Task avg acc:63.7415\n",
      "2024-06-02 10:17:55,726 - INFO - loss:48.73862838745117, reg_loss:0.5964\n",
      "2024-06-02 10:17:55,727 - INFO - Epoch 1\n"
     ]
    },
    {
     "name": "stdout",
     "output_type": "stream",
     "text": [
      "tensor([[[2.0000]],\n",
      "\n",
      "        [[2.0000]]])\n",
      "tensor([0.0717, 0.0656], grad_fn=<MeanBackward1>)\n"
     ]
    },
    {
     "name": "stderr",
     "output_type": "stream",
     "text": [
      "2024-06-02 10:18:11,373 - INFO - Epoch: 1, , Task 0 acc: 72.3772, Task 1 acc: 62.9239, Task 2 acc: 35.8746, Task avg acc:57.0586\n",
      "2024-06-02 10:18:11,375 - INFO - loss:48.590431213378906, reg_loss:0.6256\n",
      "2024-06-02 10:18:11,376 - INFO - Epoch 2\n"
     ]
    },
    {
     "name": "stdout",
     "output_type": "stream",
     "text": [
      "tensor([[[2.0000]],\n",
      "\n",
      "        [[2.0000]]])\n",
      "tensor([0.0655, 0.0753], grad_fn=<MeanBackward1>)\n"
     ]
    },
    {
     "name": "stderr",
     "output_type": "stream",
     "text": [
      "2024-06-02 10:18:27,007 - INFO - Epoch: 2, , Task 0 acc: 68.7022, Task 1 acc: 62.0761, Task 2 acc: 34.6354, Task avg acc:55.1379\n",
      "2024-06-02 10:18:27,008 - INFO - loss:48.47640609741211, reg_loss:0.5862\n",
      "2024-06-02 10:18:27,010 - INFO - Epoch 3\n"
     ]
    },
    {
     "name": "stdout",
     "output_type": "stream",
     "text": [
      "tensor([[[2.0000]],\n",
      "\n",
      "        [[2.0000]]])\n",
      "tensor([0.0667, 0.0656], grad_fn=<MeanBackward1>)\n"
     ]
    },
    {
     "name": "stderr",
     "output_type": "stream",
     "text": [
      "2024-06-02 10:18:42,742 - INFO - Epoch: 3, , Task 0 acc: 79.3846, Task 1 acc: 55.9009, Task 2 acc: 33.2435, Task avg acc:56.1763\n",
      "2024-06-02 10:18:42,744 - INFO - loss:48.57704544067383, reg_loss:0.6088\n"
     ]
    },
    {
     "name": "stdout",
     "output_type": "stream",
     "text": [
      "Pretrain on meta_model\n"
     ]
    },
    {
     "name": "stderr",
     "output_type": "stream",
     "text": [
      "2024-06-02 10:18:44,135 - INFO - ##########Task 3##########\n",
      "2024-06-02 10:18:44,137 - INFO - Epoch 0\n"
     ]
    },
    {
     "name": "stdout",
     "output_type": "stream",
     "text": [
      "tensor([[[2.0000]],\n",
      "\n",
      "        [[2.0000]],\n",
      "\n",
      "        [[2.0000]]])\n",
      "tensor([0.0823, 0.1982, 0.1208], grad_fn=<MeanBackward1>)\n"
     ]
    },
    {
     "name": "stderr",
     "output_type": "stream",
     "text": [
      "2024-06-02 10:19:04,056 - INFO - Epoch: 0, , Task 0 acc: 88.4008, Task 1 acc: 56.6406, Task 2 acc: 18.3190, Task 3 acc: 30.7812, Task avg acc:48.5354\n",
      "2024-06-02 10:19:04,057 - INFO - loss:49.4587516784668, reg_loss:1.0631\n",
      "2024-06-02 10:19:04,058 - INFO - Epoch 1\n"
     ]
    },
    {
     "name": "stdout",
     "output_type": "stream",
     "text": [
      "tensor([[[2.0000]],\n",
      "\n",
      "        [[2.0000]],\n",
      "\n",
      "        [[2.0000]]])\n",
      "tensor([0.0741, 0.0822, 0.0302], grad_fn=<MeanBackward1>)\n"
     ]
    },
    {
     "name": "stderr",
     "output_type": "stream",
     "text": [
      "2024-06-02 10:19:23,927 - INFO - Epoch: 1, , Task 0 acc: 73.9238, Task 1 acc: 54.9451, Task 2 acc: 20.9142, Task 3 acc: 20.6908, Task avg acc:42.6185\n",
      "2024-06-02 10:19:23,930 - INFO - loss:49.38512420654297, reg_loss:1.0600\n",
      "2024-06-02 10:19:23,931 - INFO - Epoch 2\n"
     ]
    },
    {
     "name": "stdout",
     "output_type": "stream",
     "text": [
      "tensor([[[2.0000]],\n",
      "\n",
      "        [[2.0000]],\n",
      "\n",
      "        [[2.0000]]])\n",
      "tensor([0.0697, 0.0677, 0.0266], grad_fn=<MeanBackward1>)\n"
     ]
    },
    {
     "name": "stderr",
     "output_type": "stream",
     "text": [
      "2024-06-02 10:19:46,248 - INFO - Epoch: 2, , Task 0 acc: 70.7669, Task 1 acc: 46.6838, Task 2 acc: 19.8006, Task 3 acc: 21.7270, Task avg acc:39.7446\n",
      "2024-06-02 10:19:46,251 - INFO - loss:49.40155792236328, reg_loss:1.0397\n",
      "2024-06-02 10:19:46,252 - INFO - Epoch 3\n"
     ]
    },
    {
     "name": "stdout",
     "output_type": "stream",
     "text": [
      "tensor([[[2.0000]],\n",
      "\n",
      "        [[2.0000]],\n",
      "\n",
      "        [[2.0000]]])\n",
      "tensor([0.0628, 0.0711, 0.0244], grad_fn=<MeanBackward1>)\n"
     ]
    },
    {
     "name": "stderr",
     "output_type": "stream",
     "text": [
      "2024-06-02 10:20:08,213 - INFO - Epoch: 3, , Task 0 acc: 65.0829, Task 1 acc: 52.7676, Task 2 acc: 19.6929, Task 3 acc: 11.7434, Task avg acc:37.3217\n",
      "2024-06-02 10:20:08,221 - INFO - loss:49.337825775146484, reg_loss:1.0122\n"
     ]
    },
    {
     "name": "stdout",
     "output_type": "stream",
     "text": [
      "Pretrain on meta_model\n"
     ]
    },
    {
     "name": "stderr",
     "output_type": "stream",
     "text": [
      "2024-06-02 10:20:09,850 - INFO - ##########Task 4##########\n",
      "2024-06-02 10:20:09,852 - INFO - Epoch 0\n"
     ]
    },
    {
     "name": "stdout",
     "output_type": "stream",
     "text": [
      "tensor([[[1.9999]],\n",
      "\n",
      "        [[2.0003]],\n",
      "\n",
      "        [[2.0000]],\n",
      "\n",
      "        [[1.9998]]])\n",
      "tensor([0.0769, 0.1682, 0.0920, 0.0675], grad_fn=<MeanBackward1>)\n"
     ]
    },
    {
     "name": "stderr",
     "output_type": "stream",
     "text": [
      "2024-06-02 10:20:34,506 - INFO - Epoch: 0, , Task 0 acc: 69.8740, Task 1 acc: 46.0771, Task 2 acc: 20.6358, Task 3 acc: 17.9770, Task 4 acc: 4.9677, Task avg acc:31.9063\n",
      "2024-06-02 10:20:34,513 - INFO - loss:50.672706604003906, reg_loss:2.0823\n",
      "2024-06-02 10:20:34,514 - INFO - Epoch 1\n"
     ]
    },
    {
     "name": "stdout",
     "output_type": "stream",
     "text": [
      "tensor([[[2.0000]],\n",
      "\n",
      "        [[2.0001]],\n",
      "\n",
      "        [[2.0000]],\n",
      "\n",
      "        [[2.0000]]])\n",
      "tensor([0.0467, 0.0592, 0.0601, 0.0362], grad_fn=<MeanBackward1>)\n"
     ]
    },
    {
     "name": "stderr",
     "output_type": "stream",
     "text": [
      "2024-06-02 10:20:59,140 - INFO - Epoch: 1, , Task 0 acc: 70.1132, Task 1 acc: 56.0256, Task 2 acc: 22.1085, Task 3 acc: 11.8750, Task 4 acc: 9.7826, Task avg acc:33.9810\n",
      "2024-06-02 10:20:59,142 - INFO - loss:50.51481628417969, reg_loss:2.0440\n",
      "2024-06-02 10:20:59,143 - INFO - Epoch 2\n"
     ]
    },
    {
     "name": "stdout",
     "output_type": "stream",
     "text": [
      "tensor([[[2.0000]],\n",
      "\n",
      "        [[2.0001]],\n",
      "\n",
      "        [[2.0000]],\n",
      "\n",
      "        [[2.0000]]])\n",
      "tensor([0.0465, 0.0611, 0.0632, 0.0354], grad_fn=<MeanBackward1>)\n"
     ]
    },
    {
     "name": "stderr",
     "output_type": "stream",
     "text": [
      "2024-06-02 10:21:22,829 - INFO - Epoch: 2, , Task 0 acc: 75.9885, Task 1 acc: 54.8787, Task 2 acc: 22.8718, Task 3 acc: 11.6447, Task 4 acc: 4.6620, Task avg acc:34.0091\n",
      "2024-06-02 10:21:22,830 - INFO - loss:50.526737213134766, reg_loss:1.8949\n",
      "2024-06-02 10:21:22,832 - INFO - Epoch 3\n"
     ]
    },
    {
     "name": "stdout",
     "output_type": "stream",
     "text": [
      "tensor([[[1.9999]],\n",
      "\n",
      "        [[2.0001]],\n",
      "\n",
      "        [[2.0000]],\n",
      "\n",
      "        [[2.0000]]])\n",
      "tensor([0.0373, 0.0618, 0.0463, 0.0405], grad_fn=<MeanBackward1>)\n"
     ]
    },
    {
     "name": "stderr",
     "output_type": "stream",
     "text": [
      "2024-06-02 10:21:51,846 - INFO - Epoch: 3, , Task 0 acc: 77.0169, Task 1 acc: 53.5156, Task 2 acc: 21.1386, Task 3 acc: 14.3174, Task 4 acc: 9.8251, Task avg acc:35.1627\n",
      "2024-06-02 10:21:51,853 - INFO - loss:50.34566116333008, reg_loss:1.7890\n"
     ]
    },
    {
     "data": {
      "image/png": "[encoded data removed]",
      "text/plain": [
       "<Figure size 640x480 with 1 Axes>"
      ]
     },
     "metadata": {},
     "output_type": "display_data"
    }
   ],
   "source": [
    "train_split_task(\"0\", task_dataloaders)"
   ]
  }
 ],
 "metadata": {
  "kernelspec": {
   "display_name": "ml",
   "language": "python",
   "name": "python3"
  },
  "language_info": {
   "codemirror_mode": {
    "name": "ipython",
    "version": 3
   },
   "file_extension": ".py",
   "mimetype": "text/x-python",
   "name": "python",
   "nbconvert_exporter": "python",
   "pygments_lexer": "ipython3",
   "version": "3.9.12"
  }
 },
 "nbformat": 4,
 "nbformat_minor": 2
}
