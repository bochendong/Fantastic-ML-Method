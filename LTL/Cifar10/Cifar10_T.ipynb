{
  "cells": [
    {
      "cell_type": "code",
      "execution_count": 1,
      "metadata": {
        "id": "OT8NfOcbkbzR"
      },
      "outputs": [],
      "source": [
        "import torch\n",
        "import torch.nn as nn\n",
        "from torch.autograd import Variable\n",
        "import torch.optim as optim\n",
        "import numpy as np\n",
        "import math\n",
        "import torch.backends.cudnn as cudnn\n",
        "import copy\n",
        "from torch.autograd import Function\n",
        "import torchvision\n",
        "import torchvision.transforms as transforms\n",
        "import matplotlib.pyplot as plt\n",
        "from torch.utils.data import DataLoader, random_split\n",
        "import os"
      ]
    },
    {
      "cell_type": "code",
      "execution_count": 2,
      "metadata": {
        "id": "-DsLK_NnkbzR"
      },
      "outputs": [],
      "source": [
        "device = torch.device('cuda' if torch.cuda.is_available() else 'cpu')\n",
        "\n",
        "batch_size = 256\n",
        "image_size = 28*28\n",
        "alpha = 0.005\n",
        "DANN_EPOCHES = 50\n",
        "DANN_TRAINING_BATCH = 40\n",
        "dann_path = 'dann.pth'"
      ]
    },
    {
      "cell_type": "code",
      "execution_count": 3,
      "metadata": {
        "colab": {
          "base_uri": "https://localhost:8080/"
        },
        "id": "Rzl9AkwhkbzR",
        "outputId": "ceec5923-7085-42c8-a3af-c3034d429f93"
      },
      "outputs": [
        {
          "name": "stdout",
          "output_type": "stream",
          "text": [
            "Downloading https://www.cs.toronto.edu/~kriz/cifar-10-python.tar.gz to ./data/cifar-10-python.tar.gz\n"
          ]
        },
        {
          "name": "stderr",
          "output_type": "stream",
          "text": [
            "100%|██████████| 170498071/170498071 [00:01<00:00, 85835463.70it/s]\n"
          ]
        },
        {
          "name": "stdout",
          "output_type": "stream",
          "text": [
            "Extracting ./data/cifar-10-python.tar.gz to ./data\n",
            "Files already downloaded and verified\n"
          ]
        }
      ],
      "source": [
        "transform = transforms.Compose([\n",
        "    transforms.ToTensor(),\n",
        "    transforms.Normalize((0.5, 0.5, 0.5), (0.5, 0.5, 0.5))\n",
        "])\n",
        "\n",
        "train_set = torchvision.datasets.CIFAR10(root='./data', train=True,\n",
        "                                        download=True, transform=transform)\n",
        "test_set = torchvision.datasets.CIFAR10(root='./data', train=False,\n",
        "                                       download=True, transform=transform)\n",
        "\n",
        "# Split training set for training and validation\n",
        "train_size = int(0.8 * len(train_set))\n",
        "val_size = len(train_set) - train_size\n",
        "train_set, val_set = random_split(train_set, [train_size, val_size])\n",
        "\n",
        "# DataLoader for validation set\n",
        "val_loader = DataLoader(val_set, batch_size=batch_size, shuffle=False, drop_last = True)\n",
        "train_loader =  DataLoader(train_set, batch_size=256, shuffle=False, drop_last = True)\n",
        "test_loader =  DataLoader(test_set, batch_size=256, shuffle=False, drop_last = True)"
      ]
    },
    {
      "cell_type": "markdown",
      "metadata": {
        "id": "-BPHNhlPkbzR"
      },
      "source": [
        "# DANN"
      ]
    },
    {
      "cell_type": "code",
      "execution_count": 4,
      "metadata": {
        "id": "0CWhtn0jkbzS"
      },
      "outputs": [],
      "source": [
        "class ReverseLayerF(Function):\n",
        "    @staticmethod\n",
        "    def forward(ctx, x, alpha):\n",
        "        ctx.alpha = alpha\n",
        "\n",
        "        return x.view_as(x)\n",
        "\n",
        "    @staticmethod\n",
        "    def backward(ctx, grad_output):\n",
        "        output = grad_output.neg() * ctx.alpha\n",
        "\n",
        "        return output, None\n",
        "    \n",
        "class ConvAutoencoder(nn.Module):\n",
        "    def __init__(self):\n",
        "        super(ConvAutoencoder, self).__init__()\n",
        "        \n",
        "        self.encoder = nn.Sequential(\n",
        "            nn.Conv2d(3, 16, 3, stride=2, padding=1), \n",
        "            nn.ReLU(),\n",
        "            nn.Conv2d(16, 32, 3, stride=2, padding=1),\n",
        "            nn.ReLU(),\n",
        "            nn.Conv2d(32, 64, 7)\n",
        "        )\n",
        "        \n",
        "        self.decoder = nn.Sequential(\n",
        "            nn.ConvTranspose2d(64, 32, 7),\n",
        "            nn.ReLU(),\n",
        "            nn.ConvTranspose2d(32, 16, 3, stride=2, padding=1, output_padding=1),\n",
        "            nn.ReLU(),\n",
        "            nn.ConvTranspose2d(16, 3, 3, stride=2, padding=1, output_padding=1),\n",
        "            nn.Sigmoid()\n",
        "        )\n",
        "\n",
        "    def forward(self, x):\n",
        "        x = self.encoder(x)\n",
        "        x = self.decoder(x)\n",
        "        return x\n",
        "\n",
        "\n",
        "class VGG(nn.Module):\n",
        "    def __init__(self, out_dim = 10):\n",
        "        super(VGG, self).__init__()\n",
        "        self.features = nn.Sequential(\n",
        "            nn.Conv2d(3, 64, kernel_size=3, padding=1),\n",
        "            nn.BatchNorm2d(64),\n",
        "            nn.ReLU(inplace=True),\n",
        "            nn.Conv2d(64, 64, kernel_size=3, padding=1),\n",
        "            nn.BatchNorm2d(64),\n",
        "            nn.ReLU(inplace=True),\n",
        "            nn.MaxPool2d(2, 2),\n",
        "\n",
        "            nn.Conv2d(64, 128, kernel_size=3, padding=1),\n",
        "            nn.BatchNorm2d(128),\n",
        "            nn.ReLU(inplace=True),\n",
        "            nn.Conv2d(128, 128, kernel_size=3, padding=1),\n",
        "            nn.BatchNorm2d(128),\n",
        "            nn.ReLU(inplace=True),\n",
        "            nn.MaxPool2d(2, 2),\n",
        "\n",
        "            nn.Conv2d(128, 256, kernel_size=3, padding=1),\n",
        "            nn.BatchNorm2d(256),\n",
        "            nn.ReLU(inplace=True),\n",
        "            nn.Conv2d(256, 256, kernel_size=3, padding=1),\n",
        "            nn.BatchNorm2d(256),\n",
        "            nn.ReLU(inplace=True),\n",
        "            nn.MaxPool2d(2, 2),\n",
        "\n",
        "            nn.Conv2d(256, 512, kernel_size=3, padding=1),\n",
        "            nn.BatchNorm2d(512),\n",
        "            nn.ReLU(inplace=True),\n",
        "            nn.Conv2d(512, 512, kernel_size=3, padding=1),\n",
        "            nn.BatchNorm2d(512),\n",
        "            nn.ReLU(inplace=True),\n",
        "            nn.MaxPool2d(2, 2),\n",
        "\n",
        "            nn.Conv2d(512, 512, kernel_size=3, padding=1),\n",
        "            nn.BatchNorm2d(512),\n",
        "            nn.ReLU(inplace=True),\n",
        "            nn.Conv2d(512, 512, kernel_size=3, padding=1),\n",
        "            nn.BatchNorm2d(512),\n",
        "            nn.ReLU(inplace=True),\n",
        "            nn.MaxPool2d(2, 2),\n",
        "        )\n",
        "\n",
        "        self.classifier = nn.Sequential(\n",
        "            nn.Linear(512, 512),\n",
        "            nn.BatchNorm1d(512),\n",
        "            nn.ReLU(inplace=True),\n",
        "            nn.Dropout(0.5),\n",
        "            nn.Linear(512, 512),\n",
        "            nn.BatchNorm1d(512),\n",
        "            nn.ReLU(inplace=True),\n",
        "            nn.Dropout(0.5),\n",
        "            nn.Linear(512, out_dim),\n",
        "            nn.Softmax(dim=1)\n",
        "        )\n",
        "\n",
        "        for m in self.modules():\n",
        "            if isinstance(m, nn.Conv2d):\n",
        "                n = m.kernel_size[0] * m.kernel_size[1] * m.out_channels\n",
        "                m.weight.data.normal_(0, math.sqrt(2. / n))\n",
        "                m.bias.data.zero_()\n",
        "\n",
        "    def forward(self, x):\n",
        "        x = self.features(x)\n",
        "        x = x.view(-1, 512)\n",
        "        x = self.classifier(x)\n",
        "        return x"
      ]
    },
    {
      "cell_type": "code",
      "execution_count": 5,
      "metadata": {
        "id": "dXz9YIu4kbzS"
      },
      "outputs": [],
      "source": [
        "class DANN(nn.Module):\n",
        "    def __init__(self):\n",
        "        super(DANN, self).__init__()\n",
        "        self.autoencoder = ConvAutoencoder()\n",
        "        self.classifier = VGG(out_dim = 10)\n",
        "        self.domain_classifier = VGG(out_dim = 2)\n",
        "\n",
        "    def forward(self, input_data, alpha):\n",
        "        feature = self.autoencoder(input_data)\n",
        "        reverse_feature = ReverseLayerF.apply(feature, alpha)\n",
        "        class_output = self.classifier(feature)\n",
        "        domain_output = self.domain_classifier(reverse_feature)\n",
        "        \n",
        "        return class_output, domain_output"
      ]
    },
    {
      "cell_type": "code",
      "execution_count": 6,
      "metadata": {
        "id": "p38-3bPBkbzS"
      },
      "outputs": [],
      "source": [
        "def train_DANN(train_loader, model, criterion, optimizer, epoches):\n",
        "    model.train()\n",
        "    src_domain_label = torch.ones(batch_size).long().to(device)\n",
        "    tgt_domain_label = torch.zeros(batch_size).long().to(device)\n",
        "\n",
        "    for e in range(epoches):\n",
        "        data_target_iter = iter(train_loader)\n",
        "        correct_source_domain, correct_tgt_domain = 0, 0\n",
        "        total = 0\n",
        "        for i in range(DANN_TRAINING_BATCH):\n",
        "            # Src\n",
        "            source, source_label = next(data_target_iter)\n",
        "            total += source.size(0)\n",
        "\n",
        "            source, source_label = source.to(device), source_label.to(device)\n",
        "\n",
        "            class_output, domain_output = model(source, alpha)\n",
        "\n",
        "            loss_s_label = criterion(class_output, source_label)\n",
        "            loss_s_domain = criterion(domain_output, src_domain_label)\n",
        "\n",
        "            _, predicted = torch.max(domain_output.data, 1)\n",
        "            correct_source_domain += predicted.eq(src_domain_label.data).cpu().sum().item()\n",
        "\n",
        "            # Tgt\n",
        "            target, target_label  = next(data_target_iter)\n",
        "            target, target_label = target.to(device), target_label.to(device)\n",
        "\n",
        "            class_output, domain_output = model(target, alpha)\n",
        "\n",
        "            loss_t_label = criterion(class_output, target_label)\n",
        "            loss_t_domain = criterion(domain_output, tgt_domain_label)\n",
        "\n",
        "            _, predicted = torch.max(domain_output.data, 1)\n",
        "            correct_tgt_domain += predicted.eq(tgt_domain_label.data).cpu().sum().item()\n",
        "\n",
        "            loss = loss_s_label + loss_s_domain + loss_t_domain + loss_t_label\n",
        "            loss.backward()\n",
        "            optimizer.step()\n",
        "        if ((e + 1) % 5 == 0):\n",
        "            print(f\"{e}: source correct: {correct_source_domain/total}, \\\n",
        "                        target correct: {correct_tgt_domain/total}\")"
      ]
    },
    {
      "cell_type": "code",
      "execution_count": 7,
      "metadata": {
        "colab": {
          "base_uri": "https://localhost:8080/"
        },
        "id": "I6ffFuN6kbzS",
        "outputId": "88381c15-b074-4449-d32d-8b714644a87d"
      },
      "outputs": [
        {
          "name": "stdout",
          "output_type": "stream",
          "text": [
            "4: source correct: 0.94189453125,                         target correct: 0.0453125\n",
            "9: source correct: 0.4751953125,                         target correct: 0.519921875\n",
            "14: source correct: 0.33388671875,                         target correct: 0.69306640625\n",
            "19: source correct: 0.89814453125,                         target correct: 0.104296875\n",
            "24: source correct: 0.03935546875,                         target correct: 0.9677734375\n",
            "29: source correct: 0.990625,                         target correct: 0.0091796875\n",
            "34: source correct: 0.5033203125,                         target correct: 0.4974609375\n",
            "39: source correct: 0.02919921875,                         target correct: 0.9734375\n",
            "44: source correct: 0.983203125,                         target correct: 0.016015625\n",
            "49: source correct: 0.01865234375,                         target correct: 0.98388671875\n"
          ]
        }
      ],
      "source": [
        "if not os.path.exists(dann_path):\n",
        "    criterion = nn.CrossEntropyLoss()\n",
        "    dann = DANN().to(device)\n",
        "    optimizer = optim.Adam(dann.parameters(), lr=0.001)\n",
        "\n",
        "    train_DANN(train_loader, dann, criterion, optimizer, DANN_EPOCHES)\n",
        "    with torch.no_grad():\n",
        "        torch.save(dann.state_dict(), dann_path)\n",
        "else:\n",
        "    dann = DANN().to(device)\n",
        "    dann.load_state_dict(torch.load(dann_path))\n",
        "    print(\"Loaded model from file.\")"
      ]
    },
    {
      "cell_type": "markdown",
      "metadata": {
        "id": "VyMOw2MnkbzS"
      },
      "source": [
        "# Classifier"
      ]
    },
    {
      "cell_type": "code",
      "execution_count": null,
      "metadata": {},
      "outputs": [],
      "source": [
        "def test(model, testloader):\n",
        "    correct = 0\n",
        "    total = 0\n",
        "\n",
        "    for images, label in testloader:\n",
        "        images, label = images.to(device), label.to(device)\n",
        "        features = dann.autoencoder(images)\n",
        "        outputs = model(features)\n",
        "        _, predicted = torch.max(outputs.data, 1)\n",
        "        total += label.size(0)\n",
        "        correct += (predicted == label).sum().item()\n",
        "\n",
        "    return correct / total"
      ]
    },
    {
      "cell_type": "code",
      "execution_count": null,
      "metadata": {},
      "outputs": [],
      "source": [
        "def train(model, epoches, criterion, optimizer):\n",
        "    best_model_wts = None\n",
        "    best_loss = float('inf')\n",
        "    batch_num = 0\n",
        "    warm_up_batch = 3\n",
        "\n",
        "    for inputs, labels in train_loader:\n",
        "        if (best_model_wts):\n",
        "            model.load_state_dict(best_model_wts)\n",
        "\n",
        "        inputs, labels = inputs.to(device), labels.to(device)\n",
        "        prev_loss = float('inf')\n",
        "        for epoch in range(epoches):\n",
        "            model.train()\n",
        "            optimizer.zero_grad()\n",
        "            features = dann.autoencoder(inputs)\n",
        "            outputs = model(features)\n",
        "            loss = criterion(outputs, labels)\n",
        "            loss.backward()\n",
        "            optimizer.step()\n",
        "\n",
        "            model.eval()\n",
        "            val_loss = 0.0\n",
        "            with torch.no_grad():\n",
        "                for val_inputs, val_labels in val_loader:\n",
        "                    val_inputs, val_labels = val_inputs.to(device), val_labels.to(device)\n",
        "                    outputs = model(val_inputs)\n",
        "                    batch_loss = criterion(outputs, val_labels)\n",
        "                    val_loss += batch_loss.item()\n",
        "\n",
        "                if val_loss < best_loss:\n",
        "                    best_loss = val_loss\n",
        "                    best_model_wts = copy.deepcopy(model.state_dict())\n",
        "\n",
        "            print(f\"Batch: {batch_num}, epoch: {epoch}, Train Loss: {loss.item()}, Val Loss: {val_loss}\")\n",
        "            if (prev_loss < val_loss and warm_up_batch < batch_num):\n",
        "                break\n",
        "            prev_loss = val_loss\n",
        "        with torch.no_grad():\n",
        "            test_acc = test(model, test_loader)\n",
        "            \n",
        "        print(f\"epoch: {epoch}, Test Acc: {test_acc}\")\n",
        "\n",
        "        batch_num += 1\n",
        "\n",
        "    return best_model_wts"
      ]
    },
    {
      "cell_type": "code",
      "execution_count": null,
      "metadata": {},
      "outputs": [],
      "source": [
        "model = VGG().to(device)\n",
        "\n",
        "criterion = nn.CrossEntropyLoss()\n",
        "optimizer = optim.Adam(model.parameters(), lr=0.0005)\n",
        "\n",
        "best_model_wts = train(model, 20, criterion, optimizer)"
      ]
    }
  ],
  "metadata": {
    "accelerator": "GPU",
    "colab": {
      "gpuType": "T4",
      "provenance": []
    },
    "kernelspec": {
      "display_name": "Python 3",
      "name": "python3"
    },
    "language_info": {
      "name": "python"
    }
  },
  "nbformat": 4,
  "nbformat_minor": 0
}
