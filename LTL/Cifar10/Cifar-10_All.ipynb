{
 "cells": [
  {
   "cell_type": "code",
   "execution_count": 8,
   "metadata": {},
   "outputs": [],
   "source": [
    "import torch\n",
    "import torch.nn as nn\n",
    "import math\n",
    "import torch.optim as optim\n",
    "from torch.utils.data import DataLoader\n",
    "from torch.optim.lr_scheduler import StepLR\n",
    "from torchvision import datasets, transforms"
   ]
  },
  {
   "cell_type": "code",
   "execution_count": 9,
   "metadata": {},
   "outputs": [],
   "source": [
    "device = torch.device(\"cuda\" if torch.cuda.is_available() else \"cpu\")"
   ]
  },
  {
   "cell_type": "code",
   "execution_count": 10,
   "metadata": {},
   "outputs": [
    {
     "name": "stdout",
     "output_type": "stream",
     "text": [
      "Files already downloaded and verified\n",
      "Files already downloaded and verified\n"
     ]
    }
   ],
   "source": [
    "tf = transforms.Compose([\n",
    "        transforms.ToTensor(),\n",
    "        transforms.Normalize([0.5], [0.5]),\n",
    "    ])\n",
    "\n",
    "trainset = datasets.CIFAR10(root='./data', train=True, download=True, transform=tf)\n",
    "trainloader = DataLoader(trainset, batch_size=256, shuffle=False, drop_last = True)\n",
    "\n",
    "testset = datasets.CIFAR10(root='./data', train=False, download=True, transform=tf)\n",
    "testloader = DataLoader(testset, batch_size=256, shuffle=False, drop_last = True)"
   ]
  },
  {
   "cell_type": "code",
   "execution_count": 11,
   "metadata": {},
   "outputs": [],
   "source": [
    "class VGG(nn.Module):\n",
    "    def __init__(self, out_dim = 10):\n",
    "        super(VGG, self).__init__()\n",
    "        self.features = nn.Sequential(\n",
    "            nn.Conv2d(3, 64, kernel_size=3, padding=1),\n",
    "            nn.BatchNorm2d(64),\n",
    "            nn.ReLU(inplace=True),\n",
    "            nn.Conv2d(64, 64, kernel_size=3, padding=1),\n",
    "            nn.BatchNorm2d(64),\n",
    "            nn.ReLU(inplace=True),\n",
    "            nn.MaxPool2d(2, 2),\n",
    "\n",
    "            nn.Conv2d(64, 128, kernel_size=3, padding=1),\n",
    "            nn.BatchNorm2d(128),\n",
    "            nn.ReLU(inplace=True),\n",
    "            nn.Conv2d(128, 128, kernel_size=3, padding=1),\n",
    "            nn.BatchNorm2d(128),\n",
    "            nn.ReLU(inplace=True),\n",
    "            nn.MaxPool2d(2, 2),\n",
    "\n",
    "            nn.Conv2d(128, 256, kernel_size=3, padding=1),\n",
    "            nn.BatchNorm2d(256),\n",
    "            nn.ReLU(inplace=True),\n",
    "            nn.Conv2d(256, 256, kernel_size=3, padding=1),\n",
    "            nn.BatchNorm2d(256),\n",
    "            nn.ReLU(inplace=True),\n",
    "            nn.MaxPool2d(2, 2),\n",
    "\n",
    "            nn.Conv2d(256, 512, kernel_size=3, padding=1),\n",
    "            nn.BatchNorm2d(512),\n",
    "            nn.ReLU(inplace=True),\n",
    "            nn.Conv2d(512, 512, kernel_size=3, padding=1),\n",
    "            nn.BatchNorm2d(512),\n",
    "            nn.ReLU(inplace=True),\n",
    "            nn.MaxPool2d(2, 2),\n",
    "\n",
    "            nn.Conv2d(512, 512, kernel_size=3, padding=1),\n",
    "            nn.BatchNorm2d(512),\n",
    "            nn.ReLU(inplace=True),\n",
    "            nn.Conv2d(512, 512, kernel_size=3, padding=1),\n",
    "            nn.BatchNorm2d(512),\n",
    "            nn.ReLU(inplace=True),\n",
    "            nn.MaxPool2d(2, 2),\n",
    "        )\n",
    "\n",
    "        self.classifier = nn.Sequential(\n",
    "            nn.Linear(512, 512),\n",
    "            nn.BatchNorm1d(512),\n",
    "            nn.ReLU(inplace=True),\n",
    "            nn.Linear(512, 512),\n",
    "            nn.BatchNorm1d(512),\n",
    "            nn.ReLU(inplace=True),\n",
    "            nn.Linear(512, out_dim),\n",
    "            nn.Softmax(dim=1)\n",
    "        )\n",
    "\n",
    "        for m in self.modules():\n",
    "            if isinstance(m, nn.Conv2d):\n",
    "                n = m.kernel_size[0] * m.kernel_size[1] * m.out_channels\n",
    "                m.weight.data.normal_(0, math.sqrt(2. / n))\n",
    "                m.bias.data.zero_()\n",
    "\n",
    "    def forward(self, x):\n",
    "        x = self.features(x)\n",
    "        x = x.view(-1, 512)\n",
    "        x = self.classifier(x)\n",
    "        return x"
   ]
  },
  {
   "cell_type": "code",
   "execution_count": 12,
   "metadata": {},
   "outputs": [],
   "source": [
    "def cal_acc(model, dataloader, device):\n",
    "    model.eval()\n",
    "    correct, total = 0., 0.\n",
    "    with torch.no_grad():\n",
    "        for images, labels in dataloader:\n",
    "            images, labels = images.to(device), labels.to(device)\n",
    "            outputs = model(images)\n",
    "            _, predicted = torch.max(outputs.data, 1)\n",
    "            total += labels.size(0)\n",
    "            correct += (predicted == labels).sum().item()\n",
    "\n",
    "    return correct / total"
   ]
  },
  {
   "cell_type": "code",
   "execution_count": 13,
   "metadata": {},
   "outputs": [],
   "source": [
    "def train(criterion, optimizer, model, num_epochs, trainloader, testloader, device):\n",
    "    for epoch in range(num_epochs):\n",
    "        model.train()\n",
    "        for images, labels in trainloader:\n",
    "            images, labels = images.to(device), labels.to(device)\n",
    "            optimizer.zero_grad()\n",
    "            outputs = model(images)\n",
    "            loss = criterion(outputs, labels)\n",
    "            loss.backward()\n",
    "            optimizer.step()\n",
    "\n",
    "        test_acc = cal_acc(model, testloader, device)\n",
    "\n",
    "        print(f\"Epoch [{epoch + 1}/{num_epochs}], Loss: {loss.item():.4f}, Test Acc: {test_acc:.4f}\")"
   ]
  },
  {
   "cell_type": "code",
   "execution_count": 14,
   "metadata": {},
   "outputs": [
    {
     "name": "stdout",
     "output_type": "stream",
     "text": [
      "Epoch [1/30], Loss: 1.8342, Test Acc: 0.5578\n",
      "Epoch [2/30], Loss: 1.7272, Test Acc: 0.6522\n",
      "Epoch [3/30], Loss: 1.7227, Test Acc: 0.6352\n",
      "Epoch [4/30], Loss: 1.6522, Test Acc: 0.6603\n",
      "Epoch [5/30], Loss: 1.6534, Test Acc: 0.7292\n",
      "Epoch [6/30], Loss: 1.6263, Test Acc: 0.6161\n",
      "Epoch [7/30], Loss: 1.6252, Test Acc: 0.6930\n",
      "Epoch [8/30], Loss: 1.6209, Test Acc: 0.7318\n",
      "Epoch [9/30], Loss: 1.6047, Test Acc: 0.7330\n",
      "Epoch [10/30], Loss: 1.5848, Test Acc: 0.7896\n",
      "Epoch [11/30], Loss: 1.6188, Test Acc: 0.7692\n",
      "Epoch [12/30], Loss: 1.5542, Test Acc: 0.7465\n",
      "Epoch [13/30], Loss: 1.5582, Test Acc: 0.7658\n",
      "Epoch [14/30], Loss: 1.5534, Test Acc: 0.7844\n",
      "Epoch [15/30], Loss: 1.5513, Test Acc: 0.7747\n",
      "Epoch [16/30], Loss: 1.5346, Test Acc: 0.7830\n",
      "Epoch [17/30], Loss: 1.5475, Test Acc: 0.7940\n",
      "Epoch [18/30], Loss: 1.5355, Test Acc: 0.8003\n",
      "Epoch [19/30], Loss: 1.5286, Test Acc: 0.7990\n",
      "Epoch [20/30], Loss: 1.5309, Test Acc: 0.7885\n",
      "Epoch [21/30], Loss: 1.5251, Test Acc: 0.8039\n",
      "Epoch [22/30], Loss: 1.5204, Test Acc: 0.8085\n",
      "Epoch [23/30], Loss: 1.5174, Test Acc: 0.8156\n",
      "Epoch [24/30], Loss: 1.5073, Test Acc: 0.8031\n",
      "Epoch [25/30], Loss: 1.5025, Test Acc: 0.8015\n",
      "Epoch [26/30], Loss: 1.5196, Test Acc: 0.8173\n",
      "Epoch [27/30], Loss: 1.5204, Test Acc: 0.8060\n",
      "Epoch [28/30], Loss: 1.5127, Test Acc: 0.8145\n",
      "Epoch [29/30], Loss: 1.5132, Test Acc: 0.7979\n",
      "Epoch [30/30], Loss: 1.5016, Test Acc: 0.8148\n"
     ]
    }
   ],
   "source": [
    "model = VGG()\n",
    "model = model.to(device)\n",
    "\n",
    "criterion = nn.CrossEntropyLoss()\n",
    "optimizer = torch.optim.Adam(model.parameters(), 0.0005)\n",
    "\n",
    "num_epochs = 30\n",
    "train(criterion, optimizer, model, num_epochs, trainloader, testloader, device)"
   ]
  }
 ],
 "metadata": {
  "kernelspec": {
   "display_name": "ml",
   "language": "python",
   "name": "python3"
  },
  "language_info": {
   "codemirror_mode": {
    "name": "ipython",
    "version": 3
   },
   "file_extension": ".py",
   "mimetype": "text/x-python",
   "name": "python",
   "nbconvert_exporter": "python",
   "pygments_lexer": "ipython3",
   "version": "3.8.12"
  }
 },
 "nbformat": 4,
 "nbformat_minor": 2
}
