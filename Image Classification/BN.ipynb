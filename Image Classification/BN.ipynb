{
  "cells": [
    {
      "cell_type": "code",
      "execution_count": 1,
      "metadata": {
        "id": "TaaQ0xtg75ul"
      },
      "outputs": [],
      "source": [
        "import torch\n",
        "import torch.nn as nn\n",
        "import math\n",
        "import torch.optim as optim\n",
        "from torch.utils.data import DataLoader\n",
        "from torch.optim.lr_scheduler import StepLR\n",
        "from torchvision import datasets, transforms"
      ]
    },
    {
      "cell_type": "markdown",
      "metadata": {
        "id": "iwq90q6Q75um"
      },
      "source": [
        "# Load Dataset"
      ]
    },
    {
      "cell_type": "code",
      "execution_count": 3,
      "metadata": {
        "colab": {
          "base_uri": "https://localhost:8080/"
        },
        "id": "hrgSOtG975um",
        "outputId": "7fb9fd0e-2c16-47b4-d5cf-22a4afe0aa06"
      },
      "outputs": [
        {
          "name": "stdout",
          "output_type": "stream",
          "text": [
            "Files already downloaded and verified\n",
            "Files already downloaded and verified\n"
          ]
        }
      ],
      "source": [
        "transform_train = transforms.Compose([\n",
        "    transforms.RandomHorizontalFlip(),\n",
        "    transforms.RandomCrop(32, 4),\n",
        "    transforms.ToTensor(),\n",
        "    transforms.Normalize(mean=[0.485, 0.456, 0.406],\n",
        "                                     std=[0.229, 0.224, 0.225])\n",
        "])\n",
        "\n",
        "transform_test = transforms.Compose([\n",
        "    transforms.ToTensor(),\n",
        "    transforms.Normalize(mean=[0.485, 0.456, 0.406],\n",
        "                                     std=[0.229, 0.224, 0.225])\n",
        "])\n",
        "\n",
        "trainset = datasets.CIFAR10(root='./data', train=True, download=True, transform=transform_train)\n",
        "trainloader = DataLoader(trainset, batch_size=256, shuffle=True, drop_last = True)\n",
        "\n",
        "testset = datasets.CIFAR10(root='./data', train=False, download=True, transform=transform_test)\n",
        "testloader = DataLoader(testset, batch_size=256, shuffle=False, drop_last = True)"
      ]
    },
    {
      "cell_type": "markdown",
      "metadata": {
        "id": "u9sX_2LZ75um"
      },
      "source": [
        "# Model"
      ]
    },
    {
      "cell_type": "code",
      "execution_count": 4,
      "metadata": {
        "id": "pLvU5NfY75um"
      },
      "outputs": [],
      "source": [
        "class VGG(nn.Module):\n",
        "    def __init__(self):\n",
        "        super(VGG, self).__init__()\n",
        "        self.features = nn.Sequential(\n",
        "            nn.Conv2d(3, 64, kernel_size=3, padding=1),\n",
        "            nn.BatchNorm2d(64),\n",
        "            nn.ReLU(inplace=True),\n",
        "            nn.Conv2d(64, 64, kernel_size=3, padding=1),\n",
        "            nn.BatchNorm2d(64),\n",
        "            nn.ReLU(inplace=True),\n",
        "            nn.MaxPool2d(2, 2),\n",
        "\n",
        "            nn.Conv2d(64, 128, kernel_size=3, padding=1),\n",
        "            nn.BatchNorm2d(128),\n",
        "            nn.ReLU(inplace=True),\n",
        "            nn.Conv2d(128, 128, kernel_size=3, padding=1),\n",
        "            nn.BatchNorm2d(128),\n",
        "            nn.ReLU(inplace=True),\n",
        "            nn.MaxPool2d(2, 2),\n",
        "\n",
        "            nn.Conv2d(128, 256, kernel_size=3, padding=1),\n",
        "            nn.BatchNorm2d(256),\n",
        "            nn.ReLU(inplace=True),\n",
        "            nn.Conv2d(256, 256, kernel_size=3, padding=1),\n",
        "            nn.BatchNorm2d(256),\n",
        "            nn.ReLU(inplace=True),\n",
        "            nn.MaxPool2d(2, 2),\n",
        "\n",
        "            nn.Conv2d(256, 512, kernel_size=3, padding=1),\n",
        "            nn.BatchNorm2d(512),\n",
        "            nn.ReLU(inplace=True),\n",
        "            nn.Conv2d(512, 512, kernel_size=3, padding=1),\n",
        "            nn.BatchNorm2d(512),\n",
        "            nn.ReLU(inplace=True),\n",
        "            nn.MaxPool2d(2, 2),\n",
        "\n",
        "            nn.Conv2d(512, 512, kernel_size=3, padding=1),\n",
        "            nn.BatchNorm2d(512),\n",
        "            nn.ReLU(inplace=True),\n",
        "            nn.Conv2d(512, 512, kernel_size=3, padding=1),\n",
        "            nn.BatchNorm2d(512),\n",
        "            nn.ReLU(inplace=True),\n",
        "            nn.MaxPool2d(2, 2),\n",
        "        )\n",
        "\n",
        "        self.classifier = nn.Sequential(\n",
        "            nn.Linear(512, 512),\n",
        "            nn.BatchNorm1d(512),\n",
        "            nn.ReLU(inplace=True),\n",
        "            nn.Dropout(0.5),\n",
        "            nn.Linear(512, 512),\n",
        "            nn.BatchNorm1d(512),\n",
        "            nn.ReLU(inplace=True),\n",
        "            nn.Dropout(0.5),\n",
        "            nn.Linear(512, 10),\n",
        "            nn.Softmax(dim=1)\n",
        "        )\n",
        "\n",
        "        for m in self.modules():\n",
        "            if isinstance(m, nn.Conv2d):\n",
        "                n = m.kernel_size[0] * m.kernel_size[1] * m.out_channels\n",
        "                m.weight.data.normal_(0, math.sqrt(2. / n))\n",
        "                m.bias.data.zero_()\n",
        "\n",
        "    def forward(self, x):\n",
        "        x = self.features(x)\n",
        "        x = x.view(-1, 512)\n",
        "        x = self.classifier(x)\n",
        "        return x\n"
      ]
    },
    {
      "cell_type": "markdown",
      "metadata": {
        "id": "D5Hl1gW075um"
      },
      "source": [
        "# Train Function"
      ]
    },
    {
      "cell_type": "code",
      "execution_count": 5,
      "metadata": {
        "id": "wKcuHdYA75um"
      },
      "outputs": [],
      "source": [
        "def train(criterion, optimizer, scheduler, model, num_epochs, device):\n",
        "    loss_history = []\n",
        "    test_acc_history = []\n",
        "\n",
        "    for epoch in range(num_epochs):\n",
        "        model.train()\n",
        "        loss_per_epoch = 0\n",
        "\n",
        "        for images, labels in trainloader:\n",
        "            images, labels = images.to(device), labels.to(device)\n",
        "            optimizer.zero_grad()\n",
        "            outputs = model(images)\n",
        "            loss = criterion(outputs, labels)\n",
        "            loss.backward()\n",
        "            optimizer.step()\n",
        "            loss_per_epoch += loss.item()\n",
        "\n",
        "        scheduler.step()\n",
        "\n",
        "        correct = 0\n",
        "        total = 0\n",
        "        model.eval()\n",
        "\n",
        "        with torch.no_grad():\n",
        "            for images, labels in testloader:\n",
        "                images, labels = images.to(device), labels.to(device)\n",
        "                outputs = model(images)\n",
        "                _, predicted = torch.max(outputs.data, 1)\n",
        "                total += labels.size(0)\n",
        "                correct += (predicted == labels).sum().item()\n",
        "\n",
        "        epoch_loss = loss_per_epoch / len(trainloader)\n",
        "        epoch_acc = correct / total\n",
        "\n",
        "        print(f\"Epoch [{epoch + 1}/{num_epochs}], Loss: {epoch_loss:.4f}, Test Accuracy: {epoch_acc:.4f}\")\n",
        "        loss_history.append(epoch_loss)\n",
        "        test_acc_history.append(epoch_acc)\n",
        "\n",
        "    return loss_history, test_acc_history"
      ]
    },
    {
      "cell_type": "code",
      "execution_count": 6,
      "metadata": {
        "colab": {
          "base_uri": "https://localhost:8080/"
        },
        "id": "thUj_dsz75um",
        "outputId": "dc6570b2-4edb-42c9-cbe0-5133c84b266e"
      },
      "outputs": [
        {
          "name": "stdout",
          "output_type": "stream",
          "text": [
            "Epoch [1/100], Loss: 2.0976, Test Accuracy: 0.4593\n",
            "Epoch [2/100], Loss: 1.9482, Test Accuracy: 0.4956\n",
            "Epoch [3/100], Loss: 1.8808, Test Accuracy: 0.5353\n",
            "Epoch [4/100], Loss: 1.8420, Test Accuracy: 0.6391\n",
            "Epoch [5/100], Loss: 1.8094, Test Accuracy: 0.6631\n",
            "Epoch [6/100], Loss: 1.7718, Test Accuracy: 0.6318\n",
            "Epoch [7/100], Loss: 1.7466, Test Accuracy: 0.7089\n",
            "Epoch [8/100], Loss: 1.7288, Test Accuracy: 0.7056\n",
            "Epoch [9/100], Loss: 1.7124, Test Accuracy: 0.7203\n",
            "Epoch [10/100], Loss: 1.7052, Test Accuracy: 0.7626\n",
            "Epoch [11/100], Loss: 1.6710, Test Accuracy: 0.7745\n",
            "Epoch [12/100], Loss: 1.6558, Test Accuracy: 0.7993\n",
            "Epoch [13/100], Loss: 1.6491, Test Accuracy: 0.7932\n",
            "Epoch [14/100], Loss: 1.6433, Test Accuracy: 0.7976\n",
            "Epoch [15/100], Loss: 1.6407, Test Accuracy: 0.7852\n",
            "Epoch [16/100], Loss: 1.6392, Test Accuracy: 0.7943\n",
            "Epoch [17/100], Loss: 1.6339, Test Accuracy: 0.7873\n",
            "Epoch [18/100], Loss: 1.6322, Test Accuracy: 0.8194\n",
            "Epoch [19/100], Loss: 1.6264, Test Accuracy: 0.8097\n",
            "Epoch [20/100], Loss: 1.6239, Test Accuracy: 0.8066\n",
            "Epoch [21/100], Loss: 1.6010, Test Accuracy: 0.8434\n",
            "Epoch [22/100], Loss: 1.5939, Test Accuracy: 0.8413\n",
            "Epoch [23/100], Loss: 1.5900, Test Accuracy: 0.8433\n",
            "Epoch [24/100], Loss: 1.5901, Test Accuracy: 0.8423\n",
            "Epoch [25/100], Loss: 1.5862, Test Accuracy: 0.8523\n",
            "Epoch [26/100], Loss: 1.5826, Test Accuracy: 0.8476\n",
            "Epoch [27/100], Loss: 1.5823, Test Accuracy: 0.8545\n",
            "Epoch [28/100], Loss: 1.5789, Test Accuracy: 0.8527\n",
            "Epoch [29/100], Loss: 1.5770, Test Accuracy: 0.8475\n",
            "Epoch [30/100], Loss: 1.5769, Test Accuracy: 0.8591\n",
            "Epoch [31/100], Loss: 1.5638, Test Accuracy: 0.8695\n",
            "Epoch [32/100], Loss: 1.5576, Test Accuracy: 0.8711\n",
            "Epoch [33/100], Loss: 1.5560, Test Accuracy: 0.8687\n",
            "Epoch [34/100], Loss: 1.5526, Test Accuracy: 0.8705\n",
            "Epoch [35/100], Loss: 1.5505, Test Accuracy: 0.8736\n",
            "Epoch [36/100], Loss: 1.5516, Test Accuracy: 0.8720\n",
            "Epoch [37/100], Loss: 1.5485, Test Accuracy: 0.8738\n",
            "Epoch [38/100], Loss: 1.5476, Test Accuracy: 0.8724\n",
            "Epoch [39/100], Loss: 1.5466, Test Accuracy: 0.8665\n",
            "Epoch [40/100], Loss: 1.5448, Test Accuracy: 0.8781\n",
            "Epoch [41/100], Loss: 1.5363, Test Accuracy: 0.8819\n",
            "Epoch [42/100], Loss: 1.5346, Test Accuracy: 0.8859\n",
            "Epoch [43/100], Loss: 1.5326, Test Accuracy: 0.8899\n",
            "Epoch [44/100], Loss: 1.5315, Test Accuracy: 0.8847\n",
            "Epoch [45/100], Loss: 1.5305, Test Accuracy: 0.8883\n",
            "Epoch [46/100], Loss: 1.5293, Test Accuracy: 0.8875\n",
            "Epoch [47/100], Loss: 1.5272, Test Accuracy: 0.8857\n",
            "Epoch [48/100], Loss: 1.5277, Test Accuracy: 0.8881\n",
            "Epoch [49/100], Loss: 1.5266, Test Accuracy: 0.8864\n",
            "Epoch [50/100], Loss: 1.5266, Test Accuracy: 0.8889\n",
            "Epoch [51/100], Loss: 1.5231, Test Accuracy: 0.8905\n",
            "Epoch [52/100], Loss: 1.5208, Test Accuracy: 0.8938\n",
            "Epoch [53/100], Loss: 1.5182, Test Accuracy: 0.8942\n",
            "Epoch [54/100], Loss: 1.5175, Test Accuracy: 0.8907\n",
            "Epoch [55/100], Loss: 1.5167, Test Accuracy: 0.8925\n",
            "Epoch [56/100], Loss: 1.5164, Test Accuracy: 0.8940\n",
            "Epoch [57/100], Loss: 1.5157, Test Accuracy: 0.8933\n",
            "Epoch [58/100], Loss: 1.5163, Test Accuracy: 0.8942\n",
            "Epoch [59/100], Loss: 1.5153, Test Accuracy: 0.8934\n",
            "Epoch [60/100], Loss: 1.5137, Test Accuracy: 0.8944\n",
            "Epoch [61/100], Loss: 1.5124, Test Accuracy: 0.8966\n",
            "Epoch [62/100], Loss: 1.5116, Test Accuracy: 0.8958\n",
            "Epoch [63/100], Loss: 1.5108, Test Accuracy: 0.8952\n",
            "Epoch [64/100], Loss: 1.5110, Test Accuracy: 0.8946\n",
            "Epoch [65/100], Loss: 1.5103, Test Accuracy: 0.8971\n",
            "Epoch [66/100], Loss: 1.5110, Test Accuracy: 0.8962\n",
            "Epoch [67/100], Loss: 1.5098, Test Accuracy: 0.8956\n",
            "Epoch [68/100], Loss: 1.5087, Test Accuracy: 0.8956\n",
            "Epoch [69/100], Loss: 1.5094, Test Accuracy: 0.8980\n",
            "Epoch [70/100], Loss: 1.5078, Test Accuracy: 0.8961\n",
            "Epoch [71/100], Loss: 1.5074, Test Accuracy: 0.8958\n",
            "Epoch [72/100], Loss: 1.5073, Test Accuracy: 0.8978\n",
            "Epoch [73/100], Loss: 1.5067, Test Accuracy: 0.8964\n",
            "Epoch [74/100], Loss: 1.5061, Test Accuracy: 0.8977\n",
            "Epoch [75/100], Loss: 1.5063, Test Accuracy: 0.8976\n",
            "Epoch [76/100], Loss: 1.5058, Test Accuracy: 0.8975\n",
            "Epoch [77/100], Loss: 1.5061, Test Accuracy: 0.8972\n",
            "Epoch [78/100], Loss: 1.5055, Test Accuracy: 0.8974\n",
            "Epoch [79/100], Loss: 1.5058, Test Accuracy: 0.8979\n",
            "Epoch [80/100], Loss: 1.5048, Test Accuracy: 0.8995\n",
            "Epoch [81/100], Loss: 1.5059, Test Accuracy: 0.8993\n",
            "Epoch [82/100], Loss: 1.5045, Test Accuracy: 0.8989\n",
            "Epoch [83/100], Loss: 1.5043, Test Accuracy: 0.8993\n",
            "Epoch [84/100], Loss: 1.5056, Test Accuracy: 0.8981\n",
            "Epoch [85/100], Loss: 1.5043, Test Accuracy: 0.8980\n",
            "Epoch [86/100], Loss: 1.5048, Test Accuracy: 0.9000\n",
            "Epoch [87/100], Loss: 1.5041, Test Accuracy: 0.8987\n",
            "Epoch [88/100], Loss: 1.5037, Test Accuracy: 0.8989\n",
            "Epoch [89/100], Loss: 1.5050, Test Accuracy: 0.8986\n",
            "Epoch [90/100], Loss: 1.5047, Test Accuracy: 0.8981\n",
            "Epoch [91/100], Loss: 1.5040, Test Accuracy: 0.8991\n",
            "Epoch [92/100], Loss: 1.5031, Test Accuracy: 0.8988\n",
            "Epoch [93/100], Loss: 1.5039, Test Accuracy: 0.8994\n",
            "Epoch [94/100], Loss: 1.5036, Test Accuracy: 0.8995\n",
            "Epoch [95/100], Loss: 1.5043, Test Accuracy: 0.8990\n",
            "Epoch [96/100], Loss: 1.5043, Test Accuracy: 0.8991\n",
            "Epoch [97/100], Loss: 1.5037, Test Accuracy: 0.8987\n",
            "Epoch [98/100], Loss: 1.5031, Test Accuracy: 0.8993\n",
            "Epoch [99/100], Loss: 1.5037, Test Accuracy: 0.8982\n",
            "Epoch [100/100], Loss: 1.5029, Test Accuracy: 0.8990\n"
          ]
        }
      ],
      "source": [
        "model = VGG()\n",
        "model = model.to(DEVICE)\n",
        "\n",
        "criterion = nn.CrossEntropyLoss()\n",
        "optimizer = torch.optim.SGD(model.parameters(), 0.05,\n",
        "                                momentum=0.9, weight_decay=5e-4)\n",
        "\n",
        "scheduler = StepLR(optimizer, step_size=10, gamma=0.5)\n",
        "\n",
        "num_epochs = 100\n",
        "loss_history, test_acc_history = train(criterion, optimizer, scheduler, model, num_epochs, DEVICE)"
      ]
    },
    {
      "cell_type": "code",
      "execution_count": 7,
      "metadata": {},
      "outputs": [
        {
          "data": {
            "image/png": "[encoded data removed]",
            "text/plain": [
              "<Figure size 432x288 with 1 Axes>"
            ]
          },
          "metadata": {
            "needs_background": "light"
          },
          "output_type": "display_data"
        }
      ],
      "source": [
        "import matplotlib.pyplot as plt\n",
        "\n",
        "plt.plot(list(range(num_epochs)), loss_history)\n",
        "plt.plot(list(range(num_epochs)), test_acc_history)\n",
        "plt.show()"
      ]
    }
  ],
  "metadata": {
    "accelerator": "GPU",
    "colab": {
      "gpuType": "T4",
      "provenance": []
    },
    "kernelspec": {
      "display_name": "Python 3",
      "name": "python3"
    },
    "language_info": {
      "codemirror_mode": {
        "name": "ipython",
        "version": 3
      },
      "file_extension": ".py",
      "mimetype": "text/x-python",
      "name": "python",
      "nbconvert_exporter": "python",
      "pygments_lexer": "ipython3",
      "version": "3.8.12"
    }
  },
  "nbformat": 4,
  "nbformat_minor": 0
}
