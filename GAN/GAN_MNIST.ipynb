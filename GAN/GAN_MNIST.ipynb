{
 "cells": [
  {
   "cell_type": "code",
   "execution_count": null,
   "metadata": {},
   "outputs": [],
   "source": [
    "import torch\n",
    "from torch import nn\n",
    "from torchvision import datasets, transforms\n",
    "from torch.utils.data import DataLoader\n",
    "from torchvision.utils import save_image\n",
    "\n",
    "# Hyperparameters\n",
    "latent_dim = 100\n",
    "lr = 0.0002\n",
    "batch_size = 128\n",
    "image_size = 28*28\n",
    "num_epochs = 50"
   ]
  },
  {
   "cell_type": "markdown",
   "metadata": {},
   "source": [
    "## Download Dataset"
   ]
  },
  {
   "cell_type": "code",
   "execution_count": null,
   "metadata": {},
   "outputs": [],
   "source": [
    "# Device configuration\n",
    "device = torch.device('cuda' if torch.cuda.is_available() else 'cpu')\n",
    "\n",
    "# MNIST dataset\n",
    "transform = transforms.Compose([\n",
    "    transforms.ToTensor(),\n",
    "    transforms.Normalize([0.5], [0.5])\n",
    "])\n",
    "train_dataset = datasets.MNIST(root='./data', train=True, transform=transform, download=True)\n",
    "train_loader = DataLoader(dataset=train_dataset, batch_size=batch_size, shuffle=True, drop_last=True)"
   ]
  },
  {
   "cell_type": "markdown",
   "metadata": {},
   "source": [
    "## Models"
   ]
  },
  {
   "cell_type": "code",
   "execution_count": null,
   "metadata": {},
   "outputs": [],
   "source": [
    "# Generator\n",
    "class Generator(nn.Module):\n",
    "    def __init__(self):\n",
    "        super(Generator, self).__init__()\n",
    "        self.model = nn.Sequential(\n",
    "            nn.Linear(latent_dim, 256),\n",
    "            nn.LeakyReLU(0.2),\n",
    "            nn.Linear(256, 512),\n",
    "            nn.LeakyReLU(0.2),\n",
    "            nn.Linear(512, 1024),\n",
    "            nn.LeakyReLU(0.2),\n",
    "            nn.Linear(1024, image_size),\n",
    "            nn.Tanh()\n",
    "        )\n",
    "\n",
    "    def forward(self, z):\n",
    "        return self.model(z)\n",
    "\n",
    "# Discriminator\n",
    "class Discriminator(nn.Module):\n",
    "    def __init__(self):\n",
    "        super(Discriminator, self).__init__()\n",
    "        self.model = nn.Sequential(\n",
    "            nn.Linear(image_size, 1024),\n",
    "            nn.LeakyReLU(0.2),\n",
    "            nn.Dropout(0.3),\n",
    "            nn.Linear(1024, 512),\n",
    "            nn.LeakyReLU(0.2),\n",
    "            nn.Dropout(0.3),\n",
    "            nn.Linear(512, 256),\n",
    "            nn.LeakyReLU(0.2),\n",
    "            nn.Dropout(0.3),\n",
    "            nn.Linear(256, 1),\n",
    "            nn.Sigmoid()\n",
    "        )\n",
    "\n",
    "    def forward(self, img):\n",
    "        img_flat = img.view(img.size(0), -1)\n",
    "        return self.model(img_flat)"
   ]
  },
  {
   "cell_type": "markdown",
   "metadata": {},
   "source": [
    "## Training Stage"
   ]
  },
  {
   "cell_type": "code",
   "execution_count": null,
   "metadata": {},
   "outputs": [],
   "source": [
    "# Initialize models\n",
    "generator = Generator().to(device)\n",
    "discriminator = Discriminator().to(device)\n",
    "\n",
    "# Optimizers\n",
    "g_optimizer = torch.optim.Adam(generator.parameters(), lr=lr)\n",
    "d_optimizer = torch.optim.Adam(discriminator.parameters(), lr=lr)\n",
    "\n",
    "# Loss function\n",
    "criterion = nn.BCELoss()\n",
    "\n",
    "# Training\n",
    "for epoch in range(num_epochs):\n",
    "    for i, (images, _) in enumerate(train_loader):\n",
    "\n",
    "        real_images = images.to(device)                         # Move the real images to the device (GPU or CPU)\n",
    "        real_labels = torch.ones(batch_size, 1).to(device)      # Create real labels (1s) with the current batch size\n",
    "        fake_labels = torch.zeros(batch_size, 1).to(device)     # Create fake labels (0s) with the current batch size\n",
    "\n",
    "        # # --------- Train the Discriminator --------- #\n",
    "        d_optimizer.zero_grad()                                 # Zero the gradients of the discriminator optimizer\n",
    "        outputs = discriminator(real_images)                    # Pass real images through the discriminator\n",
    "        d_real_loss = criterion(outputs, real_labels)           # Calculate the loss for real images (how well does it recognize real images)\n",
    "        z = torch.randn(batch_size, latent_dim).to(device)      # Generate random noise to produce fake images\n",
    "        fake_images = generator(z)                              # Generate fake images from noise\n",
    "        outputs = discriminator(fake_images.detach())           # Pass the fake images through the discriminator\n",
    "        d_fake_loss = criterion(outputs, fake_labels)           # Calculate the loss for fake images (how well does it recognize fake images)\n",
    "        d_loss = d_real_loss + d_fake_loss                      # Calculate total discriminator loss\n",
    "        d_loss.backward()                                       # Update discriminator weights\n",
    "        d_optimizer.step()\n",
    "\n",
    "        # --------- Train the Generator --------- #\n",
    "        g_optimizer.zero_grad()                                 # Zero the gradients of the generator optimizer\n",
    "        outputs = discriminator(fake_images)                    # Pass the fake images to the discriminator again\n",
    "        g_loss = criterion(outputs, real_labels)                # Calculate the generator loss (how well does it fool the discriminator)\n",
    "        g_loss.backward()                                       # Update generate weights\n",
    "        g_optimizer.step()\n",
    "\n",
    "        if (i+1) % 400 == 0:\n",
    "            print(f'Epoch [{epoch+1}/{num_epochs}], Step [{i+1}/{len(train_loader)}], D Loss: {d_loss.item()}, G Loss: {g_loss.item()}')\n",
    "\n",
    "    # Save generated images every epoch\n",
    "    save_image(fake_images.reshape(fake_images.size(0), 1, 28, 28), './data/gan/fake_image-%03d.png' % (epoch+1))\n",
    "\n",
    "print(\"Training complete.\")"
   ]
  }
 ],
 "metadata": {
  "language_info": {
   "name": "python"
  }
 },
 "nbformat": 4,
 "nbformat_minor": 2
}
