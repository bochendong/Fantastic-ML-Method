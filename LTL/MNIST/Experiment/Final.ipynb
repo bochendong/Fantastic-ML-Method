{
 "cells": [
  {
   "cell_type": "code",
   "execution_count": 1,
   "metadata": {},
   "outputs": [],
   "source": [
    "import torch\n",
    "import os\n",
    "import torch.nn.init as init\n",
    "from torchvision import datasets, transforms\n",
    "from torch import optim, nn\n",
    "from torch.utils.data import DataLoader, Subset\n",
    "import matplotlib.pyplot as plt\n",
    "import logging\n",
    "import math\n",
    "import copy"
   ]
  },
  {
   "cell_type": "code",
   "execution_count": 2,
   "metadata": {},
   "outputs": [],
   "source": [
    "batch_size = 128\n",
    "device = torch.device(\"cuda\" if torch.cuda.is_available() else \"cpu\")\n",
    "output_dir = './final_out'"
   ]
  },
  {
   "cell_type": "code",
   "execution_count": 3,
   "metadata": {},
   "outputs": [],
   "source": [
    "train_settings = {\n",
    "    \"combined_1\": {\"epochs\": 4, \"lr\": 0.005, \"loss_type\": [\"distribution\", \"follow_leader\"], \n",
    "                                            \"factor\": [20, [0, 2., 4., 6., 8.]], \"alpha\": 1.},\n",
    "}"
   ]
  },
  {
   "cell_type": "markdown",
   "metadata": {},
   "source": [
    "## Dataloader"
   ]
  },
  {
   "cell_type": "code",
   "execution_count": 4,
   "metadata": {},
   "outputs": [],
   "source": [
    "tf = transforms.Compose([\n",
    "        transforms.ToTensor(),\n",
    "        transforms.Normalize([0.5], [0.5]),\n",
    "    ])"
   ]
  },
  {
   "cell_type": "code",
   "execution_count": 5,
   "metadata": {},
   "outputs": [],
   "source": [
    "def task_dataloader(task_num):\n",
    "    task_dir = {0: [0, 1], 1: [2, 3], 2: [4, 5], 3: [6, 7], 4:[8, 9]}\n",
    "\n",
    "    train_dataset = datasets.MNIST(root='data', train=True, download=True, transform=tf)\n",
    "\n",
    "    indices = [i for i, (_, label) in enumerate(train_dataset) if label in task_dir[task_num]]\n",
    "    dataset = Subset(train_dataset, indices)\n",
    "    task_train_loader = DataLoader(dataset, batch_size=batch_size, shuffle=False, drop_last=True)\n",
    "\n",
    "    test_dataset = datasets.MNIST(root='./data', train=False, transform=tf, download=True)\n",
    "    indices = [i for i, (_, label) in enumerate(test_dataset) if label in task_dir[task_num]]\n",
    "    dataset = Subset(test_dataset, indices)\n",
    "    task_test_loader = DataLoader(dataset, batch_size=batch_size, shuffle=False, drop_last=True)\n",
    "\n",
    "    return task_train_loader, task_test_loader\n",
    "\n",
    "def load_all_data():\n",
    "    train_dataset = datasets.MNIST(root='./data', train=True, transform=tf, download=True)\n",
    "    train_loader = DataLoader(dataset=train_dataset, batch_size=batch_size, shuffle=False, drop_last=True)\n",
    "\n",
    "    test_dataset = datasets.MNIST(root='./data', train=False, transform=tf, download=True)\n",
    "    test_loader = DataLoader(dataset=test_dataset, batch_size=batch_size, shuffle=False, drop_last=True)\n",
    "\n",
    "    return train_loader, test_loader"
   ]
  },
  {
   "cell_type": "code",
   "execution_count": 6,
   "metadata": {},
   "outputs": [],
   "source": [
    "def adjust_learning_rate(optimizer):\n",
    "    for param_group in optimizer.param_groups:\n",
    "        param_group['lr'] = 0.75 * param_group['lr']"
   ]
  },
  {
   "cell_type": "code",
   "execution_count": 7,
   "metadata": {},
   "outputs": [],
   "source": [
    "class MLP_Enhance(nn.Module):\n",
    "    def __init__(self, out_dim=10, in_channel=1, img_sz=28, hidden_dim=400):\n",
    "        super(MLP_Enhance, self).__init__()\n",
    "        self.in_dim = in_channel*img_sz*img_sz\n",
    "        self.linear = nn.Sequential(\n",
    "            nn.Linear(self.in_dim, hidden_dim),\n",
    "            nn.BatchNorm1d(hidden_dim),\n",
    "            nn.ReLU(inplace=True),\n",
    "            nn.Linear(hidden_dim, hidden_dim),\n",
    "            nn.BatchNorm1d(hidden_dim),\n",
    "            nn.ReLU(inplace=True),\n",
    "        )\n",
    "        self.last = nn.Sequential(\n",
    "            nn.Linear(hidden_dim, out_dim),\n",
    "            nn.Softmax(dim=1)\n",
    "        )\n",
    "        self.init_weights()\n",
    "\n",
    "    def init_weights(self):\n",
    "        for layer in self.linear:\n",
    "            if isinstance(layer, nn.Linear):\n",
    "                init.kaiming_normal_(layer.weight, mode='fan_out', nonlinearity='relu')\n",
    "                init.constant_(layer.bias, 0)\n",
    "        last_linear = self.last[0]\n",
    "        init.xavier_normal_(last_linear.weight)\n",
    "        init.constant_(last_linear.bias, 0)\n",
    "\n",
    "\n",
    "    def features(self, x):\n",
    "        x = self.linear(x.view(-1,self.in_dim))\n",
    "        return x\n",
    "\n",
    "    def logits(self, x):\n",
    "        x = self.last(x)\n",
    "        return x\n",
    "\n",
    "    def forward(self, x):\n",
    "        x = self.features(x)\n",
    "        x = self.logits(x)\n",
    "        return x"
   ]
  },
  {
   "cell_type": "code",
   "execution_count": 8,
   "metadata": {},
   "outputs": [],
   "source": [
    "train_loader, test_loader = load_all_data()\n",
    "task_dataloaders = {}\n",
    "for task in range(0, 5):\n",
    "    train_dl, test_ld = task_dataloader(task)\n",
    "    task_dataloaders[task] = (train_dl, test_ld)"
   ]
  },
  {
   "cell_type": "code",
   "execution_count": 9,
   "metadata": {},
   "outputs": [],
   "source": [
    "def cal_acc(model, dataloader, device):\n",
    "    model.eval()\n",
    "    correct, total = 0., 0.\n",
    "    with torch.no_grad():\n",
    "        for images, labels in dataloader:\n",
    "            images, labels = images.to(device), labels.to(device)\n",
    "            outputs = model(images)\n",
    "            _, predicted = torch.max(outputs.data, 1)\n",
    "            total += labels.size(0)\n",
    "            correct += (predicted == labels).sum().item()\n",
    "\n",
    "    return correct / total"
   ]
  },
  {
   "cell_type": "code",
   "execution_count": 10,
   "metadata": {},
   "outputs": [],
   "source": [
    "def plot_acc_history(all_accuracies):\n",
    "    plt.figure(figsize=(18, 12))\n",
    "\n",
    "    for i, task_accuracies in enumerate(all_accuracies):\n",
    "        plt.subplot(2, 3, i+1)\n",
    "        for task, accs in task_accuracies.items():\n",
    "            plt.plot(accs,'-', label=f'Task {task}')\n",
    "        plt.title(f'Accuracy per Mini-Batch for Task {i}')\n",
    "        plt.xlabel('Mini-Batch Number')\n",
    "        plt.ylabel('Accuracy (%)')\n",
    "        plt.ylim(-5, 105)\n",
    "        plt.legend()\n",
    "        plt.grid(True)\n",
    "\n",
    "    plt.tight_layout()\n",
    "    plt.show()\n",
    "\n",
    "\n",
    "def plot_task_acc_history(all_accuracies, save_name, epochs):\n",
    "    for task in [0, 1, 2, 3, 4]:\n",
    "        if (task == 0):\n",
    "            task_history = []\n",
    "        else:\n",
    "            task_history =  [0] * (epochs * task)\n",
    "        for i, task_accuracies in enumerate (all_accuracies):\n",
    "            if (i >= task):\n",
    "                task_history.extend(task_accuracies[task])\n",
    "                    \n",
    "        plt.plot(task_history, '-', label=f'Task {task}')\n",
    "\n",
    "    plt.xlabel('Mini-Batch Number')\n",
    "    plt.ylabel('Accuracy (%)')\n",
    "    plt.ylim(-5, 105)\n",
    "    plt.legend()\n",
    "    plt.grid(True)\n",
    "    plt.tight_layout()\n",
    "    plt.savefig(save_name) \n",
    "    plt.show()"
   ]
  },
  {
   "cell_type": "markdown",
   "metadata": {},
   "source": [
    "# Train"
   ]
  },
  {
   "cell_type": "code",
   "execution_count": 11,
   "metadata": {},
   "outputs": [],
   "source": [
    "def train(model, task_num, criterion, prev_model, factor, alpha = 1., epoches = 4, lr = 0.005, loss_type = [\"Baseline\"]):\n",
    "    follower = MLP_Enhance()\n",
    "    follower = follower.to(device)\n",
    "    follower.load_state_dict(model.state_dict())\n",
    "    criterion = nn.CrossEntropyLoss()\n",
    "    optimizer_F = torch.optim.Adam(follower.parameters(), lr)\n",
    "        \n",
    "    train_loader = task_dataloaders[task_num][0]\n",
    "    task_accuracies = {task: [] for task in range(task_num + 1)}\n",
    "\n",
    "    distribution_factor = 20\n",
    "    follow_leader_factor = factor[1][task_num]\n",
    "\n",
    "    if(task_num != 0):\n",
    "        leading_factor = follow_leader_factor / task_num * alpha\n",
    "        if(task_num != 1):\n",
    "            sub_leading_factor = (follow_leader_factor - leading_factor) / (task_num - 1)\n",
    "        else:\n",
    "            sub_leading_factor = 0\n",
    "    \n",
    "    valid_out_dim = task_num * 2 + 2\n",
    "    logging.info(f\"##########Task {task_num}##########\")\n",
    "    for e in range(epoches):\n",
    "        logging.info(f\"Epoch {e}\")\n",
    "        batch_num = 0\n",
    "        for images, labels in train_loader:\n",
    "            follower.train()\n",
    "            images, labels = images.to(device), labels.to(device)\n",
    "            outputs = follower(images)\n",
    "\n",
    "            reg_loss = 0\n",
    "            if (\"distribution\" in loss_type):\n",
    "                random_data = torch.rand(256, 1, 28, 28).to(device)\n",
    "                random_data = (random_data - 0.5) / 0.5\n",
    "                random_target = torch.randint(0, 10, (256,), dtype=torch.int64).to(device)\n",
    "                fake_output = follower(random_data)\n",
    "                reg_loss += distribution_factor * criterion(fake_output, random_target)\n",
    "\n",
    "            if (\"follow_leader\" in loss_type):\n",
    "                for k, mod in enumerate(prev_model):\n",
    "                    with torch.no_grad():\n",
    "                        leader_output = mod(images)\n",
    "                    diff = torch.mean(torch.abs(leader_output[:,k*2:k * 2 + 2] - outputs[:,k*2:k * 2 + 2]))\n",
    "\n",
    "                    if (k == task_num - 1): # the nearest model will be the leader\n",
    "                        reg_loss += leading_factor * diff\n",
    "                    else:\n",
    "                        reg_loss += sub_leading_factor * diff\n",
    "                    \n",
    "            loss = criterion(outputs[:,:valid_out_dim], labels) + reg_loss\n",
    "            optimizer_F.zero_grad()\n",
    "            loss.backward()\n",
    "            optimizer_F.step()\n",
    "            batch_num += 1\n",
    "\n",
    "        adjust_learning_rate(optimizer_F)\n",
    "\n",
    "        avg_acc = 0\n",
    "        log_message = []\n",
    "        log_message.append(f\"Epoch: {e}, \")\n",
    "        for task in range(task_num + 1):\n",
    "            acc = cal_acc(follower, task_dataloaders[task][0], device)\n",
    "            avg_acc += acc\n",
    "            task_accuracies[task].append(acc * 100)\n",
    "            log_message.append(f\"Task {task} acc: {acc * 100:.4f}\")\n",
    "\n",
    "        logging.info(', '.join(log_message) + f\", Task avg acc:{avg_acc*100/(task_num + 1):.4f}\")\n",
    "    \n",
    "    return follower, task_accuracies"
   ]
  },
  {
   "cell_type": "code",
   "execution_count": 12,
   "metadata": {},
   "outputs": [],
   "source": [
    "def setup_logging(file_name):\n",
    "    logging.basicConfig(level=logging.INFO,\n",
    "                        format='%(asctime)s - %(levelname)s - %(message)s',\n",
    "                        handlers=[\n",
    "                            logging.FileHandler(file_name),\n",
    "                            logging.StreamHandler()\n",
    "                        ],\n",
    "                        force=True)\n",
    "    \n",
    "def train_split_task(task_name):\n",
    "    print(f\"Training on {task_name}\")\n",
    "    prev_model = []\n",
    "    model = MLP_Enhance()\n",
    "    model = model.to(device)\n",
    "    criterion = nn.CrossEntropyLoss()\n",
    "\n",
    "    settings = train_settings[task_name]\n",
    "    epochs, lr, loss_type, factor, alpha = settings['epochs'], settings['lr'], settings['loss_type'], settings['factor'], settings['alpha']\n",
    "\n",
    "    file_name = f\"{output_dir}/{task_name}_epochs={epochs}_alpha={alpha}_factor={factor}\"\n",
    "\n",
    "    log_file_name = file_name + '.log'\n",
    "    img_file_name = file_name + '.png'\n",
    "    if os.path.exists(log_file_name) == False:\n",
    "        setup_logging(log_file_name)\n",
    "        all_accuracies = []\n",
    "        for task in [0, 1, 2, 3, 4]:\n",
    "            model, task_accuracies = train(model, task, criterion, prev_model, factor = factor, alpha = alpha, \n",
    "                                           epoches = epochs, lr = lr, loss_type = loss_type)\n",
    "            all_accuracies.append(task_accuracies)\n",
    "            prev_model.append(copy.deepcopy(model))\n",
    "\n",
    "        plot_task_acc_history(all_accuracies, img_file_name, epochs)"
   ]
  },
  {
   "cell_type": "code",
   "execution_count": 13,
   "metadata": {},
   "outputs": [
    {
     "name": "stdout",
     "output_type": "stream",
     "text": [
      "Training on combined_1\n"
     ]
    },
    {
     "name": "stderr",
     "output_type": "stream",
     "text": [
      "2024-06-01 09:54:28,786 - INFO - ##########Task 0##########\n",
      "2024-06-01 09:54:28,786 - INFO - Epoch 0\n",
      "2024-06-01 09:54:34,283 - INFO - Epoch: 0, , Task 0 acc: 77.3677, Task avg acc:77.3677\n",
      "2024-06-01 09:54:34,283 - INFO - Epoch 1\n",
      "2024-06-01 09:54:39,386 - INFO - Epoch: 1, , Task 0 acc: 96.2213, Task avg acc:96.2213\n",
      "2024-06-01 09:54:39,387 - INFO - Epoch 2\n",
      "2024-06-01 09:54:44,656 - INFO - Epoch: 2, , Task 0 acc: 97.4570, Task avg acc:97.4570\n",
      "2024-06-01 09:54:44,657 - INFO - Epoch 3\n",
      "2024-06-01 09:54:49,924 - INFO - Epoch: 3, , Task 0 acc: 98.0309, Task avg acc:98.0309\n",
      "2024-06-01 09:54:49,940 - INFO - ##########Task 1##########\n",
      "2024-06-01 09:54:49,941 - INFO - Epoch 0\n",
      "2024-06-01 09:54:57,417 - INFO - Epoch: 0, , Task 0 acc: 68.0724, Task 1 acc: 65.9491, Task avg acc:67.0108\n",
      "2024-06-01 09:54:57,418 - INFO - Epoch 1\n",
      "2024-06-01 09:55:04,946 - INFO - Epoch: 1, , Task 0 acc: 73.7883, Task 1 acc: 81.3414, Task avg acc:77.5648\n",
      "2024-06-01 09:55:04,947 - INFO - Epoch 2\n",
      "2024-06-01 09:55:13,369 - INFO - Epoch: 2, , Task 0 acc: 60.6665, Task 1 acc: 77.3604, Task avg acc:69.0134\n",
      "2024-06-01 09:55:13,370 - INFO - Epoch 3\n",
      "2024-06-01 09:55:21,608 - INFO - Epoch: 3, , Task 0 acc: 73.7404, Task 1 acc: 71.6090, Task avg acc:72.6747\n",
      "2024-06-01 09:55:21,622 - INFO - ##########Task 2##########\n",
      "2024-06-01 09:55:21,622 - INFO - Epoch 0\n",
      "2024-06-01 09:55:32,260 - INFO - Epoch: 0, , Task 0 acc: 65.9997, Task 1 acc: 20.9192, Task 2 acc: 54.2116, Task avg acc:47.0435\n",
      "2024-06-01 09:55:32,261 - INFO - Epoch 1\n",
      "2024-06-01 09:55:41,640 - INFO - Epoch: 1, , Task 0 acc: 59.3591, Task 1 acc: 16.3065, Task 2 acc: 52.4784, Task avg acc:42.7147\n",
      "2024-06-01 09:55:41,641 - INFO - Epoch 2\n",
      "2024-06-01 09:55:51,451 - INFO - Epoch: 2, , Task 0 acc: 61.5434, Task 1 acc: 34.5080, Task 2 acc: 53.4932, Task avg acc:49.8482\n",
      "2024-06-01 09:55:51,452 - INFO - Epoch 3\n",
      "2024-06-01 09:56:02,515 - INFO - Epoch: 3, , Task 0 acc: 62.4442, Task 1 acc: 30.1031, Task 2 acc: 60.6501, Task avg acc:51.0658\n",
      "2024-06-01 09:56:02,530 - INFO - ##########Task 3##########\n",
      "2024-06-01 09:56:02,531 - INFO - Epoch 0\n",
      "2024-06-01 09:56:15,979 - INFO - Epoch: 0, , Task 0 acc: 66.5019, Task 1 acc: 12.8241, Task 2 acc: 15.0323, Task 3 acc: 58.8405, Task avg acc:38.2997\n",
      "2024-06-01 09:56:15,980 - INFO - Epoch 1\n",
      "2024-06-01 09:56:28,173 - INFO - Epoch: 1, , Task 0 acc: 85.2997, Task 1 acc: 12.4917, Task 2 acc: 5.7292, Task 3 acc: 67.1793, Task avg acc:42.6750\n",
      "2024-06-01 09:56:28,174 - INFO - Epoch 2\n",
      "2024-06-01 09:56:40,397 - INFO - Epoch: 2, , Task 0 acc: 83.8648, Task 1 acc: 9.4997, Task 2 acc: 29.1756, Task 3 acc: 61.7763, Task avg acc:46.0791\n",
      "2024-06-01 09:56:40,398 - INFO - Epoch 3\n",
      "2024-06-01 09:56:52,532 - INFO - Epoch: 3, , Task 0 acc: 81.5210, Task 1 acc: 15.0515, Task 2 acc: 17.9598, Task 3 acc: 57.6398, Task avg acc:43.0430\n",
      "2024-06-01 09:56:52,547 - INFO - ##########Task 4##########\n",
      "2024-06-01 09:56:52,547 - INFO - Epoch 0\n",
      "2024-06-01 09:57:07,306 - INFO - Epoch: 0, , Task 0 acc: 74.1071, Task 1 acc: 17.1709, Task 2 acc: 13.9547, Task 3 acc: 0.9622, Task 4 acc: 61.6508, Task avg acc:33.5691\n",
      "2024-06-01 09:57:07,307 - INFO - Epoch 1\n",
      "2024-06-01 09:57:21,897 - INFO - Epoch: 1, , Task 0 acc: 76.4828, Task 1 acc: 34.5994, Task 2 acc: 7.7137, Task 3 acc: 5.5099, Task 4 acc: 59.4684, Task avg acc:36.7548\n",
      "2024-06-01 09:57:21,898 - INFO - Epoch 2\n",
      "2024-06-01 09:57:36,344 - INFO - Epoch: 2, , Task 0 acc: 75.4066, Task 1 acc: 36.3697, Task 2 acc: 11.8714, Task 3 acc: 2.5905, Task 4 acc: 57.5323, Task avg acc:36.7541\n",
      "2024-06-01 09:57:36,345 - INFO - Epoch 3\n",
      "2024-06-01 09:57:50,336 - INFO - Epoch: 3, , Task 0 acc: 74.5137, Task 1 acc: 32.5881, Task 2 acc: 5.6663, Task 3 acc: 4.4984, Task 4 acc: 62.1179, Task avg acc:35.8769\n"
     ]
    },
    {
     "data": {
      "image/png": "[encoded data removed]",
      "text/plain": [
       "<Figure size 432x288 with 1 Axes>"
      ]
     },
     "metadata": {
      "needs_background": "light"
     },
     "output_type": "display_data"
    }
   ],
   "source": [
    "for key in train_settings.keys():\n",
    "    train_split_task(key)"
   ]
  },
  {
   "cell_type": "code",
   "execution_count": 14,
   "metadata": {},
   "outputs": [
    {
     "ename": "KeyError",
     "evalue": "'l2'",
     "output_type": "error",
     "traceback": [
      "\u001b[1;31m---------------------------------------------------------------------------\u001b[0m",
      "\u001b[1;31mKeyError\u001b[0m                                  Traceback (most recent call last)",
      "Input \u001b[1;32mIn [14]\u001b[0m, in \u001b[0;36m<cell line: 9>\u001b[1;34m()\u001b[0m\n\u001b[0;32m     10\u001b[0m plt\u001b[38;5;241m.\u001b[39msubplot(nrows, ncols, i \u001b[38;5;241m+\u001b[39m \u001b[38;5;241m1\u001b[39m)\n\u001b[0;32m     12\u001b[0m settings \u001b[38;5;241m=\u001b[39m train_settings[key]\n\u001b[1;32m---> 13\u001b[0m epochs, lr, l2, loss_type, factor \u001b[38;5;241m=\u001b[39m settings[\u001b[38;5;124m'\u001b[39m\u001b[38;5;124mepochs\u001b[39m\u001b[38;5;124m'\u001b[39m], settings[\u001b[38;5;124m'\u001b[39m\u001b[38;5;124mlr\u001b[39m\u001b[38;5;124m'\u001b[39m], \u001b[43msettings\u001b[49m\u001b[43m[\u001b[49m\u001b[38;5;124;43m'\u001b[39;49m\u001b[38;5;124;43ml2\u001b[39;49m\u001b[38;5;124;43m'\u001b[39;49m\u001b[43m]\u001b[49m, settings[\u001b[38;5;124m'\u001b[39m\u001b[38;5;124mloss_type\u001b[39m\u001b[38;5;124m'\u001b[39m], settings[\u001b[38;5;124m'\u001b[39m\u001b[38;5;124mfactor\u001b[39m\u001b[38;5;124m'\u001b[39m]\n\u001b[0;32m     15\u001b[0m file_name \u001b[38;5;241m=\u001b[39m \u001b[38;5;124mf\u001b[39m\u001b[38;5;124m\"\u001b[39m\u001b[38;5;132;01m{\u001b[39;00moutput_dir\u001b[38;5;132;01m}\u001b[39;00m\u001b[38;5;124m/\u001b[39m\u001b[38;5;132;01m{\u001b[39;00mkey\u001b[38;5;132;01m}\u001b[39;00m\u001b[38;5;124m_epochs=\u001b[39m\u001b[38;5;132;01m{\u001b[39;00mepochs\u001b[38;5;132;01m}\u001b[39;00m\u001b[38;5;124m_lr=\u001b[39m\u001b[38;5;132;01m{\u001b[39;00mlr\u001b[38;5;132;01m}\u001b[39;00m\u001b[38;5;124m_factor=\u001b[39m\u001b[38;5;132;01m{\u001b[39;00mfactor\u001b[38;5;132;01m}\u001b[39;00m\u001b[38;5;124m_l2=\u001b[39m\u001b[38;5;132;01m{\u001b[39;00ml2\u001b[38;5;132;01m}\u001b[39;00m\u001b[38;5;124m.png\u001b[39m\u001b[38;5;124m\"\u001b[39m\n\u001b[0;32m     16\u001b[0m \u001b[38;5;28;01mtry\u001b[39;00m:\n",
      "\u001b[1;31mKeyError\u001b[0m: 'l2'"
     ]
    },
    {
     "data": {
      "image/png": "[encoded data removed]",
      "text/plain": [
       "<Figure size 1512x288 with 1 Axes>"
      ]
     },
     "metadata": {
      "needs_background": "light"
     },
     "output_type": "display_data"
    }
   ],
   "source": [
    "from PIL import Image\n",
    "import matplotlib.pyplot as plt\n",
    "import math\n",
    "\n",
    "ncols = 3\n",
    "nrows = math.ceil(len(train_settings.keys()) / 3.)\n",
    "\n",
    "plt.figure(figsize=(21, 4 * nrows))  # Adjust the figure size based on the number of rows\n",
    "for i, key in enumerate(train_settings.keys()):\n",
    "    plt.subplot(nrows, ncols, i + 1)\n",
    "\n",
    "    settings = train_settings[key]\n",
    "    epochs, lr, l2, loss_type, factor = settings['epochs'], settings['lr'], settings['l2'], settings['loss_type'], settings['factor']\n",
    "\n",
    "    file_name = f\"{output_dir}/{key}_epochs={epochs}_lr={lr}_factor={factor}_l2={l2}.png\"\n",
    "    try:\n",
    "        with Image.open(file_name) as img:\n",
    "            plt.imshow(img)\n",
    "            plt.title(f\"{key}_factor={factor}.png\")\n",
    "            plt.axis('off')\n",
    "    except FileNotFoundError:\n",
    "        print(f\"Error: The file '{file_name}' does not exist.\")\n",
    "plt.tight_layout()\n",
    "plt.show()  # Move plt.show() outside the loop to display all subplots at once\n"
   ]
  }
 ],
 "metadata": {
  "kernelspec": {
   "display_name": "ml",
   "language": "python",
   "name": "python3"
  },
  "language_info": {
   "codemirror_mode": {
    "name": "ipython",
    "version": 3
   },
   "file_extension": ".py",
   "mimetype": "text/x-python",
   "name": "python",
   "nbconvert_exporter": "python",
   "pygments_lexer": "ipython3",
   "version": "3.8.12"
  }
 },
 "nbformat": 4,
 "nbformat_minor": 2
}
