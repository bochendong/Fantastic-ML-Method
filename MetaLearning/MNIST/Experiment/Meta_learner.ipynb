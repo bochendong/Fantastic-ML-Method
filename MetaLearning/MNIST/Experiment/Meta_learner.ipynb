{
 "cells": [
  {
   "cell_type": "code",
   "execution_count": 1,
   "metadata": {},
   "outputs": [
    {
     "name": "stderr",
     "output_type": "stream",
     "text": [
      "/Users/dongpochen/opt/anaconda3/envs/torch/lib/python3.9/site-packages/tqdm/auto.py:21: TqdmWarning: IProgress not found. Please update jupyter and ipywidgets. See https://ipywidgets.readthedocs.io/en/stable/user_install.html\n",
      "  from .autonotebook import tqdm as notebook_tqdm\n"
     ]
    }
   ],
   "source": [
    "import torch\n",
    "import os\n",
    "import numpy as np\n",
    "import torch.nn.init as init\n",
    "from torchvision import datasets, transforms\n",
    "from torch import optim, nn\n",
    "from torch.utils.data import DataLoader, Subset\n",
    "import matplotlib.pyplot as plt\n",
    "import logging\n",
    "import math"
   ]
  },
  {
   "cell_type": "code",
   "execution_count": 2,
   "metadata": {},
   "outputs": [],
   "source": [
    "batch_size = 128\n",
    "device = torch.device(\"cuda\" if torch.cuda.is_available() else \"cpu\")\n",
    "output_dir = './meta_out'"
   ]
  },
  {
   "cell_type": "code",
   "execution_count": 3,
   "metadata": {},
   "outputs": [],
   "source": [
    "train_settings = {\n",
    "    \"combined_1\": {\"epochs\": 4, \"lr\": 0.005, \"loss_type\": [\"distribution\", \"follow_leader\"], \"alpha\": 1.},\n",
    "}"
   ]
  },
  {
   "cell_type": "markdown",
   "metadata": {},
   "source": [
    "## Dataloader"
   ]
  },
  {
   "cell_type": "code",
   "execution_count": 4,
   "metadata": {},
   "outputs": [],
   "source": [
    "tf = transforms.Compose([\n",
    "        transforms.ToTensor(),\n",
    "        transforms.Normalize([0.5], [0.5]),\n",
    "    ])"
   ]
  },
  {
   "cell_type": "code",
   "execution_count": 5,
   "metadata": {},
   "outputs": [],
   "source": [
    "def task_dataloader(task_num):\n",
    "    task_dir = {0: [0, 1], 1: [2, 3], 2: [4, 5], 3: [6, 7], 4:[8, 9]}\n",
    "\n",
    "    train_dataset = datasets.MNIST(root='data', train=True, download=True, transform=tf)\n",
    "\n",
    "    indices = [i for i, (_, label) in enumerate(train_dataset) if label in task_dir[task_num]]\n",
    "    dataset = Subset(train_dataset, indices)\n",
    "    task_train_loader = DataLoader(dataset, batch_size=batch_size, shuffle=False, drop_last=True)\n",
    "\n",
    "    test_dataset = datasets.MNIST(root='./data', train=False, transform=tf, download=True)\n",
    "    indices = [i for i, (_, label) in enumerate(test_dataset) if label in task_dir[task_num]]\n",
    "    dataset = Subset(test_dataset, indices)\n",
    "    task_test_loader = DataLoader(dataset, batch_size=batch_size, shuffle=False, drop_last=True)\n",
    "\n",
    "    return task_train_loader, task_test_loader\n",
    "\n",
    "def load_all_data():\n",
    "    train_dataset = datasets.MNIST(root='./data', train=True, transform=tf, download=True)\n",
    "    train_loader = DataLoader(dataset=train_dataset, batch_size=batch_size, shuffle=False, drop_last=True)\n",
    "\n",
    "    test_dataset = datasets.MNIST(root='./data', train=False, transform=tf, download=True)\n",
    "    test_loader = DataLoader(dataset=test_dataset, batch_size=batch_size, shuffle=False, drop_last=True)\n",
    "\n",
    "    return train_loader, test_loader"
   ]
  },
  {
   "cell_type": "code",
   "execution_count": null,
   "metadata": {},
   "outputs": [],
   "source": [
    "class SoftmaxDataset(torch.utils.data.Dataset):\n",
    "    def __init__(self, batch_size, seq_len, num_features, num_samples):\n",
    "        self.batch_size = batch_size\n",
    "        self.seq_len = seq_len\n",
    "        self.num_features = num_features\n",
    "        self.num_samples = num_samples\n",
    "        \n",
    "    def __len__(self):\n",
    "        return self.num_samples\n",
    "    \n",
    "    def __getitem__(self, idx):\n",
    "        logits = np.random.rand(self.batch_size, self.seq_len, self.num_features)\n",
    "        inputs = torch.tensor(self.softmax(logits), dtype=torch.float32)\n",
    "        targets = torch.tensor([2.0] * self.batch_size, dtype=torch.float32)\n",
    "        return inputs, targets\n",
    "    \n",
    "    @staticmethod\n",
    "    def softmax(x):\n",
    "        e_x = np.exp(x - np.max(x, axis=-1, keepdims=True))\n",
    "        return e_x / e_x.sum(axis=-1, keepdims=True)"
   ]
  },
  {
   "cell_type": "code",
   "execution_count": 6,
   "metadata": {},
   "outputs": [],
   "source": [
    "def adjust_learning_rate(optimizer):\n",
    "    for param_group in optimizer.param_groups:\n",
    "        param_group['lr'] = 0.75 * param_group['lr']"
   ]
  },
  {
   "cell_type": "markdown",
   "metadata": {},
   "source": [
    "# Model"
   ]
  },
  {
   "cell_type": "code",
   "execution_count": 13,
   "metadata": {},
   "outputs": [],
   "source": [
    "class MetaLearner(nn.Module):\n",
    "    def __init__(self):\n",
    "        super(MetaLearner, self).__init__()\n",
    "\n",
    "        self.linear = nn.Sequential(\n",
    "            nn.Linear(1, 64),\n",
    "            nn.ReLU(inplace=True),\n",
    "            nn.Linear(64, 2)\n",
    "        )\n",
    "\n",
    "    def forward(self, task_num):\n",
    "        x = torch.tensor([task_num], dtype=torch.float32).unsqueeze(0)\n",
    "        x = self.linear(x)\n",
    "        weights = torch.sigmoid(x) * 0.5 + 1\n",
    "        return weights"
   ]
  },
  {
   "cell_type": "code",
   "execution_count": 8,
   "metadata": {},
   "outputs": [],
   "source": [
    "class MLP_Enhance(nn.Module):\n",
    "    def __init__(self, out_dim=10, in_channel=1, img_sz=28, hidden_dim=400):\n",
    "        super(MLP_Enhance, self).__init__()\n",
    "        self.in_dim = in_channel*img_sz*img_sz\n",
    "        self.linear = nn.Sequential(\n",
    "            nn.Linear(self.in_dim, hidden_dim),\n",
    "            nn.BatchNorm1d(hidden_dim),\n",
    "            nn.ReLU(inplace=True),\n",
    "            nn.Linear(hidden_dim, hidden_dim),\n",
    "            nn.BatchNorm1d(hidden_dim),\n",
    "            nn.ReLU(inplace=True),\n",
    "        )\n",
    "        self.last = nn.Sequential(\n",
    "            nn.Linear(hidden_dim, out_dim),\n",
    "            nn.Softmax(dim=1)\n",
    "        )\n",
    "        self.init_weights()\n",
    "\n",
    "    def init_weights(self):\n",
    "        for layer in self.linear:\n",
    "            if isinstance(layer, nn.Linear):\n",
    "                init.kaiming_normal_(layer.weight, mode='fan_out', nonlinearity='relu')\n",
    "                init.constant_(layer.bias, 0)\n",
    "        last_linear = self.last[0]\n",
    "        init.xavier_normal_(last_linear.weight)\n",
    "        init.constant_(last_linear.bias, 0)\n",
    "\n",
    "\n",
    "    def features(self, x):\n",
    "        x = self.linear(x.view(-1,self.in_dim))\n",
    "        return x\n",
    "\n",
    "    def logits(self, x):\n",
    "        x = self.last(x)\n",
    "        return x\n",
    "\n",
    "    def forward(self, x):\n",
    "        x = self.features(x)\n",
    "        x = self.logits(x)\n",
    "        return x"
   ]
  },
  {
   "cell_type": "code",
   "execution_count": 9,
   "metadata": {},
   "outputs": [],
   "source": [
    "train_loader, test_loader = load_all_data()\n",
    "task_dataloaders = {}\n",
    "for task in range(0, 5):\n",
    "    train_dl, test_ld = task_dataloader(task)\n",
    "    task_dataloaders[task] = (train_dl, test_ld)"
   ]
  },
  {
   "cell_type": "code",
   "execution_count": 10,
   "metadata": {},
   "outputs": [],
   "source": [
    "def cal_acc(model, dataloader, device):\n",
    "    model.eval()\n",
    "    correct, total = 0., 0.\n",
    "    with torch.no_grad():\n",
    "        for images, labels in dataloader:\n",
    "            images, labels = images.to(device), labels.to(device)\n",
    "            outputs = model(images)\n",
    "            _, predicted = torch.max(outputs.data, 1)\n",
    "            total += labels.size(0)\n",
    "            correct += (predicted == labels).sum().item()\n",
    "\n",
    "    return correct / total"
   ]
  },
  {
   "cell_type": "code",
   "execution_count": 14,
   "metadata": {},
   "outputs": [],
   "source": [
    "def plot_acc_history(all_accuracies):\n",
    "    plt.figure(figsize=(18, 12))\n",
    "\n",
    "    for i, task_accuracies in enumerate(all_accuracies):\n",
    "        plt.subplot(2, 3, i+1)\n",
    "        for task, accs in task_accuracies.items():\n",
    "            plt.plot(accs,'-', label=f'Task {task}')\n",
    "        plt.title(f'Accuracy per Mini-Batch for Task {i}')\n",
    "        plt.xlabel('Mini-Batch Number')\n",
    "        plt.ylabel('Accuracy (%)')\n",
    "        plt.ylim(-5, 105)\n",
    "        plt.legend()\n",
    "        plt.grid(True)\n",
    "\n",
    "    plt.tight_layout()\n",
    "    plt.show()\n",
    "\n",
    "\n",
    "def plot_task_acc_history(all_accuracies, save_name, epochs):\n",
    "    for task in [0, 1, 2, 3, 4]:\n",
    "        if (task == 0):\n",
    "            task_history = []\n",
    "        else:\n",
    "            task_history =  [0] * (epochs * task)\n",
    "        for i, task_accuracies in enumerate (all_accuracies):\n",
    "            if (i >= task):\n",
    "                task_history.extend(task_accuracies[task])\n",
    "                    \n",
    "        plt.plot(task_history, '-', label=f'Task {task}')\n",
    "\n",
    "    plt.xlabel('Mini-Batch Number')\n",
    "    plt.ylabel('Accuracy (%)')\n",
    "    plt.ylim(-5, 105)\n",
    "    plt.legend()\n",
    "    plt.grid(True)\n",
    "    plt.tight_layout()\n",
    "    plt.savefig(save_name) \n",
    "    plt.show()"
   ]
  },
  {
   "cell_type": "code",
   "execution_count": 15,
   "metadata": {},
   "outputs": [],
   "source": [
    "meta_learner = MetaLearner().to(device)\n",
    "meta_optimizer = torch.optim.Adam(meta_learner.parameters(), lr=0.001)\n",
    "\n",
    "\n",
    "# Parameters\n",
    "batch_size = 32\n",
    "seq_len = 128\n",
    "num_features = 10\n",
    "num_samples = 1000\n",
    "\n",
    "# Dataset and DataLoader\n",
    "dataset = SoftmaxDataset(batch_size, seq_len, num_features, num_samples)\n",
    "dataloader = torch.utils.data.DataLoader(dataset, batch_size=1, shuffle=True)\n",
    "\n",
    "def pretrain_meta_learner(meta_learner, optimizer_M, dataloader):\n",
    "    pretrain_epochs = 5\n",
    "    criterion = nn.MSELoss()\n",
    "    for epoch in range(pretrain_epochs):\n",
    "        for inputs, targets in dataloader:\n",
    "            meta_learner.train()\n",
    "            inputs = inputs.squeeze(0) \n",
    "            targets = targets.squeeze(0)\n",
    "            \n",
    "            outputs = meta_learner(inputs)\n",
    "            loss = criterion(outputs, targets)\n",
    "            \n",
    "            optimizer_M.zero_grad()\n",
    "            loss.backward()\n",
    "            optimizer_M.step()\n",
    "\n",
    "pretrain_meta_learner()"
   ]
  },
  {
   "cell_type": "markdown",
   "metadata": {},
   "source": [
    "# Train"
   ]
  },
  {
   "cell_type": "code",
   "execution_count": 49,
   "metadata": {},
   "outputs": [],
   "source": [
    "def train(model, task_num, criterion, prev_model, epoches = 4, lr = 0.005, loss_type = [\"Baseline\"]):\n",
    "    follower = MLP_Enhance()\n",
    "    follower = follower.to(device)\n",
    "    follower.load_state_dict(model.state_dict())\n",
    "    criterion = nn.CrossEntropyLoss()\n",
    "    optimizer_F = torch.optim.Adam(follower.parameters(), lr)\n",
    "        \n",
    "    train_loader = task_dataloaders[task_num][0]\n",
    "    task_accuracies = {task: [] for task in range(task_num + 1)}\n",
    "    distribution_factor = 20\n",
    "\n",
    "    valid_out_dim = task_num * 2 + 2\n",
    "    logging.info(f\"##########Task {task_num}##########\")\n",
    "    for e in range(epoches):\n",
    "        logging.info(f\"Epoch {e}\")\n",
    "        batch_num = 0\n",
    "        for images, labels in train_loader:\n",
    "            follower.train()\n",
    "            meta_learner.eval()\n",
    "            images, labels = images.to(device), labels.to(device)\n",
    "            outputs = follower(images)\n",
    "            with torch.no_grad():\n",
    "                meta_weights = meta_learner(task_num)[0]\n",
    "            leading_factor, sub_leading_factor = meta_weights[0], meta_weights[1]\n",
    "\n",
    "            if (batch_num % 10 == 0):\n",
    "                print(f\"leading_factor {leading_factor.item():.4f}, sub_leading_factor: {sub_leading_factor.item():.4f}\")\n",
    "            reg_loss = 0\n",
    "            if (\"distribution\" in loss_type):\n",
    "                random_data = torch.rand(256, 1, 28, 28).to(device)\n",
    "                random_data = (random_data - 0.5) / 0.5\n",
    "                random_target = torch.randint(0, 10, (256,), dtype=torch.int64).to(device)\n",
    "                fake_output = follower(random_data)\n",
    "                reg_loss += distribution_factor * criterion(fake_output, random_target)\n",
    "\n",
    "            if (\"follow_leader\" in loss_type):\n",
    "                for k, mod in enumerate(prev_model):\n",
    "                    with torch.no_grad():\n",
    "                        leader_output = mod(images)\n",
    "                    diff = torch.mean(torch.abs(leader_output[:,k*2:k * 2 + 2] - outputs[:,k*2:k * 2 + 2]))\n",
    "\n",
    "                    if (k == task_num - 1):\n",
    "                        reg_loss += leading_factor * diff\n",
    "                    else:\n",
    "                        reg_loss += sub_leading_factor * diff\n",
    "            loss = criterion(outputs[:,:valid_out_dim], labels) + reg_loss\n",
    "            optimizer_F.zero_grad()\n",
    "            loss.backward()\n",
    "            optimizer_F.step()\n",
    "            batch_num += 1\n",
    "\n",
    "            meta_learner.train()\n",
    "            model.eval()\n",
    "            with torch.no_grad():\n",
    "                outputs = follower(images)\n",
    "            meta_optimizer.zero_grad()\n",
    "            meta_weights = meta_learner(task_num)[0]\n",
    "            leading_factor, sub_leading_factor = meta_weights[0], meta_weights[1]\n",
    "            meta_reg_loss = 0\n",
    "\n",
    "            if \"distribution\" in loss_type:\n",
    "                random_data = torch.rand(256, 1, 28, 28).to(device)\n",
    "                random_data = (random_data - 0.5) / 0.5\n",
    "                random_target = torch.randint(0, 10, (256,), dtype=torch.int64).to(device)\n",
    "                fake_output = follower(random_data)\n",
    "                meta_reg_loss += distribution_factor * criterion(fake_output, random_target)\n",
    "\n",
    "            if \"follow_leader\" in loss_type:\n",
    "                for k, mod in enumerate(prev_model):\n",
    "                    with torch.no_grad():\n",
    "                        leader_output = mod(images)\n",
    "                    diff = torch.mean(torch.abs(leader_output[:, k * 2:k * 2 + 2] - outputs[:, k * 2:k * 2 + 2]))\n",
    "                    if k == task_num - 1:\n",
    "                        meta_reg_loss += leading_factor * diff\n",
    "                    else:\n",
    "                        meta_reg_loss += sub_leading_factor * diff\n",
    "\n",
    "            meta_loss = meta_reg_loss\n",
    "            meta_loss.backward()\n",
    "            meta_optimizer.step()\n",
    "\n",
    "        adjust_learning_rate(optimizer_F)\n",
    "\n",
    "        avg_acc = 0\n",
    "        log_message = []\n",
    "        log_message.append(f\"Epoch: {e}, \")\n",
    "        for task in range(task_num + 1):\n",
    "            acc = cal_acc(follower, task_dataloaders[task][0], device)\n",
    "            avg_acc += acc\n",
    "            task_accuracies[task].append(acc * 100)\n",
    "            log_message.append(f\"Task {task} acc: {acc * 100:.4f}\")\n",
    "\n",
    "        logging.info(', '.join(log_message) + f\", Task avg acc:{avg_acc*100/(task_num + 1):.4f}\")\n",
    "    \n",
    "    return follower, task_accuracies"
   ]
  },
  {
   "cell_type": "code",
   "execution_count": 50,
   "metadata": {},
   "outputs": [],
   "source": [
    "def setup_logging(file_name):\n",
    "    logging.basicConfig(level=logging.INFO,\n",
    "                        format='%(asctime)s - %(levelname)s - %(message)s',\n",
    "                        handlers=[\n",
    "                            logging.FileHandler(file_name),\n",
    "                            logging.StreamHandler()\n",
    "                        ],\n",
    "                        force=True)\n",
    "    \n",
    "def train_split_task(task_name):\n",
    "    print(f\"Training on {task_name}\")\n",
    "    prev_model = []\n",
    "    model = MLP_Enhance()\n",
    "    model = model.to(device)\n",
    "    criterion = nn.CrossEntropyLoss()\n",
    "\n",
    "    settings = train_settings[task_name]\n",
    "    epochs, lr, loss_type = settings['epochs'], settings['lr'], settings['loss_type']\n",
    "\n",
    "    file_name = f\"{output_dir}/{task_name}_epochs={epochs}\"\n",
    "\n",
    "    log_file_name = file_name + '.log'\n",
    "    img_file_name = file_name + '.png'\n",
    "    if True:\n",
    "    #if os.path.exists(log_file_name) == False:\n",
    "        setup_logging(log_file_name)\n",
    "        all_accuracies = []\n",
    "        for task in [0, 1, 2, 3, 4]:\n",
    "            model, task_accuracies = train(model, task, criterion, prev_model, epoches = epochs, lr = lr, loss_type = loss_type)\n",
    "            all_accuracies.append(task_accuracies)\n",
    "            prev_model.append(model)\n",
    "\n",
    "        plot_task_acc_history(all_accuracies, img_file_name, epochs)"
   ]
  },
  {
   "cell_type": "code",
   "execution_count": 51,
   "metadata": {},
   "outputs": [
    {
     "name": "stderr",
     "output_type": "stream",
     "text": [
      "2024-05-31 10:11:27,774 - INFO - ##########Task 0##########\n",
      "2024-05-31 10:11:27,775 - INFO - Epoch 0\n"
     ]
    },
    {
     "name": "stdout",
     "output_type": "stream",
     "text": [
      "Training on combined_1\n",
      "leading_factor 1.0211, sub_leading_factor: 1.0465\n",
      "leading_factor 1.0211, sub_leading_factor: 1.0464\n",
      "leading_factor 1.0211, sub_leading_factor: 1.0464\n",
      "leading_factor 1.0211, sub_leading_factor: 1.0463\n",
      "leading_factor 1.0211, sub_leading_factor: 1.0463\n",
      "leading_factor 1.0211, sub_leading_factor: 1.0463\n",
      "leading_factor 1.0211, sub_leading_factor: 1.0463\n",
      "leading_factor 1.0211, sub_leading_factor: 1.0463\n",
      "leading_factor 1.0211, sub_leading_factor: 1.0463\n",
      "leading_factor 1.0211, sub_leading_factor: 1.0463\n"
     ]
    },
    {
     "name": "stderr",
     "output_type": "stream",
     "text": [
      "2024-05-31 10:11:38,411 - INFO - Epoch: 0, , Task 0 acc: 95.4959, Task avg acc:95.4959\n",
      "2024-05-31 10:11:38,414 - INFO - Epoch 1\n"
     ]
    },
    {
     "name": "stdout",
     "output_type": "stream",
     "text": [
      "leading_factor 1.0211, sub_leading_factor: 1.0463\n",
      "leading_factor 1.0211, sub_leading_factor: 1.0463\n",
      "leading_factor 1.0211, sub_leading_factor: 1.0463\n",
      "leading_factor 1.0211, sub_leading_factor: 1.0463\n",
      "leading_factor 1.0211, sub_leading_factor: 1.0463\n",
      "leading_factor 1.0211, sub_leading_factor: 1.0463\n",
      "leading_factor 1.0211, sub_leading_factor: 1.0463\n",
      "leading_factor 1.0211, sub_leading_factor: 1.0463\n",
      "leading_factor 1.0211, sub_leading_factor: 1.0463\n",
      "leading_factor 1.0211, sub_leading_factor: 1.0463\n"
     ]
    },
    {
     "name": "stderr",
     "output_type": "stream",
     "text": [
      "2024-05-31 10:11:48,709 - INFO - Epoch: 1, , Task 0 acc: 97.4091, Task avg acc:97.4091\n",
      "2024-05-31 10:11:48,711 - INFO - Epoch 2\n"
     ]
    },
    {
     "name": "stdout",
     "output_type": "stream",
     "text": [
      "leading_factor 1.0211, sub_leading_factor: 1.0463\n",
      "leading_factor 1.0211, sub_leading_factor: 1.0463\n",
      "leading_factor 1.0211, sub_leading_factor: 1.0463\n",
      "leading_factor 1.0211, sub_leading_factor: 1.0463\n",
      "leading_factor 1.0211, sub_leading_factor: 1.0463\n",
      "leading_factor 1.0211, sub_leading_factor: 1.0463\n",
      "leading_factor 1.0211, sub_leading_factor: 1.0463\n",
      "leading_factor 1.0211, sub_leading_factor: 1.0463\n",
      "leading_factor 1.0211, sub_leading_factor: 1.0463\n",
      "leading_factor 1.0211, sub_leading_factor: 1.0463\n"
     ]
    },
    {
     "name": "stderr",
     "output_type": "stream",
     "text": [
      "2024-05-31 10:11:58,334 - INFO - Epoch: 2, , Task 0 acc: 98.8600, Task avg acc:98.8600\n",
      "2024-05-31 10:11:58,335 - INFO - Epoch 3\n"
     ]
    },
    {
     "name": "stdout",
     "output_type": "stream",
     "text": [
      "leading_factor 1.0211, sub_leading_factor: 1.0463\n",
      "leading_factor 1.0211, sub_leading_factor: 1.0463\n",
      "leading_factor 1.0211, sub_leading_factor: 1.0463\n",
      "leading_factor 1.0211, sub_leading_factor: 1.0463\n",
      "leading_factor 1.0211, sub_leading_factor: 1.0463\n",
      "leading_factor 1.0211, sub_leading_factor: 1.0463\n",
      "leading_factor 1.0211, sub_leading_factor: 1.0463\n",
      "leading_factor 1.0211, sub_leading_factor: 1.0463\n",
      "leading_factor 1.0211, sub_leading_factor: 1.0463\n",
      "leading_factor 1.0211, sub_leading_factor: 1.0463\n"
     ]
    },
    {
     "name": "stderr",
     "output_type": "stream",
     "text": [
      "2024-05-31 10:12:08,867 - INFO - Epoch: 3, , Task 0 acc: 99.2666, Task avg acc:99.2666\n",
      "2024-05-31 10:12:08,889 - INFO - ##########Task 1##########\n",
      "2024-05-31 10:12:08,890 - INFO - Epoch 0\n"
     ]
    },
    {
     "name": "stdout",
     "output_type": "stream",
     "text": [
      "leading_factor 1.0023, sub_leading_factor: 1.0087\n",
      "leading_factor 1.0022, sub_leading_factor: 1.0087\n",
      "leading_factor 1.0021, sub_leading_factor: 1.0086\n",
      "leading_factor 1.0020, sub_leading_factor: 1.0085\n",
      "leading_factor 1.0020, sub_leading_factor: 1.0085\n",
      "leading_factor 1.0019, sub_leading_factor: 1.0084\n",
      "leading_factor 1.0018, sub_leading_factor: 1.0084\n",
      "leading_factor 1.0017, sub_leading_factor: 1.0083\n",
      "leading_factor 1.0016, sub_leading_factor: 1.0082\n",
      "leading_factor 1.0016, sub_leading_factor: 1.0082\n"
     ]
    },
    {
     "name": "stderr",
     "output_type": "stream",
     "text": [
      "2024-05-31 10:12:21,302 - INFO - Epoch: 0, , Task 0 acc: 4.9904, Task 1 acc: 84.7074, Task avg acc:44.8489\n",
      "2024-05-31 10:12:21,306 - INFO - Epoch 1\n"
     ]
    },
    {
     "name": "stdout",
     "output_type": "stream",
     "text": [
      "leading_factor 1.0015, sub_leading_factor: 1.0082\n",
      "leading_factor 1.0015, sub_leading_factor: 1.0081\n",
      "leading_factor 1.0014, sub_leading_factor: 1.0080\n",
      "leading_factor 1.0014, sub_leading_factor: 1.0080\n",
      "leading_factor 1.0013, sub_leading_factor: 1.0079\n",
      "leading_factor 1.0013, sub_leading_factor: 1.0079\n",
      "leading_factor 1.0012, sub_leading_factor: 1.0078\n",
      "leading_factor 1.0012, sub_leading_factor: 1.0078\n",
      "leading_factor 1.0011, sub_leading_factor: 1.0078\n",
      "leading_factor 1.0011, sub_leading_factor: 1.0077\n"
     ]
    },
    {
     "name": "stderr",
     "output_type": "stream",
     "text": [
      "2024-05-31 10:12:33,434 - INFO - Epoch: 1, , Task 0 acc: 0.0558, Task 1 acc: 86.9265, Task avg acc:43.4912\n",
      "2024-05-31 10:12:33,436 - INFO - Epoch 2\n"
     ]
    },
    {
     "name": "stdout",
     "output_type": "stream",
     "text": [
      "leading_factor 1.0011, sub_leading_factor: 1.0077\n",
      "leading_factor 1.0011, sub_leading_factor: 1.0077\n",
      "leading_factor 1.0010, sub_leading_factor: 1.0076\n",
      "leading_factor 1.0010, sub_leading_factor: 1.0076\n",
      "leading_factor 1.0010, sub_leading_factor: 1.0075\n",
      "leading_factor 1.0009, sub_leading_factor: 1.0075\n",
      "leading_factor 1.0009, sub_leading_factor: 1.0075\n",
      "leading_factor 1.0009, sub_leading_factor: 1.0074\n",
      "leading_factor 1.0009, sub_leading_factor: 1.0074\n",
      "leading_factor 1.0008, sub_leading_factor: 1.0074\n"
     ]
    },
    {
     "name": "stderr",
     "output_type": "stream",
     "text": [
      "2024-05-31 10:12:44,912 - INFO - Epoch: 2, , Task 0 acc: 0.0159, Task 1 acc: 87.3920, Task avg acc:43.7039\n",
      "2024-05-31 10:12:44,914 - INFO - Epoch 3\n"
     ]
    },
    {
     "name": "stdout",
     "output_type": "stream",
     "text": [
      "leading_factor 1.0008, sub_leading_factor: 1.0073\n",
      "leading_factor 1.0008, sub_leading_factor: 1.0073\n",
      "leading_factor 1.0008, sub_leading_factor: 1.0073\n",
      "leading_factor 1.0008, sub_leading_factor: 1.0072\n",
      "leading_factor 1.0007, sub_leading_factor: 1.0072\n",
      "leading_factor 1.0007, sub_leading_factor: 1.0072\n",
      "leading_factor 1.0007, sub_leading_factor: 1.0072\n",
      "leading_factor 1.0007, sub_leading_factor: 1.0071\n",
      "leading_factor 1.0007, sub_leading_factor: 1.0071\n",
      "leading_factor 1.0007, sub_leading_factor: 1.0071\n"
     ]
    },
    {
     "name": "stderr",
     "output_type": "stream",
     "text": [
      "2024-05-31 10:12:57,705 - INFO - Epoch: 3, , Task 0 acc: 1.2277, Task 1 acc: 85.7713, Task avg acc:43.4995\n",
      "2024-05-31 10:12:57,750 - INFO - ##########Task 2##########\n",
      "2024-05-31 10:12:57,752 - INFO - Epoch 0\n"
     ]
    },
    {
     "name": "stdout",
     "output_type": "stream",
     "text": [
      "leading_factor 1.0000, sub_leading_factor: 1.0008\n",
      "leading_factor 1.0000, sub_leading_factor: 1.0008\n",
      "leading_factor 1.0000, sub_leading_factor: 1.0008\n",
      "leading_factor 1.0000, sub_leading_factor: 1.0008\n",
      "leading_factor 1.0000, sub_leading_factor: 1.0007\n",
      "leading_factor 1.0000, sub_leading_factor: 1.0007\n",
      "leading_factor 1.0000, sub_leading_factor: 1.0007\n",
      "leading_factor 1.0000, sub_leading_factor: 1.0006\n",
      "leading_factor 1.0000, sub_leading_factor: 1.0006\n"
     ]
    },
    {
     "name": "stderr",
     "output_type": "stream",
     "text": [
      "2024-05-31 10:13:13,177 - INFO - Epoch: 0, , Task 0 acc: 27.0408, Task 1 acc: 0.0000, Task 2 acc: 89.2152, Task avg acc:38.7520\n",
      "2024-05-31 10:13:13,182 - INFO - Epoch 1\n"
     ]
    },
    {
     "name": "stdout",
     "output_type": "stream",
     "text": [
      "leading_factor 1.0000, sub_leading_factor: 1.0006\n",
      "leading_factor 1.0000, sub_leading_factor: 1.0006\n",
      "leading_factor 1.0000, sub_leading_factor: 1.0006\n",
      "leading_factor 1.0000, sub_leading_factor: 1.0005\n",
      "leading_factor 1.0000, sub_leading_factor: 1.0005\n",
      "leading_factor 1.0000, sub_leading_factor: 1.0005\n",
      "leading_factor 1.0000, sub_leading_factor: 1.0005\n",
      "leading_factor 1.0000, sub_leading_factor: 1.0005\n",
      "leading_factor 1.0000, sub_leading_factor: 1.0005\n"
     ]
    },
    {
     "name": "stderr",
     "output_type": "stream",
     "text": [
      "2024-05-31 10:13:26,970 - INFO - Epoch: 1, , Task 0 acc: 13.4008, Task 1 acc: 5.3191, Task 2 acc: 96.7223, Task avg acc:38.4808\n",
      "2024-05-31 10:13:26,974 - INFO - Epoch 2\n"
     ]
    },
    {
     "name": "stdout",
     "output_type": "stream",
     "text": [
      "leading_factor 1.0000, sub_leading_factor: 1.0004\n",
      "leading_factor 1.0000, sub_leading_factor: 1.0004\n",
      "leading_factor 1.0000, sub_leading_factor: 1.0004\n",
      "leading_factor 1.0000, sub_leading_factor: 1.0004\n",
      "leading_factor 1.0000, sub_leading_factor: 1.0004\n",
      "leading_factor 1.0000, sub_leading_factor: 1.0004\n",
      "leading_factor 1.0000, sub_leading_factor: 1.0004\n",
      "leading_factor 1.0000, sub_leading_factor: 1.0004\n",
      "leading_factor 1.0000, sub_leading_factor: 1.0004\n"
     ]
    },
    {
     "name": "stderr",
     "output_type": "stream",
     "text": [
      "2024-05-31 10:13:41,317 - INFO - Epoch: 2, , Task 0 acc: 33.9126, Task 1 acc: 0.1912, Task 2 acc: 97.0366, Task avg acc:43.7135\n",
      "2024-05-31 10:13:41,323 - INFO - Epoch 3\n"
     ]
    },
    {
     "name": "stdout",
     "output_type": "stream",
     "text": [
      "leading_factor 1.0000, sub_leading_factor: 1.0003\n",
      "leading_factor 1.0000, sub_leading_factor: 1.0003\n",
      "leading_factor 1.0000, sub_leading_factor: 1.0003\n",
      "leading_factor 1.0000, sub_leading_factor: 1.0003\n",
      "leading_factor 1.0000, sub_leading_factor: 1.0003\n",
      "leading_factor 1.0000, sub_leading_factor: 1.0003\n",
      "leading_factor 1.0000, sub_leading_factor: 1.0003\n",
      "leading_factor 1.0000, sub_leading_factor: 1.0003\n",
      "leading_factor 1.0000, sub_leading_factor: 1.0003\n"
     ]
    },
    {
     "name": "stderr",
     "output_type": "stream",
     "text": [
      "2024-05-31 10:13:56,688 - INFO - Epoch: 3, , Task 0 acc: 6.5131, Task 1 acc: 2.1526, Task 2 acc: 95.7705, Task avg acc:34.8120\n",
      "2024-05-31 10:13:56,713 - INFO - ##########Task 3##########\n",
      "2024-05-31 10:13:56,714 - INFO - Epoch 0\n"
     ]
    },
    {
     "name": "stdout",
     "output_type": "stream",
     "text": [
      "leading_factor 1.0000, sub_leading_factor: 1.0000\n",
      "leading_factor 1.0000, sub_leading_factor: 1.0000\n",
      "leading_factor 1.0000, sub_leading_factor: 1.0000\n",
      "leading_factor 1.0000, sub_leading_factor: 1.0000\n",
      "leading_factor 1.0000, sub_leading_factor: 1.0000\n",
      "leading_factor 1.0000, sub_leading_factor: 1.0000\n",
      "leading_factor 1.0000, sub_leading_factor: 1.0000\n",
      "leading_factor 1.0000, sub_leading_factor: 1.0000\n",
      "leading_factor 1.0000, sub_leading_factor: 1.0000\n",
      "leading_factor 1.0000, sub_leading_factor: 1.0000\n"
     ]
    },
    {
     "name": "stderr",
     "output_type": "stream",
     "text": [
      "2024-05-31 10:14:17,532 - INFO - Epoch: 0, , Task 0 acc: 16.0316, Task 1 acc: 5.5768, Task 2 acc: 0.3772, Task 3 acc: 98.6595, Task avg acc:30.1613\n",
      "2024-05-31 10:14:17,536 - INFO - Epoch 1\n"
     ]
    },
    {
     "name": "stdout",
     "output_type": "stream",
     "text": [
      "leading_factor 1.0000, sub_leading_factor: 1.0000\n",
      "leading_factor 1.0000, sub_leading_factor: 1.0000\n",
      "leading_factor 1.0000, sub_leading_factor: 1.0000\n",
      "leading_factor 1.0000, sub_leading_factor: 1.0000\n",
      "leading_factor 1.0000, sub_leading_factor: 1.0000\n",
      "leading_factor 1.0000, sub_leading_factor: 1.0000\n",
      "leading_factor 1.0000, sub_leading_factor: 1.0000\n",
      "leading_factor 1.0000, sub_leading_factor: 1.0000\n",
      "leading_factor 1.0000, sub_leading_factor: 1.0000\n",
      "leading_factor 1.0000, sub_leading_factor: 1.0000\n"
     ]
    },
    {
     "name": "stderr",
     "output_type": "stream",
     "text": [
      "2024-05-31 10:14:36,089 - INFO - Epoch: 1, , Task 0 acc: 3.5395, Task 1 acc: 4.2636, Task 2 acc: 1.7241, Task 3 acc: 99.5477, Task avg acc:27.2688\n",
      "2024-05-31 10:14:36,093 - INFO - Epoch 2\n"
     ]
    },
    {
     "name": "stdout",
     "output_type": "stream",
     "text": [
      "leading_factor 1.0000, sub_leading_factor: 1.0000\n",
      "leading_factor 1.0000, sub_leading_factor: 1.0000\n",
      "leading_factor 1.0000, sub_leading_factor: 1.0000\n",
      "leading_factor 1.0000, sub_leading_factor: 1.0000\n",
      "leading_factor 1.0000, sub_leading_factor: 1.0000\n",
      "leading_factor 1.0000, sub_leading_factor: 1.0000\n",
      "leading_factor 1.0000, sub_leading_factor: 1.0000\n",
      "leading_factor 1.0000, sub_leading_factor: 1.0000\n",
      "leading_factor 1.0000, sub_leading_factor: 1.0000\n",
      "leading_factor 1.0000, sub_leading_factor: 1.0000\n"
     ]
    },
    {
     "name": "stderr",
     "output_type": "stream",
     "text": [
      "2024-05-31 10:14:53,691 - INFO - Epoch: 2, , Task 0 acc: 5.8753, Task 1 acc: 2.0196, Task 2 acc: 4.7055, Task 3 acc: 99.0378, Task avg acc:27.9096\n",
      "2024-05-31 10:14:53,693 - INFO - Epoch 3\n"
     ]
    },
    {
     "name": "stdout",
     "output_type": "stream",
     "text": [
      "leading_factor 1.0000, sub_leading_factor: 1.0000\n",
      "leading_factor 1.0000, sub_leading_factor: 1.0000\n",
      "leading_factor 1.0000, sub_leading_factor: 1.0000\n",
      "leading_factor 1.0000, sub_leading_factor: 1.0000\n",
      "leading_factor 1.0000, sub_leading_factor: 1.0000\n",
      "leading_factor 1.0000, sub_leading_factor: 1.0000\n",
      "leading_factor 1.0000, sub_leading_factor: 1.0000\n",
      "leading_factor 1.0000, sub_leading_factor: 1.0000\n",
      "leading_factor 1.0000, sub_leading_factor: 1.0000\n",
      "leading_factor 1.0000, sub_leading_factor: 1.0000\n"
     ]
    },
    {
     "name": "stderr",
     "output_type": "stream",
     "text": [
      "2024-05-31 10:15:10,982 - INFO - Epoch: 3, , Task 0 acc: 15.2503, Task 1 acc: 0.5568, Task 2 acc: 5.4508, Task 3 acc: 99.2270, Task avg acc:30.1212\n",
      "2024-05-31 10:15:11,003 - INFO - ##########Task 4##########\n",
      "2024-05-31 10:15:11,004 - INFO - Epoch 0\n"
     ]
    },
    {
     "name": "stdout",
     "output_type": "stream",
     "text": [
      "leading_factor 1.0000, sub_leading_factor: 1.0000\n",
      "leading_factor 1.0000, sub_leading_factor: 1.0000\n",
      "leading_factor 1.0000, sub_leading_factor: 1.0000\n",
      "leading_factor 1.0000, sub_leading_factor: 1.0000\n",
      "leading_factor 1.0000, sub_leading_factor: 1.0000\n",
      "leading_factor 1.0000, sub_leading_factor: 1.0000\n",
      "leading_factor 1.0000, sub_leading_factor: 1.0000\n",
      "leading_factor 1.0000, sub_leading_factor: 1.0000\n",
      "leading_factor 1.0000, sub_leading_factor: 1.0000\n",
      "leading_factor 1.0000, sub_leading_factor: 1.0000\n"
     ]
    },
    {
     "name": "stderr",
     "output_type": "stream",
     "text": [
      "2024-05-31 10:15:30,855 - INFO - Epoch: 0, , Task 0 acc: 37.3645, Task 1 acc: 3.8231, Task 2 acc: 0.0269, Task 3 acc: 0.0329, Task 4 acc: 71.5778, Task avg acc:22.5650\n",
      "2024-05-31 10:15:30,856 - INFO - Epoch 1\n"
     ]
    },
    {
     "name": "stdout",
     "output_type": "stream",
     "text": [
      "leading_factor 1.0000, sub_leading_factor: 1.0000\n",
      "leading_factor 1.0000, sub_leading_factor: 1.0000\n",
      "leading_factor 1.0000, sub_leading_factor: 1.0000\n",
      "leading_factor 1.0000, sub_leading_factor: 1.0000\n",
      "leading_factor 1.0000, sub_leading_factor: 1.0000\n",
      "leading_factor 1.0000, sub_leading_factor: 1.0000\n",
      "leading_factor 1.0000, sub_leading_factor: 1.0000\n",
      "leading_factor 1.0000, sub_leading_factor: 1.0000\n",
      "leading_factor 1.0000, sub_leading_factor: 1.0000\n",
      "leading_factor 1.0000, sub_leading_factor: 1.0000\n"
     ]
    },
    {
     "name": "stderr",
     "output_type": "stream",
     "text": [
      "2024-05-31 10:15:50,564 - INFO - Epoch: 1, , Task 0 acc: 27.9416, Task 1 acc: 19.4648, Task 2 acc: 4.1218, Task 3 acc: 0.3618, Task 4 acc: 72.0788, Task avg acc:24.7938\n",
      "2024-05-31 10:15:50,566 - INFO - Epoch 2\n"
     ]
    },
    {
     "name": "stdout",
     "output_type": "stream",
     "text": [
      "leading_factor 1.0000, sub_leading_factor: 1.0000\n",
      "leading_factor 1.0000, sub_leading_factor: 1.0000\n",
      "leading_factor 1.0000, sub_leading_factor: 1.0000\n",
      "leading_factor 1.0000, sub_leading_factor: 1.0000\n",
      "leading_factor 1.0000, sub_leading_factor: 1.0000\n",
      "leading_factor 1.0000, sub_leading_factor: 1.0000\n",
      "leading_factor 1.0000, sub_leading_factor: 1.0000\n",
      "leading_factor 1.0000, sub_leading_factor: 1.0000\n",
      "leading_factor 1.0000, sub_leading_factor: 1.0000\n",
      "leading_factor 1.0000, sub_leading_factor: 1.0000\n"
     ]
    },
    {
     "name": "stderr",
     "output_type": "stream",
     "text": [
      "2024-05-31 10:16:10,410 - INFO - Epoch: 2, , Task 0 acc: 34.3192, Task 1 acc: 26.0721, Task 2 acc: 0.3502, Task 3 acc: 0.9951, Task 4 acc: 71.7391, Task avg acc:26.6951\n",
      "2024-05-31 10:16:10,414 - INFO - Epoch 3\n"
     ]
    },
    {
     "name": "stdout",
     "output_type": "stream",
     "text": [
      "leading_factor 1.0000, sub_leading_factor: 1.0000\n",
      "leading_factor 1.0000, sub_leading_factor: 1.0000\n",
      "leading_factor 1.0000, sub_leading_factor: 1.0000\n",
      "leading_factor 1.0000, sub_leading_factor: 1.0000\n",
      "leading_factor 1.0000, sub_leading_factor: 1.0000\n",
      "leading_factor 1.0000, sub_leading_factor: 1.0000\n",
      "leading_factor 1.0000, sub_leading_factor: 1.0000\n",
      "leading_factor 1.0000, sub_leading_factor: 1.0000\n",
      "leading_factor 1.0000, sub_leading_factor: 1.0000\n",
      "leading_factor 1.0000, sub_leading_factor: 1.0000\n"
     ]
    },
    {
     "name": "stderr",
     "output_type": "stream",
     "text": [
      "2024-05-31 10:16:30,107 - INFO - Epoch: 3, , Task 0 acc: 27.0169, Task 1 acc: 11.5941, Task 2 acc: 10.8836, Task 3 acc: 2.7961, Task 4 acc: 77.0465, Task avg acc:25.8674\n"
     ]
    },
    {
     "data": {
      "image/png": "[encoded data removed]",
      "text/plain": [
       "<Figure size 640x480 with 1 Axes>"
      ]
     },
     "metadata": {},
     "output_type": "display_data"
    }
   ],
   "source": [
    "for key in train_settings.keys():\n",
    "    train_split_task(key)"
   ]
  },
  {
   "cell_type": "code",
   "execution_count": 52,
   "metadata": {},
   "outputs": [
    {
     "ename": "KeyError",
     "evalue": "'l2'",
     "output_type": "error",
     "traceback": [
      "\u001b[0;31m---------------------------------------------------------------------------\u001b[0m",
      "\u001b[0;31mKeyError\u001b[0m                                  Traceback (most recent call last)",
      "Input \u001b[0;32mIn [52]\u001b[0m, in \u001b[0;36m<cell line: 9>\u001b[0;34m()\u001b[0m\n\u001b[1;32m     10\u001b[0m plt\u001b[38;5;241m.\u001b[39msubplot(nrows, ncols, i \u001b[38;5;241m+\u001b[39m \u001b[38;5;241m1\u001b[39m)\n\u001b[1;32m     12\u001b[0m settings \u001b[38;5;241m=\u001b[39m train_settings[key]\n\u001b[0;32m---> 13\u001b[0m epochs, lr, l2, loss_type, factor \u001b[38;5;241m=\u001b[39m settings[\u001b[38;5;124m'\u001b[39m\u001b[38;5;124mepochs\u001b[39m\u001b[38;5;124m'\u001b[39m], settings[\u001b[38;5;124m'\u001b[39m\u001b[38;5;124mlr\u001b[39m\u001b[38;5;124m'\u001b[39m], \u001b[43msettings\u001b[49m\u001b[43m[\u001b[49m\u001b[38;5;124;43m'\u001b[39;49m\u001b[38;5;124;43ml2\u001b[39;49m\u001b[38;5;124;43m'\u001b[39;49m\u001b[43m]\u001b[49m, settings[\u001b[38;5;124m'\u001b[39m\u001b[38;5;124mloss_type\u001b[39m\u001b[38;5;124m'\u001b[39m], settings[\u001b[38;5;124m'\u001b[39m\u001b[38;5;124mfactor\u001b[39m\u001b[38;5;124m'\u001b[39m]\n\u001b[1;32m     15\u001b[0m file_name \u001b[38;5;241m=\u001b[39m \u001b[38;5;124mf\u001b[39m\u001b[38;5;124m\"\u001b[39m\u001b[38;5;132;01m{\u001b[39;00moutput_dir\u001b[38;5;132;01m}\u001b[39;00m\u001b[38;5;124m/\u001b[39m\u001b[38;5;132;01m{\u001b[39;00mkey\u001b[38;5;132;01m}\u001b[39;00m\u001b[38;5;124m_epochs=\u001b[39m\u001b[38;5;132;01m{\u001b[39;00mepochs\u001b[38;5;132;01m}\u001b[39;00m\u001b[38;5;124m_lr=\u001b[39m\u001b[38;5;132;01m{\u001b[39;00mlr\u001b[38;5;132;01m}\u001b[39;00m\u001b[38;5;124m_factor=\u001b[39m\u001b[38;5;132;01m{\u001b[39;00mfactor\u001b[38;5;132;01m}\u001b[39;00m\u001b[38;5;124m_l2=\u001b[39m\u001b[38;5;132;01m{\u001b[39;00ml2\u001b[38;5;132;01m}\u001b[39;00m\u001b[38;5;124m.png\u001b[39m\u001b[38;5;124m\"\u001b[39m\n\u001b[1;32m     16\u001b[0m \u001b[38;5;28;01mtry\u001b[39;00m:\n",
      "\u001b[0;31mKeyError\u001b[0m: 'l2'"
     ]
    },
    {
     "data": {
      "image/png": "[encoded data removed]",
      "text/plain": [
       "<Figure size 2100x400 with 1 Axes>"
      ]
     },
     "metadata": {},
     "output_type": "display_data"
    }
   ],
   "source": [
    "from PIL import Image\n",
    "import matplotlib.pyplot as plt\n",
    "import math\n",
    "\n",
    "ncols = 3\n",
    "nrows = math.ceil(len(train_settings.keys()) / 3.)\n",
    "\n",
    "plt.figure(figsize=(21, 4 * nrows))  # Adjust the figure size based on the number of rows\n",
    "for i, key in enumerate(train_settings.keys()):\n",
    "    plt.subplot(nrows, ncols, i + 1)\n",
    "\n",
    "    settings = train_settings[key]\n",
    "    epochs, lr, l2, loss_type, factor = settings['epochs'], settings['lr'], settings['l2'], settings['loss_type'], settings['factor']\n",
    "\n",
    "    file_name = f\"{output_dir}/{key}_epochs={epochs}_lr={lr}_factor={factor}_l2={l2}.png\"\n",
    "    try:\n",
    "        with Image.open(file_name) as img:\n",
    "            plt.imshow(img)\n",
    "            plt.title(f\"{key}_factor={factor}.png\")\n",
    "            plt.axis('off')\n",
    "    except FileNotFoundError:\n",
    "        print(f\"Error: The file '{file_name}' does not exist.\")\n",
    "plt.tight_layout()\n",
    "plt.show()  # Move plt.show() outside the loop to display all subplots at once\n"
   ]
  }
 ],
 "metadata": {
  "kernelspec": {
   "display_name": "ml",
   "language": "python",
   "name": "python3"
  },
  "language_info": {
   "codemirror_mode": {
    "name": "ipython",
    "version": 3
   },
   "file_extension": ".py",
   "mimetype": "text/x-python",
   "name": "python",
   "nbconvert_exporter": "python",
   "pygments_lexer": "ipython3",
   "version": "3.9.12"
  }
 },
 "nbformat": 4,
 "nbformat_minor": 2
}
