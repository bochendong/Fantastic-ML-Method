{
 "cells": [
  {
   "cell_type": "code",
   "execution_count": 1,
   "metadata": {},
   "outputs": [],
   "source": [
    "import torch\n",
    "import torch.nn as nn\n",
    "import torch.nn.functional as F\n",
    "\n",
    "import torch\n",
    "import os\n",
    "import torch.nn.init as init\n",
    "from torchvision import datasets, transforms\n",
    "from torch import optim, nn\n",
    "from torch.utils.data import DataLoader, Subset\n",
    "import matplotlib.pyplot as plt\n",
    "import logging\n",
    "import math\n",
    "import copy"
   ]
  },
  {
   "cell_type": "code",
   "execution_count": 2,
   "metadata": {},
   "outputs": [],
   "source": [
    "batch_size = 128\n",
    "device = torch.device(\"cuda\" if torch.cuda.is_available() else \"cpu\")\n",
    "output_dir = './output'"
   ]
  },
  {
   "cell_type": "code",
   "execution_count": 3,
   "metadata": {},
   "outputs": [],
   "source": [
    "def adjust_learning_rate(optimizer):\n",
    "    for param_group in optimizer.param_groups:\n",
    "        param_group['lr'] = 0.75 * param_group['lr']"
   ]
  },
  {
   "cell_type": "markdown",
   "metadata": {},
   "source": [
    "# Dataloader"
   ]
  },
  {
   "cell_type": "code",
   "execution_count": 4,
   "metadata": {},
   "outputs": [],
   "source": [
    "tf = transforms.Compose([\n",
    "        transforms.ToTensor(),\n",
    "        transforms.Normalize([0.5], [0.5]),\n",
    "    ])"
   ]
  },
  {
   "cell_type": "code",
   "execution_count": 5,
   "metadata": {},
   "outputs": [],
   "source": [
    "def task_dataloader(task_num):\n",
    "    task_dir = {0: [0, 1], 1: [2, 3], 2: [4, 5], 3: [6, 7], 4:[8, 9]}\n",
    "\n",
    "    train_dataset = datasets.MNIST(root='data', train=True, download=True, transform=tf)\n",
    "\n",
    "    indices = [i for i, (_, label) in enumerate(train_dataset) if label in task_dir[task_num]]\n",
    "    dataset = Subset(train_dataset, indices)\n",
    "    task_train_loader = DataLoader(dataset, batch_size=batch_size, shuffle=False, drop_last=True)\n",
    "\n",
    "    test_dataset = datasets.MNIST(root='./data', train=False, transform=tf, download=True)\n",
    "    indices = [i for i, (_, label) in enumerate(test_dataset) if label in task_dir[task_num]]\n",
    "    dataset = Subset(test_dataset, indices)\n",
    "    task_test_loader = DataLoader(dataset, batch_size=batch_size, shuffle=False, drop_last=True)\n",
    "\n",
    "    return task_train_loader, task_test_loader\n",
    "\n",
    "def load_all_data():\n",
    "    train_dataset = datasets.MNIST(root='./data', train=True, transform=tf, download=True)\n",
    "    train_loader = DataLoader(dataset=train_dataset, batch_size=batch_size, shuffle=False, drop_last=True)\n",
    "\n",
    "    test_dataset = datasets.MNIST(root='./data', train=False, transform=tf, download=True)\n",
    "    test_loader = DataLoader(dataset=test_dataset, batch_size=batch_size, shuffle=False, drop_last=True)\n",
    "\n",
    "    return train_loader, test_loader"
   ]
  },
  {
   "cell_type": "code",
   "execution_count": 6,
   "metadata": {},
   "outputs": [],
   "source": [
    "train_loader, test_loader = load_all_data()\n",
    "task_dataloaders = {}\n",
    "for task in range(0, 5):\n",
    "    train_dl, test_ld = task_dataloader(task)\n",
    "    task_dataloaders[task] = (train_dl, test_ld)"
   ]
  },
  {
   "cell_type": "markdown",
   "metadata": {},
   "source": [
    "# Model"
   ]
  },
  {
   "cell_type": "code",
   "execution_count": 19,
   "metadata": {},
   "outputs": [],
   "source": [
    "class DeepModelWithAttention(nn.Module):\n",
    "    def __init__(self, input_size, desired_sum):\n",
    "        super(DeepModelWithAttention, self).__init__()\n",
    "        self.desired_sum = desired_sum\n",
    "\n",
    "        self.attn = nn.MultiheadAttention(embed_dim=input_size, num_heads= 1)\n",
    "        self.fc = nn.Linear(input_size, 1)\n",
    "        \n",
    "    def forward(self, x):\n",
    "        attn_output, _ = self.attn(x, x, x)\n",
    "        attn_output = attn_output.mean(dim = 1)\n",
    "        output = self.fc(attn_output).squeeze(-1) * self.desired_sum\n",
    "\n",
    "        return output"
   ]
  },
  {
   "cell_type": "code",
   "execution_count": 20,
   "metadata": {},
   "outputs": [],
   "source": [
    "class MLP_Enhance(nn.Module):\n",
    "    def __init__(self, out_dim=10, in_channel=1, img_sz=28, hidden_dim=400):\n",
    "        super(MLP_Enhance, self).__init__()\n",
    "        self.in_dim = in_channel*img_sz*img_sz\n",
    "        self.linear = nn.Sequential(\n",
    "            nn.Linear(self.in_dim, hidden_dim),\n",
    "            nn.BatchNorm1d(hidden_dim),\n",
    "            nn.ReLU(inplace=True),\n",
    "            nn.Linear(hidden_dim, hidden_dim),\n",
    "            nn.BatchNorm1d(hidden_dim),\n",
    "            nn.ReLU(inplace=True),\n",
    "        )\n",
    "        self.last = nn.Sequential(\n",
    "            nn.Linear(hidden_dim, out_dim),\n",
    "            nn.Softmax(dim=1)\n",
    "        )\n",
    "        self.init_weights()\n",
    "\n",
    "    def init_weights(self):\n",
    "        for layer in self.linear:\n",
    "            if isinstance(layer, nn.Linear):\n",
    "                init.kaiming_normal_(layer.weight, mode='fan_out', nonlinearity='relu')\n",
    "                init.constant_(layer.bias, 0)\n",
    "        last_linear = self.last[0]\n",
    "        init.xavier_normal_(last_linear.weight)\n",
    "        init.constant_(last_linear.bias, 0)\n",
    "\n",
    "\n",
    "    def features(self, x):\n",
    "        x = self.linear(x.view(-1,self.in_dim))\n",
    "        return x\n",
    "\n",
    "    def logits(self, x):\n",
    "        x = self.last(x)\n",
    "        return x\n",
    "\n",
    "    def forward(self, x):\n",
    "        x = self.features(x)\n",
    "        x = self.logits(x)\n",
    "        return x"
   ]
  },
  {
   "cell_type": "code",
   "execution_count": 21,
   "metadata": {},
   "outputs": [],
   "source": [
    "def cal_acc(model, dataloader, device):\n",
    "    model.eval()\n",
    "    correct, total = 0., 0.\n",
    "    with torch.no_grad():\n",
    "        for images, labels in dataloader:\n",
    "            images, labels = images.to(device), labels.to(device)\n",
    "            outputs = model(images)\n",
    "            _, predicted = torch.max(outputs.data, 1)\n",
    "            total += labels.size(0)\n",
    "            correct += (predicted == labels).sum().item()\n",
    "\n",
    "    return correct / total"
   ]
  },
  {
   "cell_type": "code",
   "execution_count": 22,
   "metadata": {},
   "outputs": [],
   "source": [
    "def plot_acc_history(all_accuracies):\n",
    "    plt.figure(figsize=(18, 12))\n",
    "\n",
    "    for i, task_accuracies in enumerate(all_accuracies):\n",
    "        plt.subplot(2, 3, i+1)\n",
    "        for task, accs in task_accuracies.items():\n",
    "            plt.plot(accs,'-', label=f'Task {task}')\n",
    "        plt.title(f'Accuracy per Mini-Batch for Task {i}')\n",
    "        plt.xlabel('Mini-Batch Number')\n",
    "        plt.ylabel('Accuracy (%)')\n",
    "        plt.ylim(-5, 105)\n",
    "        plt.legend()\n",
    "        plt.grid(True)\n",
    "\n",
    "    plt.tight_layout()\n",
    "    plt.show()\n",
    "\n",
    "\n",
    "def plot_task_acc_history(all_accuracies, save_name, epochs):\n",
    "    for task in [0, 1, 2, 3, 4]:\n",
    "        if (task == 0):\n",
    "            task_history = []\n",
    "        else:\n",
    "            task_history =  [0] * (epochs * task)\n",
    "        for i, task_accuracies in enumerate (all_accuracies):\n",
    "            if (i >= task):\n",
    "                task_history.extend(task_accuracies[task])\n",
    "                    \n",
    "        plt.plot(task_history, '-', label=f'Task {task}')\n",
    "\n",
    "    plt.xlabel('Mini-Batch Number')\n",
    "    plt.ylabel('Accuracy (%)')\n",
    "    plt.ylim(-5, 105)\n",
    "    plt.legend()\n",
    "    plt.grid(True)\n",
    "    plt.tight_layout()\n",
    "    plt.savefig(save_name) \n",
    "    plt.show()"
   ]
  },
  {
   "cell_type": "markdown",
   "metadata": {},
   "source": [
    "# Train Function"
   ]
  },
  {
   "cell_type": "code",
   "execution_count": 27,
   "metadata": {},
   "outputs": [],
   "source": [
    "import random\n",
    "def pretrain_meta(meta_model, optimizer_M):\n",
    "    target = torch.full((5, 1, 1), 2.0).to(device)\n",
    "    criterion = nn.MSELoss()\n",
    "\n",
    "    print(\"Pretrain on meta_model\")\n",
    "    num_epochs = 50\n",
    "    for epoch in range(num_epochs):\n",
    "        prev_outputs = None\n",
    "        for k in range (5):\n",
    "            past_output = F.softmax(torch.rand(batch_size, 10), dim=-1).to(device)\n",
    "            outputs = F.softmax(torch.rand(batch_size, 10), dim=-1).to(device)\n",
    "            diff = past_output[:,k*2:k * 2 + 2] - outputs[:,k*2:k * 2 + 2]\n",
    "            diff = diff.unsqueeze(0)\n",
    "            if (prev_outputs == None):\n",
    "                prev_outputs = diff\n",
    "            else:\n",
    "                prev_outputs = torch.cat((prev_outputs, diff), dim=0)\n",
    "\n",
    "        meta_out = meta_model(prev_outputs).view(-1, 1, 1)\n",
    "        meta_model.train()\n",
    "        optimizer_M.zero_grad()\n",
    "        loss = criterion(meta_out, target)\n",
    "        loss.backward()\n",
    "        optimizer_M.step()\n",
    "        \n",
    "        if((epoch + 1) % 10 == 0):\n",
    "            print(f'Epoch [{epoch+1}/{num_epochs}], Loss: {loss.item():.4f}')"
   ]
  },
  {
   "cell_type": "code",
   "execution_count": 31,
   "metadata": {},
   "outputs": [],
   "source": [
    "def train(model, task_num, criterion, optimizer, prev_models, task_dataloaders, epoches = 4):\n",
    "    train_loader = task_dataloaders[task_num][0]\n",
    "    task_accuracies = {task: [] for task in range(task_num + 1)}\n",
    "    distribution_factor  = 20\n",
    "\n",
    "    if (task_num != 0):\n",
    "        meta_model = DeepModelWithAttention(desired_sum = 2, input_size= task_num).to(device)\n",
    "        optimizer_M = optim.Adam(meta_model.parameters(), lr=0.001)\n",
    "        pretrain_meta(meta_model, optimizer_M)\n",
    "    \n",
    "    valid_out_dim = task_num * 2 + 2\n",
    "    logging.info(f\"##########Task {task_num}##########\")\n",
    "    for e in range(epoches):\n",
    "        logging.info(f\"Epoch {e}\")\n",
    "        batch_num = 0\n",
    "        for images, labels in train_loader:\n",
    "            model.train()\n",
    "            images, labels = images.to(device), labels.to(device)\n",
    "            outputs = model(images)\n",
    "\n",
    "            random_data = torch.rand(256, 1, 28, 28).to(device)\n",
    "            random_data = (random_data - 0.5) / 0.5\n",
    "            random_target = torch.randint(0, 10, (256,), dtype=torch.int64).to(device)\n",
    "            fake_output = model(random_data)\n",
    "            dis_loss = distribution_factor * criterion(fake_output, random_target)\n",
    "\n",
    "            reg_loss = 0\n",
    "            prev_outputs = None\n",
    "            if (task_num != 0):\n",
    "                meta_model.eval()\n",
    "                for k, prev_mod in enumerate(prev_models):\n",
    "                    with torch.no_grad():\n",
    "                        past_output = prev_mod(images)\n",
    "                    \n",
    "                    diff = torch.abs(past_output[:,k*2:k * 2 + 2] - outputs[:,k*2:k * 2 + 2])\n",
    "                    diff = diff.unsqueeze(0)\n",
    "                    if (prev_outputs == None):\n",
    "                        prev_outputs = diff\n",
    "                    else:\n",
    "                        prev_outputs = torch.cat((prev_outputs, diff), dim=0)\n",
    "                reg_loss = 0\n",
    "                if(prev_outputs is not None):\n",
    "                    with torch.no_grad():\n",
    "                        meta_out = meta_model(prev_outputs).view(-1, 1, 1)\n",
    "                    reg_loss = torch.mean(meta_out * diff)\n",
    "                \n",
    "                    if (batch_num % 20 == 0):\n",
    "                        print(meta_out)\n",
    "                    \n",
    "            loss = criterion(outputs[:,:valid_out_dim], labels) + dis_loss + reg_loss\n",
    "            optimizer.zero_grad()\n",
    "            loss.backward()\n",
    "            optimizer.step()\n",
    "\n",
    "            if (task_num != 0):\n",
    "                meta_model.train()\n",
    "                prev_outputs = None\n",
    "                outputs = outputs.detach()\n",
    "                for k, prev_mod in enumerate(prev_models):\n",
    "                    with torch.no_grad():\n",
    "                        past_output = prev_mod(images)\n",
    "                    \n",
    "                    diff = torch.abs(past_output[:,k*2:k * 2 + 2] - outputs[:,k*2:k * 2 + 2])\n",
    "                    diff = diff.unsqueeze(0)\n",
    "                    if (prev_outputs == None):\n",
    "                        prev_outputs = diff\n",
    "                    else:\n",
    "                        prev_outputs = torch.cat((prev_outputs, diff), dim=0)\n",
    "                reg_loss = 0\n",
    "                if(prev_outputs is not None):\n",
    "                    meta_out = meta_model(prev_outputs).view(-1, 1, 1)\n",
    "                    reg_loss = torch.mean(meta_out * diff)\n",
    "\n",
    "                optimizer_M.zero_grad()\n",
    "                reg_loss.backward()\n",
    "                optimizer_M.step()\n",
    "\n",
    "                batch_num += 1\n",
    "\n",
    "        adjust_learning_rate(optimizer)\n",
    "\n",
    "        avg_acc = 0\n",
    "        log_message = []\n",
    "        log_message.append(f\"Epoch: {e}, \")\n",
    "        for task in range(task_num + 1):\n",
    "            acc = cal_acc(model, task_dataloaders[task][0], device)\n",
    "            avg_acc += acc\n",
    "            task_accuracies[task].append(acc * 100)\n",
    "            log_message.append(f\"Task {task} acc: {acc * 100:.4f}\")\n",
    "\n",
    "        logging.info(', '.join(log_message) + f\", Task avg acc:{avg_acc*100/(task_num + 1):.4f}\")\n",
    "    \n",
    "    return model, task_accuracies"
   ]
  },
  {
   "cell_type": "markdown",
   "metadata": {},
   "source": [
    "# Train"
   ]
  },
  {
   "cell_type": "code",
   "execution_count": 32,
   "metadata": {},
   "outputs": [],
   "source": [
    "def setup_logging(file_name):\n",
    "    logging.basicConfig(level=logging.INFO,\n",
    "                        format='%(asctime)s - %(levelname)s - %(message)s',\n",
    "                        handlers=[\n",
    "                            logging.FileHandler(file_name),\n",
    "                            logging.StreamHandler()\n",
    "                        ],\n",
    "                        force=True)\n",
    "    \n",
    "\n",
    "def train_split_task(task_name, task_dataloaders):\n",
    "    print(f\"Training on {task_name}\")\n",
    "    prev_models = []\n",
    "    model = MLP_Enhance()\n",
    "    model = model.to(device)\n",
    "    optimizer = torch.optim.Adam(model.parameters(), lr = 0.005)\n",
    "    criterion = nn.CrossEntropyLoss()\n",
    "\n",
    "    epochs, lr = 3, 0.005\n",
    "    file_name = f\"{output_dir}/{task_name}_epochs={epochs}\"\n",
    "    log_file_name = file_name + '.log'\n",
    "    img_file_name = file_name + '.png'\n",
    "\n",
    "    setup_logging(log_file_name)\n",
    "    all_accuracies = []\n",
    "    for task in [0, 1, 2, 3, 4]:\n",
    "        model, task_accuracies = train(model, task, criterion, optimizer, prev_models, task_dataloaders, epoches = 4)\n",
    "        all_accuracies.append(task_accuracies)\n",
    "        prev_models.append(copy.deepcopy(model))\n",
    "\n",
    "    plot_task_acc_history(all_accuracies, img_file_name, epochs)"
   ]
  },
  {
   "cell_type": "code",
   "execution_count": 33,
   "metadata": {},
   "outputs": [
    {
     "name": "stderr",
     "output_type": "stream",
     "text": [
      "2024-06-01 15:28:53,426 - INFO - ##########Task 0##########\n",
      "2024-06-01 15:28:53,427 - INFO - Epoch 0\n"
     ]
    },
    {
     "name": "stdout",
     "output_type": "stream",
     "text": [
      "Training on 0\n"
     ]
    },
    {
     "name": "stderr",
     "output_type": "stream",
     "text": [
      "2024-06-01 15:28:58,963 - INFO - Epoch: 0, , Task 0 acc: 43.7978, Task avg acc:43.7978\n",
      "2024-06-01 15:28:58,964 - INFO - Epoch 1\n",
      "2024-06-01 15:29:04,015 - INFO - Epoch: 1, , Task 0 acc: 93.0644, Task avg acc:93.0644\n",
      "2024-06-01 15:29:04,015 - INFO - Epoch 2\n",
      "2024-06-01 15:29:09,069 - INFO - Epoch: 2, , Task 0 acc: 96.0539, Task avg acc:96.0539\n",
      "2024-06-01 15:29:09,070 - INFO - Epoch 3\n",
      "2024-06-01 15:29:14,097 - INFO - Epoch: 3, , Task 0 acc: 96.7873, Task avg acc:96.7873\n"
     ]
    },
    {
     "ename": "UnboundLocalError",
     "evalue": "local variable 'meta_model' referenced before assignment",
     "output_type": "error",
     "traceback": [
      "\u001b[1;31m---------------------------------------------------------------------------\u001b[0m",
      "\u001b[1;31mUnboundLocalError\u001b[0m                         Traceback (most recent call last)",
      "Input \u001b[1;32mIn [33]\u001b[0m, in \u001b[0;36m<cell line: 1>\u001b[1;34m()\u001b[0m\n\u001b[1;32m----> 1\u001b[0m \u001b[43mtrain_split_task\u001b[49m\u001b[43m(\u001b[49m\u001b[38;5;124;43m\"\u001b[39;49m\u001b[38;5;124;43m0\u001b[39;49m\u001b[38;5;124;43m\"\u001b[39;49m\u001b[43m,\u001b[49m\u001b[43m \u001b[49m\u001b[43mtask_dataloaders\u001b[49m\u001b[43m)\u001b[49m\n",
      "Input \u001b[1;32mIn [32]\u001b[0m, in \u001b[0;36mtrain_split_task\u001b[1;34m(task_name, task_dataloaders)\u001b[0m\n\u001b[0;32m     25\u001b[0m all_accuracies \u001b[38;5;241m=\u001b[39m []\n\u001b[0;32m     26\u001b[0m \u001b[38;5;28;01mfor\u001b[39;00m task \u001b[38;5;129;01min\u001b[39;00m [\u001b[38;5;241m0\u001b[39m, \u001b[38;5;241m1\u001b[39m, \u001b[38;5;241m2\u001b[39m, \u001b[38;5;241m3\u001b[39m, \u001b[38;5;241m4\u001b[39m]:\n\u001b[1;32m---> 27\u001b[0m     model, task_accuracies \u001b[38;5;241m=\u001b[39m \u001b[43mtrain\u001b[49m\u001b[43m(\u001b[49m\u001b[43mmodel\u001b[49m\u001b[43m,\u001b[49m\u001b[43m \u001b[49m\u001b[43mtask\u001b[49m\u001b[43m,\u001b[49m\u001b[43m \u001b[49m\u001b[43mcriterion\u001b[49m\u001b[43m,\u001b[49m\u001b[43m \u001b[49m\u001b[43moptimizer\u001b[49m\u001b[43m,\u001b[49m\u001b[43m \u001b[49m\u001b[43mprev_models\u001b[49m\u001b[43m,\u001b[49m\u001b[43m \u001b[49m\u001b[43mtask_dataloaders\u001b[49m\u001b[43m,\u001b[49m\u001b[43m \u001b[49m\u001b[43mepoches\u001b[49m\u001b[43m \u001b[49m\u001b[38;5;241;43m=\u001b[39;49m\u001b[43m \u001b[49m\u001b[38;5;241;43m4\u001b[39;49m\u001b[43m)\u001b[49m\n\u001b[0;32m     28\u001b[0m     all_accuracies\u001b[38;5;241m.\u001b[39mappend(task_accuracies)\n\u001b[0;32m     29\u001b[0m     prev_models\u001b[38;5;241m.\u001b[39mappend(copy\u001b[38;5;241m.\u001b[39mdeepcopy(model))\n",
      "Input \u001b[1;32mIn [31]\u001b[0m, in \u001b[0;36mtrain\u001b[1;34m(model, task_num, criterion, optimizer, prev_models, task_dataloaders, epoches)\u001b[0m\n\u001b[0;32m      4\u001b[0m distribution_factor  \u001b[38;5;241m=\u001b[39m \u001b[38;5;241m20\u001b[39m\n\u001b[0;32m      6\u001b[0m \u001b[38;5;28;01mif\u001b[39;00m (task_num \u001b[38;5;241m!=\u001b[39m \u001b[38;5;241m0\u001b[39m):\n\u001b[1;32m----> 7\u001b[0m     pretrain_meta(\u001b[43mmeta_model\u001b[49m, optimizer_M)\n\u001b[0;32m      8\u001b[0m     meta_model \u001b[38;5;241m=\u001b[39m DeepModelWithAttention(desired_sum \u001b[38;5;241m=\u001b[39m \u001b[38;5;241m2\u001b[39m, input_size\u001b[38;5;241m=\u001b[39m task_num)\u001b[38;5;241m.\u001b[39mto(device)\n\u001b[0;32m      9\u001b[0m     optimizer_M \u001b[38;5;241m=\u001b[39m optim\u001b[38;5;241m.\u001b[39mAdam(meta_model\u001b[38;5;241m.\u001b[39mparameters(), lr\u001b[38;5;241m=\u001b[39m\u001b[38;5;241m0.001\u001b[39m)\n",
      "\u001b[1;31mUnboundLocalError\u001b[0m: local variable 'meta_model' referenced before assignment"
     ]
    }
   ],
   "source": [
    "train_split_task(\"0\", task_dataloaders)"
   ]
  }
 ],
 "metadata": {
  "kernelspec": {
   "display_name": "ml",
   "language": "python",
   "name": "python3"
  },
  "language_info": {
   "codemirror_mode": {
    "name": "ipython",
    "version": 3
   },
   "file_extension": ".py",
   "mimetype": "text/x-python",
   "name": "python",
   "nbconvert_exporter": "python",
   "pygments_lexer": "ipython3",
   "version": "3.8.12"
  }
 },
 "nbformat": 4,
 "nbformat_minor": 2
}
