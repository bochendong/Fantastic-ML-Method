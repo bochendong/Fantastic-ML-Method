{
  "cells": [
    {
      "cell_type": "code",
      "execution_count": 10,
      "metadata": {
        "id": "TaaQ0xtg75ul"
      },
      "outputs": [],
      "source": [
        "import torch\n",
        "import torch.nn as nn\n",
        "import math\n",
        "import torch.optim as optim\n",
        "from torch.utils.data import DataLoader\n",
        "from torch.optim.lr_scheduler import StepLR\n",
        "from torchvision import datasets, transforms"
      ]
    },
    {
      "cell_type": "code",
      "execution_count": 11,
      "metadata": {
        "id": "J3A3npIr75um"
      },
      "outputs": [],
      "source": [
        "DEVICE = torch.device(\"cuda\" if torch.cuda.is_available() else \"cpu\")"
      ]
    },
    {
      "cell_type": "markdown",
      "metadata": {
        "id": "iwq90q6Q75um"
      },
      "source": [
        "# Load Dataset"
      ]
    },
    {
      "cell_type": "code",
      "execution_count": 12,
      "metadata": {
        "colab": {
          "base_uri": "https://localhost:8080/"
        },
        "id": "hrgSOtG975um",
        "outputId": "7fb9fd0e-2c16-47b4-d5cf-22a4afe0aa06"
      },
      "outputs": [
        {
          "name": "stdout",
          "output_type": "stream",
          "text": [
            "Files already downloaded and verified\n",
            "Files already downloaded and verified\n"
          ]
        }
      ],
      "source": [
        "transform_train = transforms.Compose([\n",
        "    transforms.RandomHorizontalFlip(),\n",
        "    transforms.RandomCrop(32, 4),\n",
        "    transforms.ToTensor(),\n",
        "    transforms.Normalize(mean=[0.485, 0.456, 0.406],\n",
        "                                     std=[0.229, 0.224, 0.225])\n",
        "])\n",
        "\n",
        "transform_test = transforms.Compose([\n",
        "    transforms.ToTensor(),\n",
        "    transforms.Normalize(mean=[0.485, 0.456, 0.406],\n",
        "                                     std=[0.229, 0.224, 0.225])\n",
        "])\n",
        "\n",
        "trainset = datasets.CIFAR10(root='./data', train=True, download=True, transform=transform_train)\n",
        "trainloader = DataLoader(trainset, batch_size=256, shuffle=True, drop_last = True)\n",
        "\n",
        "testset = datasets.CIFAR10(root='./data', train=False, download=True, transform=transform_test)\n",
        "testloader = DataLoader(testset, batch_size=256, shuffle=False, drop_last = True)"
      ]
    },
    {
      "cell_type": "markdown",
      "metadata": {
        "id": "u9sX_2LZ75um"
      },
      "source": [
        "# Model"
      ]
    },
    {
      "cell_type": "code",
      "execution_count": 13,
      "metadata": {
        "id": "pLvU5NfY75um"
      },
      "outputs": [],
      "source": [
        "class VGG(nn.Module):\n",
        "    def __init__(self):\n",
        "        super(VGG, self).__init__()\n",
        "        self.features = nn.Sequential(\n",
        "            nn.Conv2d(3, 64, kernel_size=3, padding=1),\n",
        "            nn.ReLU(inplace=True),\n",
        "            nn.Conv2d(64, 64, kernel_size=3, padding=1),\n",
        "            nn.ReLU(inplace=True),\n",
        "            nn.MaxPool2d(2, 2),\n",
        "\n",
        "            nn.Conv2d(64, 128, kernel_size=3, padding=1),\n",
        "            nn.ReLU(inplace=True),\n",
        "            nn.Conv2d(128, 128, kernel_size=3, padding=1),\n",
        "            nn.ReLU(inplace=True),\n",
        "            nn.MaxPool2d(2, 2),\n",
        "\n",
        "            nn.Conv2d(128, 256, kernel_size=3, padding=1),\n",
        "            nn.ReLU(inplace=True),\n",
        "            nn.Conv2d(256, 256, kernel_size=3, padding=1),\n",
        "            nn.ReLU(inplace=True),\n",
        "            nn.MaxPool2d(2, 2),\n",
        "\n",
        "            nn.Conv2d(256, 512, kernel_size=3, padding=1),\n",
        "            nn.ReLU(inplace=True),\n",
        "            nn.Conv2d(512, 512, kernel_size=3, padding=1),\n",
        "            nn.ReLU(inplace=True),\n",
        "            nn.MaxPool2d(2, 2),\n",
        "\n",
        "            nn.Conv2d(512, 512, kernel_size=3, padding=1),\n",
        "            nn.ReLU(inplace=True),\n",
        "            nn.Conv2d(512, 512, kernel_size=3, padding=1),\n",
        "            nn.ReLU(inplace=True),\n",
        "            nn.MaxPool2d(2, 2),\n",
        "        )\n",
        "\n",
        "        self.classifier = nn.Sequential(\n",
        "            nn.Linear(512, 512),\n",
        "            nn.ReLU(inplace=True),\n",
        "            nn.Dropout(0.5),\n",
        "            nn.Linear(512, 512),\n",
        "            nn.ReLU(inplace=True),\n",
        "            nn.Dropout(0.5),\n",
        "            nn.Linear(512, 10),\n",
        "            nn.Softmax(dim=1)\n",
        "        )\n",
        "\n",
        "        for m in self.modules():\n",
        "            if isinstance(m, nn.Conv2d):\n",
        "                n = m.kernel_size[0] * m.kernel_size[1] * m.out_channels\n",
        "                m.weight.data.normal_(0, math.sqrt(2. / n))\n",
        "                m.bias.data.zero_()\n",
        "\n",
        "    def forward(self, x):\n",
        "        x = self.features(x)\n",
        "        x = x.view(-1, 512)\n",
        "        x = self.classifier(x)\n",
        "        return x"
      ]
    },
    {
      "cell_type": "markdown",
      "metadata": {
        "id": "D5Hl1gW075um"
      },
      "source": [
        "# Train Function"
      ]
    },
    {
      "cell_type": "code",
      "execution_count": 14,
      "metadata": {},
      "outputs": [],
      "source": [
        "def adjust_learning_rate(optimizer, epoch):\n",
        "    \"\"\"Sets the learning rate to the initial LR decayed by 2 every 30 epochs\"\"\"\n",
        "    lr = 0.05 * (0.5 ** (epoch // 30))\n",
        "    for param_group in optimizer.param_groups:\n",
        "        param_group['lr'] = lr"
      ]
    },
    {
      "cell_type": "code",
      "execution_count": 15,
      "metadata": {
        "id": "wKcuHdYA75um"
      },
      "outputs": [],
      "source": [
        "def train(criterion, optimizer, model, num_epochs, device):\n",
        "    loss_history = []\n",
        "    test_acc_history = []\n",
        "\n",
        "    for epoch in range(num_epochs):\n",
        "        model.train()\n",
        "        loss_per_epoch = 0\n",
        "\n",
        "        for images, labels in trainloader:\n",
        "            images, labels = images.to(device), labels.to(device)\n",
        "            optimizer.zero_grad()\n",
        "            outputs = model(images)\n",
        "            loss = criterion(outputs, labels)\n",
        "            loss.backward()\n",
        "            optimizer.step()\n",
        "            loss_per_epoch += loss.item()\n",
        "\n",
        "        adjust_learning_rate(optimizer, epoch)\n",
        "\n",
        "        correct = 0\n",
        "        total = 0\n",
        "        model.eval()\n",
        "\n",
        "        with torch.no_grad():\n",
        "            for images, labels in testloader:\n",
        "                images, labels = images.to(device), labels.to(device)\n",
        "                outputs = model(images)\n",
        "                _, predicted = torch.max(outputs.data, 1)\n",
        "                total += labels.size(0)\n",
        "                correct += (predicted == labels).sum().item()\n",
        "\n",
        "        epoch_loss = loss_per_epoch / len(trainloader)\n",
        "        epoch_acc = correct / total\n",
        "\n",
        "        print(f\"Epoch [{epoch + 1}/{num_epochs}], Loss: {epoch_loss:.4f}, Test Accuracy: {epoch_acc:.4f}\")\n",
        "        loss_history.append(epoch_loss)\n",
        "        test_acc_history.append(epoch_acc)\n",
        "\n",
        "    return loss_history, test_acc_history"
      ]
    },
    {
      "cell_type": "code",
      "execution_count": 16,
      "metadata": {
        "colab": {
          "base_uri": "https://localhost:8080/"
        },
        "id": "thUj_dsz75um",
        "outputId": "dc6570b2-4edb-42c9-cbe0-5133c84b266e"
      },
      "outputs": [
        {
          "name": "stdout",
          "output_type": "stream",
          "text": [
            "Epoch [1/100], Loss: 2.3024, Test Accuracy: 0.1012\n",
            "Epoch [2/100], Loss: 2.2858, Test Accuracy: 0.2121\n",
            "Epoch [3/100], Loss: 2.2117, Test Accuracy: 0.2795\n",
            "Epoch [4/100], Loss: 2.1693, Test Accuracy: 0.3074\n",
            "Epoch [5/100], Loss: 2.1453, Test Accuracy: 0.3522\n",
            "Epoch [6/100], Loss: 2.1341, Test Accuracy: 0.3419\n",
            "Epoch [7/100], Loss: 2.1357, Test Accuracy: 0.3572\n",
            "Epoch [8/100], Loss: 2.1153, Test Accuracy: 0.3329\n",
            "Epoch [9/100], Loss: 2.1002, Test Accuracy: 0.4017\n",
            "Epoch [10/100], Loss: 2.0844, Test Accuracy: 0.4083\n",
            "Epoch [11/100], Loss: 2.0718, Test Accuracy: 0.4165\n",
            "Epoch [12/100], Loss: 2.0666, Test Accuracy: 0.4250\n",
            "Epoch [13/100], Loss: 2.0511, Test Accuracy: 0.4428\n",
            "Epoch [14/100], Loss: 2.0344, Test Accuracy: 0.4091\n",
            "Epoch [15/100], Loss: 2.0125, Test Accuracy: 0.4527\n",
            "Epoch [16/100], Loss: 2.0099, Test Accuracy: 0.4736\n",
            "Epoch [17/100], Loss: 2.0030, Test Accuracy: 0.4848\n",
            "Epoch [18/100], Loss: 1.9925, Test Accuracy: 0.4915\n",
            "Epoch [19/100], Loss: 1.9959, Test Accuracy: 0.4826\n",
            "Epoch [20/100], Loss: 1.9823, Test Accuracy: 0.5173\n",
            "Epoch [21/100], Loss: 1.9703, Test Accuracy: 0.4997\n",
            "Epoch [22/100], Loss: 1.9856, Test Accuracy: 0.5060\n",
            "Epoch [23/100], Loss: 1.9675, Test Accuracy: 0.5147\n",
            "Epoch [24/100], Loss: 1.9442, Test Accuracy: 0.5442\n",
            "Epoch [25/100], Loss: 1.9427, Test Accuracy: 0.5415\n",
            "Epoch [26/100], Loss: 1.9384, Test Accuracy: 0.5550\n",
            "Epoch [27/100], Loss: 1.9265, Test Accuracy: 0.5342\n",
            "Epoch [28/100], Loss: 1.9255, Test Accuracy: 0.5386\n",
            "Epoch [29/100], Loss: 1.9075, Test Accuracy: 0.5890\n",
            "Epoch [30/100], Loss: 1.9189, Test Accuracy: 0.5542\n",
            "Epoch [31/100], Loss: 1.9122, Test Accuracy: 0.5870\n",
            "Epoch [32/100], Loss: 1.8458, Test Accuracy: 0.6406\n",
            "Epoch [33/100], Loss: 1.8356, Test Accuracy: 0.6373\n",
            "Epoch [34/100], Loss: 1.8167, Test Accuracy: 0.6470\n",
            "Epoch [35/100], Loss: 1.8060, Test Accuracy: 0.6445\n",
            "Epoch [36/100], Loss: 1.7966, Test Accuracy: 0.6427\n",
            "Epoch [37/100], Loss: 1.7927, Test Accuracy: 0.6855\n",
            "Epoch [38/100], Loss: 1.7862, Test Accuracy: 0.6860\n",
            "Epoch [39/100], Loss: 1.7730, Test Accuracy: 0.7078\n",
            "Epoch [40/100], Loss: 1.7668, Test Accuracy: 0.6979\n",
            "Epoch [41/100], Loss: 1.7624, Test Accuracy: 0.7044\n",
            "Epoch [42/100], Loss: 1.7560, Test Accuracy: 0.7170\n",
            "Epoch [43/100], Loss: 1.7474, Test Accuracy: 0.7067\n",
            "Epoch [44/100], Loss: 1.7443, Test Accuracy: 0.7309\n",
            "Epoch [45/100], Loss: 1.7399, Test Accuracy: 0.7404\n",
            "Epoch [46/100], Loss: 1.7312, Test Accuracy: 0.7407\n",
            "Epoch [47/100], Loss: 1.7274, Test Accuracy: 0.7495\n",
            "Epoch [48/100], Loss: 1.7279, Test Accuracy: 0.7348\n",
            "Epoch [49/100], Loss: 1.7223, Test Accuracy: 0.7610\n",
            "Epoch [50/100], Loss: 1.7178, Test Accuracy: 0.7416\n",
            "Epoch [51/100], Loss: 1.7160, Test Accuracy: 0.7613\n",
            "Epoch [52/100], Loss: 1.7087, Test Accuracy: 0.7431\n",
            "Epoch [53/100], Loss: 1.7043, Test Accuracy: 0.7623\n",
            "Epoch [54/100], Loss: 1.7013, Test Accuracy: 0.7649\n",
            "Epoch [55/100], Loss: 1.6977, Test Accuracy: 0.7461\n",
            "Epoch [56/100], Loss: 1.7054, Test Accuracy: 0.7586\n",
            "Epoch [57/100], Loss: 1.6897, Test Accuracy: 0.7704\n",
            "Epoch [58/100], Loss: 1.6862, Test Accuracy: 0.7703\n",
            "Epoch [59/100], Loss: 1.6851, Test Accuracy: 0.7806\n",
            "Epoch [60/100], Loss: 1.6805, Test Accuracy: 0.7698\n",
            "Epoch [61/100], Loss: 1.6808, Test Accuracy: 0.7914\n",
            "Epoch [62/100], Loss: 1.6518, Test Accuracy: 0.8089\n",
            "Epoch [63/100], Loss: 1.6465, Test Accuracy: 0.8128\n",
            "Epoch [64/100], Loss: 1.6419, Test Accuracy: 0.8025\n",
            "Epoch [65/100], Loss: 1.6413, Test Accuracy: 0.8183\n",
            "Epoch [66/100], Loss: 1.6389, Test Accuracy: 0.8202\n",
            "Epoch [67/100], Loss: 1.6384, Test Accuracy: 0.8076\n",
            "Epoch [68/100], Loss: 1.6339, Test Accuracy: 0.8147\n",
            "Epoch [69/100], Loss: 1.6335, Test Accuracy: 0.8129\n",
            "Epoch [70/100], Loss: 1.6312, Test Accuracy: 0.8148\n",
            "Epoch [71/100], Loss: 1.6278, Test Accuracy: 0.8204\n",
            "Epoch [72/100], Loss: 1.6254, Test Accuracy: 0.8292\n",
            "Epoch [73/100], Loss: 1.6246, Test Accuracy: 0.8268\n",
            "Epoch [74/100], Loss: 1.6209, Test Accuracy: 0.8296\n",
            "Epoch [75/100], Loss: 1.6194, Test Accuracy: 0.8214\n",
            "Epoch [76/100], Loss: 1.6232, Test Accuracy: 0.8194\n",
            "Epoch [77/100], Loss: 1.6207, Test Accuracy: 0.8251\n",
            "Epoch [78/100], Loss: 1.6164, Test Accuracy: 0.8237\n",
            "Epoch [79/100], Loss: 1.6171, Test Accuracy: 0.8317\n",
            "Epoch [80/100], Loss: 1.6118, Test Accuracy: 0.8228\n",
            "Epoch [81/100], Loss: 1.6122, Test Accuracy: 0.8327\n",
            "Epoch [82/100], Loss: 1.6105, Test Accuracy: 0.8331\n",
            "Epoch [83/100], Loss: 1.6084, Test Accuracy: 0.8243\n",
            "Epoch [84/100], Loss: 1.6076, Test Accuracy: 0.8406\n",
            "Epoch [85/100], Loss: 1.6062, Test Accuracy: 0.8306\n",
            "Epoch [86/100], Loss: 1.6108, Test Accuracy: 0.8211\n",
            "Epoch [87/100], Loss: 1.6051, Test Accuracy: 0.8336\n",
            "Epoch [88/100], Loss: 1.6031, Test Accuracy: 0.8365\n",
            "Epoch [89/100], Loss: 1.6034, Test Accuracy: 0.8476\n",
            "Epoch [90/100], Loss: 1.6006, Test Accuracy: 0.8372\n",
            "Epoch [91/100], Loss: 1.6004, Test Accuracy: 0.8413\n",
            "Epoch [92/100], Loss: 1.5838, Test Accuracy: 0.8515\n",
            "Epoch [93/100], Loss: 1.5811, Test Accuracy: 0.8538\n",
            "Epoch [94/100], Loss: 1.5801, Test Accuracy: 0.8536\n",
            "Epoch [95/100], Loss: 1.5774, Test Accuracy: 0.8524\n",
            "Epoch [96/100], Loss: 1.5780, Test Accuracy: 0.8560\n",
            "Epoch [97/100], Loss: 1.5761, Test Accuracy: 0.8577\n",
            "Epoch [98/100], Loss: 1.5744, Test Accuracy: 0.8600\n",
            "Epoch [99/100], Loss: 1.5723, Test Accuracy: 0.8527\n",
            "Epoch [100/100], Loss: 1.5738, Test Accuracy: 0.8609\n"
          ]
        }
      ],
      "source": [
        "model = VGG()\n",
        "model = model.to(DEVICE)\n",
        "\n",
        "criterion = nn.CrossEntropyLoss()\n",
        "optimizer = torch.optim.SGD(model.parameters(), 0.05,\n",
        "                                momentum=0.9, weight_decay=5e-4)\n",
        "\n",
        "\n",
        "num_epochs = 100\n",
        "loss_history, test_acc_history = train(criterion, optimizer, model, num_epochs, DEVICE)"
      ]
    },
    {
      "cell_type": "code",
      "execution_count": 17,
      "metadata": {},
      "outputs": [
        {
          "data": {
            "image/png": "[encoded data removed]",
            "text/plain": [
              "<Figure size 640x480 with 1 Axes>"
            ]
          },
          "metadata": {},
          "output_type": "display_data"
        }
      ],
      "source": [
        "import matplotlib.pyplot as plt\n",
        "\n",
        "plt.plot(list(range(num_epochs)), loss_history)\n",
        "plt.plot(list(range(num_epochs)), test_acc_history)\n",
        "plt.show()"
      ]
    }
  ],
  "metadata": {
    "accelerator": "GPU",
    "colab": {
      "gpuType": "T4",
      "provenance": []
    },
    "kernelspec": {
      "display_name": "Python 3",
      "name": "python3"
    },
    "language_info": {
      "codemirror_mode": {
        "name": "ipython",
        "version": 3
      },
      "file_extension": ".py",
      "mimetype": "text/x-python",
      "name": "python",
      "nbconvert_exporter": "python",
      "pygments_lexer": "ipython3",
      "version": "3.8.12"
    }
  },
  "nbformat": 4,
  "nbformat_minor": 0
}
