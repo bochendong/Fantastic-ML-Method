{
 "cells": [
  {
   "cell_type": "code",
   "execution_count": 1,
   "metadata": {},
   "outputs": [],
   "source": [
    "import torch\n",
    "import torch.nn as nn\n",
    "import math\n",
    "import os\n",
    "import copy\n",
    "from torch.utils.data import DataLoader, Subset, random_split\n",
    "from torchvision import datasets, transforms"
   ]
  },
  {
   "cell_type": "code",
   "execution_count": 2,
   "metadata": {},
   "outputs": [],
   "source": [
    "device = torch.device('cuda' if torch.cuda.is_available() else 'cpu')\n",
    "\n",
    "batch_size = 256"
   ]
  },
  {
   "cell_type": "code",
   "execution_count": 3,
   "metadata": {},
   "outputs": [],
   "source": [
    "tf = transforms.Compose([\n",
    "        transforms.ToTensor(),\n",
    "        transforms.Normalize([0.5], [0.5]),\n",
    "    ])"
   ]
  },
  {
   "cell_type": "code",
   "execution_count": 4,
   "metadata": {},
   "outputs": [],
   "source": [
    "def load_data_set(batch_size=64):\n",
    "    # Old data\n",
    "    train_dataset = datasets.CIFAR10(root='data', train=True, download=True, transform=tf)\n",
    "    test_dataset = datasets.CIFAR10(root='./data', train=False,download=True, transform=tf)\n",
    "\n",
    "    source_size = int(0.7 * len(train_dataset))\n",
    "    target_size = int(0.1 * len(train_dataset))\n",
    "    val_size =int(0.2 * len(train_dataset))\n",
    "\n",
    "    train_dataset, target_dataset, val_dataset = random_split(train_dataset, [source_size, target_size, val_size])\n",
    "\n",
    "    source_dl = DataLoader(train_dataset, batch_size=batch_size, shuffle=False, drop_last=True)\n",
    "    target_dl = DataLoader(target_dataset, batch_size=batch_size, shuffle=False, drop_last=True)\n",
    "    val_dl = DataLoader(val_dataset, batch_size=batch_size, shuffle=False, drop_last = True)\n",
    "    \n",
    "    test_dl =  DataLoader(test_dataset, batch_size=batch_size, shuffle=False, drop_last = True)\n",
    "\n",
    "    return source_dl, target_dl, test_dl, val_dl"
   ]
  },
  {
   "cell_type": "code",
   "execution_count": 5,
   "metadata": {},
   "outputs": [
    {
     "name": "stdout",
     "output_type": "stream",
     "text": [
      "Files already downloaded and verified\n",
      "Files already downloaded and verified\n"
     ]
    }
   ],
   "source": [
    "source_dl, target_dl, test_dl, val_dl = load_data_set(batch_size=batch_size)"
   ]
  },
  {
   "cell_type": "code",
   "execution_count": 6,
   "metadata": {},
   "outputs": [],
   "source": [
    "class VGG(nn.Module):\n",
    "    def __init__(self, out_dim = 10):\n",
    "        super(VGG, self).__init__()\n",
    "        self.features = nn.Sequential(\n",
    "            nn.Conv2d(3, 64, kernel_size=3, padding=1),\n",
    "            nn.BatchNorm2d(64),\n",
    "            nn.ReLU(inplace=True),\n",
    "            nn.Conv2d(64, 64, kernel_size=3, padding=1),\n",
    "            nn.BatchNorm2d(64),\n",
    "            nn.ReLU(inplace=True),\n",
    "            nn.MaxPool2d(2, 2),\n",
    "\n",
    "            nn.Conv2d(64, 128, kernel_size=3, padding=1),\n",
    "            nn.BatchNorm2d(128),\n",
    "            nn.ReLU(inplace=True),\n",
    "            nn.Conv2d(128, 128, kernel_size=3, padding=1),\n",
    "            nn.BatchNorm2d(128),\n",
    "            nn.ReLU(inplace=True),\n",
    "            nn.MaxPool2d(2, 2),\n",
    "\n",
    "            nn.Conv2d(128, 256, kernel_size=3, padding=1),\n",
    "            nn.BatchNorm2d(256),\n",
    "            nn.ReLU(inplace=True),\n",
    "            nn.Conv2d(256, 256, kernel_size=3, padding=1),\n",
    "            nn.BatchNorm2d(256),\n",
    "            nn.ReLU(inplace=True),\n",
    "            nn.MaxPool2d(2, 2),\n",
    "\n",
    "            nn.Conv2d(256, 512, kernel_size=3, padding=1),\n",
    "            nn.BatchNorm2d(512),\n",
    "            nn.ReLU(inplace=True),\n",
    "            nn.Conv2d(512, 512, kernel_size=3, padding=1),\n",
    "            nn.BatchNorm2d(512),\n",
    "            nn.ReLU(inplace=True),\n",
    "            nn.MaxPool2d(2, 2),\n",
    "\n",
    "            nn.Conv2d(512, 512, kernel_size=3, padding=1),\n",
    "            nn.BatchNorm2d(512),\n",
    "            nn.ReLU(inplace=True),\n",
    "            nn.Conv2d(512, 512, kernel_size=3, padding=1),\n",
    "            nn.BatchNorm2d(512),\n",
    "            nn.ReLU(inplace=True),\n",
    "            nn.MaxPool2d(2, 2),\n",
    "        )\n",
    "\n",
    "        self.classifier = nn.Sequential(\n",
    "            nn.Linear(512, 512),\n",
    "            nn.BatchNorm1d(512),\n",
    "            nn.ReLU(inplace=True),\n",
    "            nn.Linear(512, 512),\n",
    "            nn.BatchNorm1d(512),\n",
    "            nn.ReLU(inplace=True),\n",
    "            nn.Linear(512, out_dim),\n",
    "            nn.Softmax(dim=1)\n",
    "        )\n",
    "\n",
    "        for m in self.modules():\n",
    "            if isinstance(m, nn.Conv2d):\n",
    "                n = m.kernel_size[0] * m.kernel_size[1] * m.out_channels\n",
    "                m.weight.data.normal_(0, math.sqrt(2. / n))\n",
    "                m.bias.data.zero_()\n",
    "\n",
    "    def forward(self, x):\n",
    "        x = self.features(x)\n",
    "        x = x.view(-1, 512)\n",
    "        x = self.classifier(x)\n",
    "        return x"
   ]
  },
  {
   "cell_type": "code",
   "execution_count": 7,
   "metadata": {},
   "outputs": [],
   "source": [
    "def cal_acc(model, dataloader, device):\n",
    "    model.eval()\n",
    "    correct, total = 0., 0.\n",
    "    with torch.no_grad():\n",
    "        for images, labels in dataloader:\n",
    "            images, labels = images.to(device), labels.to(device)\n",
    "            outputs = model(images)\n",
    "            _, predicted = torch.max(outputs.data, 1)\n",
    "            total += labels.size(0)\n",
    "            correct += (predicted == labels).sum().item()\n",
    "\n",
    "    return correct / total"
   ]
  },
  {
   "cell_type": "code",
   "execution_count": 8,
   "metadata": {},
   "outputs": [],
   "source": [
    "def pre_train(criterion, optimizer, model, num_epochs, trainloader, testloader, valloader, device):\n",
    "    for epoch in range(num_epochs):\n",
    "        model.train()\n",
    "        for images, labels in trainloader:\n",
    "            images, labels = images.to(device), labels.to(device)\n",
    "            optimizer.zero_grad()\n",
    "            outputs = model(images)\n",
    "            loss = criterion(outputs, labels)\n",
    "            loss.backward()\n",
    "            optimizer.step()\n",
    "\n",
    "        test_acc = cal_acc(model, testloader, device)\n",
    "        val_acc = cal_acc(model, valloader, device)\n",
    "\n",
    "        print(f\"Epoch [{epoch + 1}/{num_epochs}], Loss: {loss.item():.4f}, Test Acc: {test_acc:.4f}, Val Acc: {val_acc:.4f}\")"
   ]
  },
  {
   "cell_type": "code",
   "execution_count": 9,
   "metadata": {},
   "outputs": [
    {
     "name": "stdout",
     "output_type": "stream",
     "text": [
      "Epoch [1/30], Loss: 1.8270, Test Acc: 0.4903, Val Acc: 0.4921\n",
      "Epoch [2/30], Loss: 1.7598, Test Acc: 0.5096, Val Acc: 0.5178\n",
      "Epoch [3/30], Loss: 1.7122, Test Acc: 0.5774, Val Acc: 0.5908\n",
      "Epoch [4/30], Loss: 1.6877, Test Acc: 0.6051, Val Acc: 0.6126\n",
      "Epoch [5/30], Loss: 1.6384, Test Acc: 0.6614, Val Acc: 0.6709\n",
      "Epoch [6/30], Loss: 1.6385, Test Acc: 0.6940, Val Acc: 0.6984\n",
      "Epoch [7/30], Loss: 1.6048, Test Acc: 0.7291, Val Acc: 0.7369\n",
      "Epoch [8/30], Loss: 1.6055, Test Acc: 0.7258, Val Acc: 0.7389\n",
      "Epoch [9/30], Loss: 1.5618, Test Acc: 0.7406, Val Acc: 0.7508\n",
      "Epoch [10/30], Loss: 1.5853, Test Acc: 0.7010, Val Acc: 0.7157\n",
      "Epoch [11/30], Loss: 1.5336, Test Acc: 0.6760, Val Acc: 0.6856\n",
      "Epoch [12/30], Loss: 1.5474, Test Acc: 0.7439, Val Acc: 0.7568\n",
      "Epoch [13/30], Loss: 1.5300, Test Acc: 0.7484, Val Acc: 0.7598\n",
      "Epoch [14/30], Loss: 1.5149, Test Acc: 0.7812, Val Acc: 0.7875\n",
      "Epoch [15/30], Loss: 1.5395, Test Acc: 0.7652, Val Acc: 0.7715\n",
      "Epoch [16/30], Loss: 1.5240, Test Acc: 0.7745, Val Acc: 0.7864\n",
      "Epoch [17/30], Loss: 1.5216, Test Acc: 0.7856, Val Acc: 0.7840\n",
      "Epoch [18/30], Loss: 1.5128, Test Acc: 0.7913, Val Acc: 0.8011\n",
      "Epoch [19/30], Loss: 1.5074, Test Acc: 0.7799, Val Acc: 0.7886\n",
      "Epoch [20/30], Loss: 1.5015, Test Acc: 0.7874, Val Acc: 0.7914\n",
      "Epoch [21/30], Loss: 1.5027, Test Acc: 0.7737, Val Acc: 0.7830\n",
      "Epoch [22/30], Loss: 1.4976, Test Acc: 0.7948, Val Acc: 0.8065\n",
      "Epoch [23/30], Loss: 1.4914, Test Acc: 0.7850, Val Acc: 0.7869\n",
      "Epoch [24/30], Loss: 1.4919, Test Acc: 0.7805, Val Acc: 0.7872\n",
      "Epoch [25/30], Loss: 1.4862, Test Acc: 0.7884, Val Acc: 0.7886\n",
      "Epoch [26/30], Loss: 1.5002, Test Acc: 0.7804, Val Acc: 0.7788\n",
      "Epoch [27/30], Loss: 1.4813, Test Acc: 0.7881, Val Acc: 0.7957\n",
      "Epoch [28/30], Loss: 1.4934, Test Acc: 0.8011, Val Acc: 0.8039\n",
      "Epoch [29/30], Loss: 1.4805, Test Acc: 0.7822, Val Acc: 0.7912\n",
      "Epoch [30/30], Loss: 1.4884, Test Acc: 0.8125, Val Acc: 0.8078\n"
     ]
    }
   ],
   "source": [
    "model = VGG()\n",
    "model = model.to(device)\n",
    "\n",
    "criterion = nn.CrossEntropyLoss()\n",
    "optimizer = torch.optim.Adam(model.parameters(), 0.0005)\n",
    "\n",
    "num_epochs = 30\n",
    "pre_train(criterion, optimizer, model, num_epochs, source_dl, test_dl, val_dl, device)\n",
    "\n",
    "with torch.no_grad():\n",
    "    torch.save(model.state_dict(), 'source.pth')"
   ]
  },
  {
   "cell_type": "code",
   "execution_count": 10,
   "metadata": {},
   "outputs": [],
   "source": [
    "def easy_fine_tune(criterion, optimizer, model, num_epochs, trainloader, testloader, device):\n",
    "    total, correct = 0., 0.\n",
    "    for epoch in range(num_epochs):\n",
    "        for images, labels in trainloader:\n",
    "            total = 0.\n",
    "            correct = 0.\n",
    "            model.train()\n",
    "            images, labels = images.to(device), labels.to(device)\n",
    "            optimizer.zero_grad()\n",
    "            outputs = model(images)\n",
    "            \n",
    "            classification_loss = criterion(outputs, labels)\n",
    "            loss = classification_loss\n",
    "\n",
    "            _, predicted = torch.max(outputs.data, 1)\n",
    "            total += labels.size(0)\n",
    "            correct += (predicted == labels).sum().item()\n",
    "\n",
    "            loss.backward()\n",
    "            optimizer.step()\n",
    "\n",
    "        test_acc = cal_acc(model, testloader, device)\n",
    "\n",
    "        print(f\"Epoch [{epoch + 1}/{num_epochs}], Loss: {loss.item():.4f}, Train Acc: {correct/total:.4f}, Test Accuracy: {test_acc:.4f}\")"
   ]
  },
  {
   "cell_type": "code",
   "execution_count": 11,
   "metadata": {},
   "outputs": [
    {
     "name": "stdout",
     "output_type": "stream",
     "text": [
      "Epoch [1/30], Loss: 1.7492, Train Acc: 0.7109, Test Accuracy: 0.7553\n",
      "Epoch [2/30], Loss: 1.6922, Train Acc: 0.7734, Test Accuracy: 0.7840\n",
      "Epoch [3/30], Loss: 1.6593, Train Acc: 0.8008, Test Accuracy: 0.7671\n",
      "Epoch [4/30], Loss: 1.6545, Train Acc: 0.8008, Test Accuracy: 0.7982\n",
      "Epoch [5/30], Loss: 1.6295, Train Acc: 0.8281, Test Accuracy: 0.7760\n",
      "Epoch [6/30], Loss: 1.6094, Train Acc: 0.8477, Test Accuracy: 0.7925\n",
      "Epoch [7/30], Loss: 1.6028, Train Acc: 0.8594, Test Accuracy: 0.7844\n",
      "Epoch [8/30], Loss: 1.6082, Train Acc: 0.8516, Test Accuracy: 0.7815\n",
      "Epoch [9/30], Loss: 1.5865, Train Acc: 0.8750, Test Accuracy: 0.7992\n",
      "Epoch [10/30], Loss: 1.5850, Train Acc: 0.8789, Test Accuracy: 0.7958\n",
      "Epoch [11/30], Loss: 1.5689, Train Acc: 0.8906, Test Accuracy: 0.7944\n",
      "Epoch [12/30], Loss: 1.5565, Train Acc: 0.9023, Test Accuracy: 0.7956\n",
      "Epoch [13/30], Loss: 1.5559, Train Acc: 0.9062, Test Accuracy: 0.7861\n",
      "Epoch [14/30], Loss: 1.5582, Train Acc: 0.9062, Test Accuracy: 0.7906\n",
      "Epoch [15/30], Loss: 1.5406, Train Acc: 0.9219, Test Accuracy: 0.7979\n",
      "Epoch [16/30], Loss: 1.5469, Train Acc: 0.9141, Test Accuracy: 0.7911\n",
      "Epoch [17/30], Loss: 1.5424, Train Acc: 0.9180, Test Accuracy: 0.7895\n",
      "Epoch [18/30], Loss: 1.5347, Train Acc: 0.9258, Test Accuracy: 0.7925\n",
      "Epoch [19/30], Loss: 1.5436, Train Acc: 0.9180, Test Accuracy: 0.7963\n",
      "Epoch [20/30], Loss: 1.5293, Train Acc: 0.9336, Test Accuracy: 0.7931\n",
      "Epoch [21/30], Loss: 1.5354, Train Acc: 0.9297, Test Accuracy: 0.7901\n",
      "Epoch [22/30], Loss: 1.5415, Train Acc: 0.9180, Test Accuracy: 0.7751\n",
      "Epoch [23/30], Loss: 1.5376, Train Acc: 0.9219, Test Accuracy: 0.7729\n",
      "Epoch [24/30], Loss: 1.5280, Train Acc: 0.9336, Test Accuracy: 0.7947\n",
      "Epoch [25/30], Loss: 1.5274, Train Acc: 0.9336, Test Accuracy: 0.7851\n",
      "Epoch [26/30], Loss: 1.5283, Train Acc: 0.9336, Test Accuracy: 0.7843\n",
      "Epoch [27/30], Loss: 1.5260, Train Acc: 0.9375, Test Accuracy: 0.7857\n",
      "Epoch [28/30], Loss: 1.5247, Train Acc: 0.9375, Test Accuracy: 0.7895\n",
      "Epoch [29/30], Loss: 1.5240, Train Acc: 0.9375, Test Accuracy: 0.7808\n",
      "Epoch [30/30], Loss: 1.5210, Train Acc: 0.9414, Test Accuracy: 0.7827\n"
     ]
    }
   ],
   "source": [
    "model = VGG().to(device)\n",
    "model.load_state_dict(torch.load('source.pth'))\n",
    "criterion = nn.CrossEntropyLoss()\n",
    "optimizer = torch.optim.Adam(model.parameters(), 0.0005)\n",
    "num_epochs = 30\n",
    "easy_fine_tune(criterion, optimizer, model, num_epochs, target_dl, test_dl, device)"
   ]
  }
 ],
 "metadata": {
  "kernelspec": {
   "display_name": "ml",
   "language": "python",
   "name": "python3"
  },
  "language_info": {
   "codemirror_mode": {
    "name": "ipython",
    "version": 3
   },
   "file_extension": ".py",
   "mimetype": "text/x-python",
   "name": "python",
   "nbconvert_exporter": "python",
   "pygments_lexer": "ipython3",
   "version": "3.8.12"
  }
 },
 "nbformat": 4,
 "nbformat_minor": 2
}
