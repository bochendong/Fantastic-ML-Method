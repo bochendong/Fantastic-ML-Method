{
 "cells": [
  {
   "cell_type": "code",
   "execution_count": 1,
   "metadata": {},
   "outputs": [],
   "source": [
    "import torch\n",
    "import torch.nn as nn\n",
    "import torch.nn.functional as F\n",
    "\n",
    "import torch\n",
    "import os\n",
    "import torch.nn.init as init\n",
    "from torchvision import datasets, transforms\n",
    "from torch import optim, nn\n",
    "from torch.utils.data import DataLoader, Subset\n",
    "import matplotlib.pyplot as plt\n",
    "import logging\n",
    "import math\n",
    "import copy"
   ]
  },
  {
   "cell_type": "code",
   "execution_count": 2,
   "metadata": {},
   "outputs": [],
   "source": [
    "batch_size = 128\n",
    "device = torch.device(\"cuda\" if torch.cuda.is_available() else \"cpu\")\n",
    "output_dir = './output'"
   ]
  },
  {
   "cell_type": "code",
   "execution_count": 3,
   "metadata": {},
   "outputs": [],
   "source": [
    "def adjust_learning_rate(optimizer):\n",
    "    for param_group in optimizer.param_groups:\n",
    "        param_group['lr'] = 0.75 * param_group['lr']"
   ]
  },
  {
   "cell_type": "markdown",
   "metadata": {},
   "source": [
    "# Dataloader"
   ]
  },
  {
   "cell_type": "code",
   "execution_count": 4,
   "metadata": {},
   "outputs": [],
   "source": [
    "tf = transforms.Compose([\n",
    "        transforms.ToTensor(),\n",
    "        transforms.Normalize([0.5], [0.5]),\n",
    "    ])"
   ]
  },
  {
   "cell_type": "code",
   "execution_count": 5,
   "metadata": {},
   "outputs": [],
   "source": [
    "def task_dataloader(task_num):\n",
    "    task_dir = {0: [0, 1], 1: [2, 3], 2: [4, 5], 3: [6, 7], 4:[8, 9]}\n",
    "\n",
    "    train_dataset = datasets.MNIST(root='data', train=True, download=True, transform=tf)\n",
    "\n",
    "    indices = [i for i, (_, label) in enumerate(train_dataset) if label in task_dir[task_num]]\n",
    "    dataset = Subset(train_dataset, indices)\n",
    "    task_train_loader = DataLoader(dataset, batch_size=batch_size, shuffle=False, drop_last=True)\n",
    "\n",
    "    test_dataset = datasets.MNIST(root='./data', train=False, transform=tf, download=True)\n",
    "    indices = [i for i, (_, label) in enumerate(test_dataset) if label in task_dir[task_num]]\n",
    "    dataset = Subset(test_dataset, indices)\n",
    "    task_test_loader = DataLoader(dataset, batch_size=batch_size, shuffle=False, drop_last=True)\n",
    "\n",
    "    return task_train_loader, task_test_loader\n",
    "\n",
    "def load_all_data():\n",
    "    train_dataset = datasets.MNIST(root='./data', train=True, transform=tf, download=True)\n",
    "    train_loader = DataLoader(dataset=train_dataset, batch_size=batch_size, shuffle=False, drop_last=True)\n",
    "\n",
    "    test_dataset = datasets.MNIST(root='./data', train=False, transform=tf, download=True)\n",
    "    test_loader = DataLoader(dataset=test_dataset, batch_size=batch_size, shuffle=False, drop_last=True)\n",
    "\n",
    "    return train_loader, test_loader"
   ]
  },
  {
   "cell_type": "code",
   "execution_count": 6,
   "metadata": {},
   "outputs": [],
   "source": [
    "train_loader, test_loader = load_all_data()\n",
    "task_dataloaders = {}\n",
    "for task in range(0, 5):\n",
    "    train_dl, test_ld = task_dataloader(task)\n",
    "    task_dataloaders[task] = (train_dl, test_ld)"
   ]
  },
  {
   "cell_type": "markdown",
   "metadata": {},
   "source": [
    "# Model"
   ]
  },
  {
   "cell_type": "code",
   "execution_count": 7,
   "metadata": {},
   "outputs": [],
   "source": [
    "class DeepModelWithAttention(nn.Module):\n",
    "    def __init__(self, desired_sum):\n",
    "        super(DeepModelWithAttention, self).__init__()\n",
    "        self.desired_sum = desired_sum\n",
    "\n",
    "        self.attn = nn.MultiheadAttention(embed_dim=2, num_heads= 1)\n",
    "        self.fc = nn.Linear(2, 1)\n",
    "        \n",
    "    def forward(self, x):\n",
    "        attn_output, _ = self.attn(x, x, x)\n",
    "        attn_output = attn_output.mean(dim = 1)\n",
    "        output = self.fc(attn_output).squeeze(-1) \n",
    "        \n",
    "        output = F.softmax(output, dim = 0) * self.desired_sum\n",
    "\n",
    "        return output"
   ]
  },
  {
   "cell_type": "code",
   "execution_count": 8,
   "metadata": {},
   "outputs": [],
   "source": [
    "class MLP_Enhance(nn.Module):\n",
    "    def __init__(self, out_dim=10, in_channel=1, img_sz=28, hidden_dim=400):\n",
    "        super(MLP_Enhance, self).__init__()\n",
    "        self.in_dim = in_channel*img_sz*img_sz\n",
    "        self.linear = nn.Sequential(\n",
    "            nn.Linear(self.in_dim, hidden_dim),\n",
    "            nn.BatchNorm1d(hidden_dim),\n",
    "            nn.ReLU(inplace=True),\n",
    "            nn.Linear(hidden_dim, hidden_dim),\n",
    "            nn.BatchNorm1d(hidden_dim),\n",
    "            nn.ReLU(inplace=True),\n",
    "        )\n",
    "        self.last = nn.Sequential(\n",
    "            nn.Linear(hidden_dim, out_dim),\n",
    "            nn.Softmax(dim=1)\n",
    "        )\n",
    "        self.init_weights()\n",
    "\n",
    "    def init_weights(self):\n",
    "        for layer in self.linear:\n",
    "            if isinstance(layer, nn.Linear):\n",
    "                init.kaiming_normal_(layer.weight, mode='fan_out', nonlinearity='relu')\n",
    "                init.constant_(layer.bias, 0)\n",
    "        last_linear = self.last[0]\n",
    "        init.xavier_normal_(last_linear.weight)\n",
    "        init.constant_(last_linear.bias, 0)\n",
    "\n",
    "\n",
    "    def features(self, x):\n",
    "        x = self.linear(x.view(-1,self.in_dim))\n",
    "        return x\n",
    "\n",
    "    def logits(self, x):\n",
    "        x = self.last(x)\n",
    "        return x\n",
    "\n",
    "    def forward(self, x):\n",
    "        x = self.features(x)\n",
    "        x = self.logits(x)\n",
    "        return x"
   ]
  },
  {
   "cell_type": "code",
   "execution_count": 9,
   "metadata": {},
   "outputs": [],
   "source": [
    "def cal_acc(model, dataloader, device):\n",
    "    model.eval()\n",
    "    correct, total = 0., 0.\n",
    "    with torch.no_grad():\n",
    "        for images, labels in dataloader:\n",
    "            images, labels = images.to(device), labels.to(device)\n",
    "            outputs = model(images)\n",
    "            _, predicted = torch.max(outputs.data, 1)\n",
    "            total += labels.size(0)\n",
    "            correct += (predicted == labels).sum().item()\n",
    "\n",
    "    return correct / total"
   ]
  },
  {
   "cell_type": "code",
   "execution_count": 10,
   "metadata": {},
   "outputs": [],
   "source": [
    "def plot_acc_history(all_accuracies):\n",
    "    plt.figure(figsize=(18, 12))\n",
    "\n",
    "    for i, task_accuracies in enumerate(all_accuracies):\n",
    "        plt.subplot(2, 3, i+1)\n",
    "        for task, accs in task_accuracies.items():\n",
    "            plt.plot(accs,'-', label=f'Task {task}')\n",
    "        plt.title(f'Accuracy per Mini-Batch for Task {i}')\n",
    "        plt.xlabel('Mini-Batch Number')\n",
    "        plt.ylabel('Accuracy (%)')\n",
    "        plt.ylim(-5, 105)\n",
    "        plt.legend()\n",
    "        plt.grid(True)\n",
    "\n",
    "    plt.tight_layout()\n",
    "    plt.show()\n",
    "\n",
    "\n",
    "def plot_task_acc_history(all_accuracies, save_name, epochs):\n",
    "    for task in [0, 1, 2, 3, 4]:\n",
    "        if (task == 0):\n",
    "            task_history = []\n",
    "        else:\n",
    "            task_history =  [0] * (epochs * task)\n",
    "        for i, task_accuracies in enumerate (all_accuracies):\n",
    "            if (i >= task):\n",
    "                task_history.extend(task_accuracies[task])\n",
    "                    \n",
    "        plt.plot(task_history, '-', label=f'Task {task}')\n",
    "\n",
    "    plt.xlabel('Mini-Batch Number')\n",
    "    plt.ylabel('Accuracy (%)')\n",
    "    plt.ylim(-5, 105)\n",
    "    plt.legend()\n",
    "    plt.grid(True)\n",
    "    plt.tight_layout()\n",
    "    plt.savefig(save_name) \n",
    "    plt.show()"
   ]
  },
  {
   "cell_type": "markdown",
   "metadata": {},
   "source": [
    "# Train Function"
   ]
  },
  {
   "cell_type": "code",
   "execution_count": 11,
   "metadata": {},
   "outputs": [],
   "source": [
    "def pretrain_meta(meta_model, optimizer_M, task_num):\n",
    "    target = torch.full((task_num, 1, 1), 2.0).to(device)\n",
    "    criterion = nn.MSELoss()\n",
    "\n",
    "    print(\"Pretrain on meta_model\")\n",
    "    for epoch in range(400):\n",
    "        prev_outputs = None\n",
    "        for k in range (task_num):\n",
    "            past_output = F.softmax(torch.rand(batch_size, 10), dim=-1).to(device)\n",
    "            outputs = F.softmax(torch.rand(batch_size, 10), dim=-1).to(device)\n",
    "            diff = past_output[:,k*2:k * 2 + 2] - outputs[:,k*2:k * 2 + 2]\n",
    "            diff = diff.unsqueeze(0)\n",
    "            if (prev_outputs == None):\n",
    "                prev_outputs = diff\n",
    "            else:\n",
    "                prev_outputs = torch.cat((prev_outputs, diff), dim=0)\n",
    "\n",
    "        meta_out = meta_model(prev_outputs).view(-1, 1, 1 )\n",
    "\n",
    "        meta_model.train()\n",
    "        optimizer_M.zero_grad()\n",
    "        loss = criterion(meta_out, target)\n",
    "        loss.backward()\n",
    "        optimizer_M.step()\n",
    "        \n",
    "        '''if((epoch + 1) % 100 == 0):\n",
    "            print(f'Epoch [{epoch+1}/{400}], Loss: {loss.item():.4f}')'''"
   ]
  },
  {
   "cell_type": "code",
   "execution_count": 12,
   "metadata": {},
   "outputs": [
    {
     "name": "stdout",
     "output_type": "stream",
     "text": [
      "Pretrain on meta_model\n"
     ]
    }
   ],
   "source": [
    "task_num = 1\n",
    "meta_model = DeepModelWithAttention(desired_sum = 2 * task_num).to(device)\n",
    "optimizer_M = optim.Adam(meta_model.parameters(), lr=0.001)\n",
    "pretrain_meta(meta_model, optimizer_M, task_num)"
   ]
  },
  {
   "cell_type": "code",
   "execution_count": 13,
   "metadata": {},
   "outputs": [
    {
     "name": "stdout",
     "output_type": "stream",
     "text": [
      "tensor([[[0.5928, 0.8652],\n",
      "         [0.2944, 0.0012],\n",
      "         [0.8218, 0.8225],\n",
      "         [0.9378, 0.7714]],\n",
      "\n",
      "        [[0.0484, 0.0697],\n",
      "         [0.1482, 0.5579],\n",
      "         [0.5317, 0.3011],\n",
      "         [0.8184, 0.4968]]])\n"
     ]
    }
   ],
   "source": [
    "x = torch.rand(2, 4, 2)\n",
    "y = 2\n",
    "print(x)"
   ]
  },
  {
   "cell_type": "code",
   "execution_count": 14,
   "metadata": {},
   "outputs": [
    {
     "name": "stdout",
     "output_type": "stream",
     "text": [
      "tensor([[[1.1856, 1.7304],\n",
      "         [0.5888, 0.0025],\n",
      "         [1.6437, 1.6451],\n",
      "         [1.8756, 1.5428]],\n",
      "\n",
      "        [[0.0968, 0.1395],\n",
      "         [0.2965, 1.1158],\n",
      "         [1.0633, 0.6021],\n",
      "         [1.6367, 0.9936]]])\n"
     ]
    }
   ],
   "source": [
    "print(x * y)"
   ]
  },
  {
   "cell_type": "code",
   "execution_count": 15,
   "metadata": {},
   "outputs": [
    {
     "name": "stdout",
     "output_type": "stream",
     "text": [
      "tensor([1.2768, 0.7430])\n"
     ]
    }
   ],
   "source": [
    "print(torch.mean(x * y, dim = (1,2)))"
   ]
  },
  {
   "cell_type": "code",
   "execution_count": 16,
   "metadata": {},
   "outputs": [
    {
     "data": {
      "text/plain": [
       "tensor(0.8480)"
      ]
     },
     "execution_count": 16,
     "metadata": {},
     "output_type": "execute_result"
    }
   ],
   "source": [
    "z = torch.tensor([[0.0731, 0.5404],\n",
    "         [0.3333, 0.8707],\n",
    "         [1.1473, 1.9887],\n",
    "         [0.6462, 1.1840]])\n",
    "z.mean()"
   ]
  },
  {
   "cell_type": "code",
   "execution_count": 29,
   "metadata": {},
   "outputs": [],
   "source": [
    "def train(model, task_num, criterion, optimizer, prev_models, task_dataloaders, epoches = 4):\n",
    "    train_loader = task_dataloaders[task_num][0]\n",
    "    task_accuracies = {task: [] for task in range(task_num + 1)}\n",
    "    distribution_factor  = 20\n",
    "\n",
    "    if (task_num != 0):\n",
    "        meta_model = DeepModelWithAttention(desired_sum = 2 * task_num).to(device)\n",
    "        optimizer_M = optim.Adam(meta_model.parameters(), lr=0.001)\n",
    "        pretrain_meta(meta_model, optimizer_M, task_num)\n",
    "    \n",
    "    valid_out_dim = task_num * 2 + 2\n",
    "    logging.info(f\"##########Task {task_num}##########\")\n",
    "    for e in range(epoches):\n",
    "        logging.info(f\"Epoch {e}\")\n",
    "        batch_num = 0\n",
    "        for images, labels in train_loader:\n",
    "            model.train()\n",
    "            images, labels = images.to(device), labels.to(device)\n",
    "            outputs = model(images)\n",
    "\n",
    "            random_data = torch.rand(256, 1, 28, 28).to(device)\n",
    "            random_data = (random_data - 0.5) / 0.5\n",
    "            random_target = torch.randint(0, 10, (256,), dtype=torch.int64).to(device)\n",
    "            fake_output = model(random_data)\n",
    "            dis_loss = distribution_factor * criterion(fake_output, random_target)\n",
    "\n",
    "            reg_loss = 0\n",
    "            prev_outputs = None\n",
    "            if (task_num != 0):\n",
    "                meta_model.eval()\n",
    "                for k, prev_mod in enumerate(prev_models):\n",
    "                    with torch.no_grad():\n",
    "                        past_output = prev_mod(images)\n",
    "                    diff = torch.abs(past_output[:,k*2:k * 2 + 2] - outputs[:,k*2:k * 2 + 2])\n",
    "                    diff = diff.unsqueeze(0)\n",
    "                    if (prev_outputs == None):\n",
    "                        prev_outputs = diff\n",
    "                    else:\n",
    "                        prev_outputs = torch.cat((prev_outputs, diff), dim=0)\n",
    "\n",
    "                '''with torch.no_grad():\n",
    "                    meta_out = meta_model(prev_outputs).view(-1, 1, 1)'''\n",
    "                \n",
    "                meta_out = 2\n",
    "                mean_diff = torch.mean(prev_outputs, dim = (1, 2))\n",
    "                reg_loss = torch.sum(meta_out * mean_diff)\n",
    "\n",
    "                for k in range(prev_outputs.shape[0]):\n",
    "                    reg_loss += torch.mean(2 * prev_outputs[k])\n",
    "                \n",
    "                '''if (batch_num == 0):\n",
    "                    print(meta_out)'''\n",
    "                    \n",
    "            loss = criterion(outputs[:,:valid_out_dim], labels) + dis_loss + reg_loss\n",
    "            optimizer.zero_grad()\n",
    "            loss.backward()\n",
    "            optimizer.step()\n",
    "\n",
    "            '''if (task_num != 0):\n",
    "                meta_model.train()\n",
    "                prev_outputs = None\n",
    "                outputs = outputs.detach()\n",
    "                for k, prev_mod in enumerate(prev_models):\n",
    "                    with torch.no_grad():\n",
    "                        past_output = prev_mod(images)\n",
    "                    \n",
    "                    diff = torch.abs(past_output[:,k*2:k * 2 + 2] - outputs[:,k*2:k * 2 + 2])\n",
    "                    diff = diff.unsqueeze(0)\n",
    "                    if (prev_outputs == None):\n",
    "                        prev_outputs = diff\n",
    "                    else:\n",
    "                        prev_outputs = torch.cat((prev_outputs, diff), dim=0)\n",
    "\n",
    "                meta_out = meta_model(prev_outputs).view(-1, 1, 1)\n",
    "                meta_loss = torch.mean(meta_out * prev_outputs)\n",
    "\n",
    "                optimizer_M.zero_grad()\n",
    "                meta_loss.backward()\n",
    "                optimizer_M.step()'''\n",
    "\n",
    "            batch_num += 1\n",
    "\n",
    "        adjust_learning_rate(optimizer)\n",
    "\n",
    "        avg_acc = 0\n",
    "        log_message = []\n",
    "        log_message.append(f\"Epoch: {e}, \")\n",
    "        for task in range(task_num + 1):\n",
    "            acc = cal_acc(model, task_dataloaders[task][0], device)\n",
    "            avg_acc += acc\n",
    "            task_accuracies[task].append(acc * 100)\n",
    "            log_message.append(f\"Task {task} acc: {acc * 100:.4f}\")\n",
    "\n",
    "        logging.info(', '.join(log_message) + f\", Task avg acc:{avg_acc*100/(task_num + 1):.4f}\")\n",
    "        if(task_num != 0):\n",
    "            logging.info(f'loss:{loss.item()}, reg_loss:{reg_loss:.4f}')\n",
    "    \n",
    "    return model, task_accuracies"
   ]
  },
  {
   "cell_type": "markdown",
   "metadata": {},
   "source": [
    "# Train"
   ]
  },
  {
   "cell_type": "code",
   "execution_count": 30,
   "metadata": {},
   "outputs": [],
   "source": [
    "def setup_logging(file_name):\n",
    "    logging.basicConfig(level=logging.INFO,\n",
    "                        format='%(asctime)s - %(levelname)s - %(message)s',\n",
    "                        handlers=[\n",
    "                            logging.FileHandler(file_name),\n",
    "                            logging.StreamHandler()\n",
    "                        ],\n",
    "                        force=True)\n",
    "    \n",
    "\n",
    "def train_split_task(task_name, task_dataloaders):\n",
    "    print(f\"Training on {task_name}\")\n",
    "    prev_models = []\n",
    "    model = MLP_Enhance()\n",
    "    model = model.to(device)\n",
    "    optimizer = torch.optim.Adam(model.parameters(), lr = 0.005)\n",
    "    criterion = nn.CrossEntropyLoss()\n",
    "\n",
    "    epochs, lr = 3, 0.005\n",
    "    file_name = f\"{output_dir}/{task_name}_epochs={epochs}\"\n",
    "    log_file_name = file_name + '.log'\n",
    "    img_file_name = file_name + '.png'\n",
    "\n",
    "    setup_logging(log_file_name)\n",
    "    all_accuracies = []\n",
    "    for task in [0, 1, 2, 3, 4]:\n",
    "        model, task_accuracies = train(model, task, criterion, optimizer, prev_models, task_dataloaders, epoches = 4)\n",
    "        all_accuracies.append(task_accuracies)\n",
    "        prev_models.append(copy.deepcopy(model))\n",
    "\n",
    "    plot_task_acc_history(all_accuracies, img_file_name, epochs)"
   ]
  },
  {
   "cell_type": "code",
   "execution_count": 31,
   "metadata": {},
   "outputs": [
    {
     "name": "stderr",
     "output_type": "stream",
     "text": [
      "2024-06-02 02:35:38,549 - INFO - ##########Task 0##########\n",
      "2024-06-02 02:35:38,550 - INFO - Epoch 0\n"
     ]
    },
    {
     "name": "stdout",
     "output_type": "stream",
     "text": [
      "Training on 0\n"
     ]
    },
    {
     "name": "stderr",
     "output_type": "stream",
     "text": [
      "2024-06-02 02:35:45,255 - INFO - Epoch: 0, , Task 0 acc: 85.5230, Task avg acc:85.5230\n",
      "2024-06-02 02:35:45,256 - INFO - Epoch 1\n",
      "2024-06-02 02:35:51,149 - INFO - Epoch: 1, , Task 0 acc: 96.7395, Task avg acc:96.7395\n",
      "2024-06-02 02:35:51,151 - INFO - Epoch 2\n",
      "2024-06-02 02:35:57,647 - INFO - Epoch: 2, , Task 0 acc: 93.9015, Task avg acc:93.9015\n",
      "2024-06-02 02:35:57,647 - INFO - Epoch 3\n",
      "2024-06-02 02:36:03,511 - INFO - Epoch: 3, , Task 0 acc: 96.3010, Task avg acc:96.3010\n"
     ]
    },
    {
     "name": "stdout",
     "output_type": "stream",
     "text": [
      "Pretrain on meta_model\n"
     ]
    },
    {
     "name": "stderr",
     "output_type": "stream",
     "text": [
      "2024-06-02 02:36:04,684 - INFO - ##########Task 1##########\n",
      "2024-06-02 02:36:04,684 - INFO - Epoch 0\n",
      "2024-06-02 02:36:12,211 - INFO - Epoch: 0, , Task 0 acc: 62.7232, Task 1 acc: 21.4678, Task avg acc:42.0955\n",
      "2024-06-02 02:36:12,213 - INFO - loss:47.51426696777344, reg_loss:0.1963\n",
      "2024-06-02 02:36:12,214 - INFO - Epoch 1\n",
      "2024-06-02 02:36:19,883 - INFO - Epoch: 1, , Task 0 acc: 71.1974, Task 1 acc: 18.8082, Task avg acc:45.0028\n",
      "2024-06-02 02:36:19,884 - INFO - loss:47.265052795410156, reg_loss:0.2030\n",
      "2024-06-02 02:36:19,885 - INFO - Epoch 2\n",
      "2024-06-02 02:36:27,599 - INFO - Epoch: 2, , Task 0 acc: 72.7280, Task 1 acc: 21.3680, Task avg acc:47.0480\n",
      "2024-06-02 02:36:27,600 - INFO - loss:47.58672332763672, reg_loss:0.1810\n",
      "2024-06-02 02:36:27,601 - INFO - Epoch 3\n",
      "2024-06-02 02:36:35,276 - INFO - Epoch: 3, , Task 0 acc: 72.6722, Task 1 acc: 22.6895, Task avg acc:47.6808\n",
      "2024-06-02 02:36:35,277 - INFO - loss:47.484195709228516, reg_loss:0.1564\n"
     ]
    },
    {
     "name": "stdout",
     "output_type": "stream",
     "text": [
      "Pretrain on meta_model\n"
     ]
    },
    {
     "name": "stderr",
     "output_type": "stream",
     "text": [
      "2024-06-02 02:36:36,652 - INFO - ##########Task 2##########\n",
      "2024-06-02 02:36:36,653 - INFO - Epoch 0\n",
      "2024-06-02 02:36:46,386 - INFO - Epoch: 0, , Task 0 acc: 73.9955, Task 1 acc: 7.0396, Task 2 acc: 26.5805, Task avg acc:35.8719\n",
      "2024-06-02 02:36:46,387 - INFO - loss:48.33284378051758, reg_loss:0.3824\n",
      "2024-06-02 02:36:46,388 - INFO - Epoch 1\n",
      "2024-06-02 02:36:56,080 - INFO - Epoch: 1, , Task 0 acc: 72.8157, Task 1 acc: 7.3138, Task 2 acc: 36.0722, Task avg acc:38.7339\n",
      "2024-06-02 02:36:56,082 - INFO - loss:47.885643005371094, reg_loss:0.3447\n",
      "2024-06-02 02:36:56,082 - INFO - Epoch 2\n",
      "2024-06-02 02:37:05,773 - INFO - Epoch: 2, , Task 0 acc: 72.9751, Task 1 acc: 8.1449, Task 2 acc: 41.8822, Task avg acc:41.0008\n",
      "2024-06-02 02:37:05,775 - INFO - loss:48.19593048095703, reg_loss:0.3360\n",
      "2024-06-02 02:37:05,776 - INFO - Epoch 3\n",
      "2024-06-02 02:37:15,471 - INFO - Epoch: 3, , Task 0 acc: 74.0593, Task 1 acc: 8.6602, Task 2 acc: 42.5108, Task avg acc:41.7434\n",
      "2024-06-02 02:37:15,473 - INFO - loss:48.178585052490234, reg_loss:0.3381\n"
     ]
    },
    {
     "name": "stdout",
     "output_type": "stream",
     "text": [
      "Pretrain on meta_model\n"
     ]
    },
    {
     "name": "stderr",
     "output_type": "stream",
     "text": [
      "2024-06-02 02:37:17,108 - INFO - ##########Task 3##########\n",
      "2024-06-02 02:37:17,109 - INFO - Epoch 0\n",
      "2024-06-02 02:37:29,461 - INFO - Epoch: 0, , Task 0 acc: 72.3613, Task 1 acc: 7.0811, Task 2 acc: 21.2823, Task 3 acc: 5.9293, Task avg acc:26.6635\n",
      "2024-06-02 02:37:29,463 - INFO - loss:48.88599395751953, reg_loss:0.6012\n",
      "2024-06-02 02:37:29,464 - INFO - Epoch 1\n",
      "2024-06-02 02:37:41,884 - INFO - Epoch: 1, , Task 0 acc: 71.3728, Task 1 acc: 5.3690, Task 2 acc: 21.0399, Task 3 acc: 15.9457, Task avg acc:28.4318\n",
      "2024-06-02 02:37:41,885 - INFO - loss:48.73701858520508, reg_loss:0.5935\n",
      "2024-06-02 02:37:41,885 - INFO - Epoch 2\n",
      "2024-06-02 02:37:54,183 - INFO - Epoch: 2, , Task 0 acc: 71.2293, Task 1 acc: 5.1363, Task 2 acc: 20.8513, Task 3 acc: 21.7599, Task avg acc:29.7442\n",
      "2024-06-02 02:37:54,185 - INFO - loss:48.74620819091797, reg_loss:0.5909\n",
      "2024-06-02 02:37:54,186 - INFO - Epoch 3\n",
      "2024-06-02 02:38:06,516 - INFO - Epoch: 3, , Task 0 acc: 70.7828, Task 1 acc: 4.9618, Task 2 acc: 21.0129, Task 3 acc: 25.8470, Task avg acc:30.6511\n",
      "2024-06-02 02:38:06,517 - INFO - loss:48.804691314697266, reg_loss:0.5887\n"
     ]
    },
    {
     "name": "stdout",
     "output_type": "stream",
     "text": [
      "Pretrain on meta_model\n"
     ]
    },
    {
     "name": "stderr",
     "output_type": "stream",
     "text": [
      "2024-06-02 02:38:08,321 - INFO - ##########Task 4##########\n",
      "2024-06-02 02:38:08,322 - INFO - Epoch 0\n",
      "2024-06-02 02:38:22,904 - INFO - Epoch: 0, , Task 0 acc: 64.8836, Task 1 acc: 4.7374, Task 2 acc: 17.7892, Task 3 acc: 14.8191, Task 4 acc: 0.0170, Task avg acc:20.4492\n",
      "2024-06-02 02:38:22,906 - INFO - loss:49.19590759277344, reg_loss:0.6078\n",
      "2024-06-02 02:38:22,907 - INFO - Epoch 1\n",
      "2024-06-02 02:38:37,414 - INFO - Epoch: 1, , Task 0 acc: 64.1342, Task 1 acc: 4.5961, Task 2 acc: 17.9777, Task 3 acc: 13.2401, Task 4 acc: 0.1104, Task avg acc:20.0117\n",
      "2024-06-02 02:38:37,416 - INFO - loss:49.31145095825195, reg_loss:0.5967\n",
      "2024-06-02 02:38:37,417 - INFO - Epoch 2\n",
      "2024-06-02 02:38:51,972 - INFO - Epoch: 2, , Task 0 acc: 63.7915, Task 1 acc: 4.5462, Task 2 acc: 17.8341, Task 3 acc: 12.1053, Task 4 acc: 0.2208, Task avg acc:19.6996\n",
      "2024-06-02 02:38:51,974 - INFO - loss:49.072410583496094, reg_loss:0.5876\n",
      "2024-06-02 02:38:51,975 - INFO - Epoch 3\n",
      "2024-06-02 02:39:06,980 - INFO - Epoch: 3, , Task 0 acc: 64.1980, Task 1 acc: 4.5130, Task 2 acc: 17.7173, Task 3 acc: 11.9901, Task 4 acc: 0.4331, Task avg acc:19.7703\n",
      "2024-06-02 02:39:06,981 - INFO - loss:49.0975227355957, reg_loss:0.5807\n"
     ]
    },
    {
     "data": {
      "image/png": "[encoded data removed]",
      "text/plain": [
       "<Figure size 432x288 with 1 Axes>"
      ]
     },
     "metadata": {
      "needs_background": "light"
     },
     "output_type": "display_data"
    }
   ],
   "source": [
    "train_split_task(\"0\", task_dataloaders)"
   ]
  }
 ],
 "metadata": {
  "kernelspec": {
   "display_name": "ml",
   "language": "python",
   "name": "python3"
  },
  "language_info": {
   "codemirror_mode": {
    "name": "ipython",
    "version": 3
   },
   "file_extension": ".py",
   "mimetype": "text/x-python",
   "name": "python",
   "nbconvert_exporter": "python",
   "pygments_lexer": "ipython3",
   "version": "3.8.12"
  }
 },
 "nbformat": 4,
 "nbformat_minor": 2
}
