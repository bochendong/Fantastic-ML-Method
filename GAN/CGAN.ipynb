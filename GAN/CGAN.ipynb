{
 "cells": [
  {
   "cell_type": "code",
   "execution_count": null,
   "metadata": {},
   "outputs": [],
   "source": [
    "import torch\n",
    "from torch import nn\n",
    "import torch.optim as optim\n",
    "from torchvision import datasets, transforms\n",
    "from torch.utils.data import DataLoader\n",
    "from torchvision.utils import save_image"
   ]
  },
  {
   "cell_type": "code",
   "execution_count": null,
   "metadata": {},
   "outputs": [],
   "source": [
    "image_size = 28*28\n",
    "batch_size = 128\n",
    "num_epochs = 200\n",
    "latent_dim = 100"
   ]
  },
  {
   "cell_type": "code",
   "execution_count": null,
   "metadata": {},
   "outputs": [],
   "source": [
    "# Device configuration\n",
    "device = torch.device('cuda' if torch.cuda.is_available() else 'cpu')\n",
    "\n",
    "# MNIST dataset\n",
    "transform = transforms.Compose([\n",
    "    transforms.ToTensor(),\n",
    "    transforms.Normalize([0.5], [0.5])\n",
    "])\n",
    "train_dataset = datasets.MNIST(root='./data', train=True, transform=transform, download=True)\n",
    "train_loader = DataLoader(dataset=train_dataset, batch_size=batch_size, shuffle=True, drop_last=True)"
   ]
  },
  {
   "cell_type": "code",
   "execution_count": null,
   "metadata": {},
   "outputs": [],
   "source": [
    "class Generator(nn.Module):\n",
    "    def __init__(self, latent_dim=100, context_dim=10, output_dim=28 * 28):\n",
    "        super(Generator, self).__init__()\n",
    "\n",
    "        self.hidden1_z = nn.Sequential(nn.Linear(latent_dim, 200), \n",
    "                                       nn.Dropout(p=0.5), \n",
    "                                       nn.ReLU(), )\n",
    "        \n",
    "        self.hidden1_context = nn.Sequential(nn.Linear(context_dim, 1000), \n",
    "                                             nn.Dropout(p=0.5), \n",
    "                                             nn.ReLU(), )\n",
    "        \n",
    "        self.hidden2 = nn.Sequential(nn.Linear(1200, 1200), \n",
    "                                     nn.Dropout(p=0.5), \n",
    "                                     nn.ReLU(), )\n",
    "        \n",
    "        self.out_layer = nn.Sequential(nn.Linear(1200, output_dim), \n",
    "                                       nn.Sigmoid(), )\n",
    "\n",
    "    def forward(self, noise, context):\n",
    "        h = torch.cat((self.hidden1_z(noise), self.hidden1_context(context)), dim=1)\n",
    "        h = self.hidden2(h)\n",
    "        return self.out_layer(h)"
   ]
  },
  {
   "cell_type": "code",
   "execution_count": null,
   "metadata": {},
   "outputs": [],
   "source": [
    "class Discriminator(nn.Module):\n",
    "    def __init__(self, input_dim=28 * 28, context_dim=10):\n",
    "        super(Discriminator, self).__init__()\n",
    "\n",
    "        self.hidden1_x = nn.Sequential(nn.Linear(input_dim, 240), \n",
    "                                       nn.Dropout(p=0.5), \n",
    "                                       nn.LeakyReLU(), )\n",
    "        \n",
    "        self.hidden1_context = nn.Sequential(nn.Linear(context_dim, 50), \n",
    "                                             nn.Dropout(p=0.5), \n",
    "                                             nn.LeakyReLU(), )\n",
    "        \n",
    "        self.hidden2 = nn.Sequential(nn.Linear(290, 240), \n",
    "                                     nn.Dropout(p=0.5), \n",
    "                                     nn.LeakyReLU(), )\n",
    "        \n",
    "        self.out_layer = nn.Sequential(nn.Linear(240, 1), \n",
    "                                       nn.Sigmoid(), )\n",
    "\n",
    "    def forward(self, img, context):\n",
    "        img = img.view(img.size(0), -1)\n",
    "        h = torch.cat((self.hidden1_x(img), self.hidden1_context(context)), dim=1)\n",
    "        h = self.hidden2(h)\n",
    "        return self.out_layer(h)"
   ]
  },
  {
   "cell_type": "code",
   "execution_count": null,
   "metadata": {},
   "outputs": [],
   "source": [
    "# Initialize models\n",
    "generator = Generator().to(device)\n",
    "discriminator = Discriminator().to(device)\n",
    "\n",
    "# Optimizers\n",
    "d_optimizer = optim.SGD(discriminator.parameters(), lr=0.1, momentum=0.5)\n",
    "g_optimizer = optim.SGD(generator.parameters(), lr=0.1, momentum=0.5)\n",
    "\n",
    "# Loss function\n",
    "criterion = nn.BCELoss()\n",
    "\n",
    "schedulers = [torch.optim.lr_scheduler.ExponentialLR(d_optimizer, 1 / 1.00004),\n",
    "                torch.optim.lr_scheduler.ExponentialLR(g_optimizer, 1 / 1.00004)]"
   ]
  },
  {
   "cell_type": "code",
   "execution_count": null,
   "metadata": {},
   "outputs": [],
   "source": [
    "for epoch in range(num_epochs):\n",
    "    for i, (images, labels) in enumerate(train_loader):\n",
    "        real_images = images.to(device)\n",
    "        real_labels = torch.ones(batch_size, 1).to(device)\n",
    "        fake_labels = torch.zeros(batch_size, 1).to(device)\n",
    "\n",
    "        # --------- Train the Teacher (D) --------- #\n",
    "        d_optimizer.zero_grad() \n",
    "        outputs = discriminator(real_images, labels)\n",
    "        d_real_loss = criterion(outputs, real_labels)\n",
    "        \n",
    "        z = torch.randn(batch_size, latent_dim).to(device) \n",
    "        fake_images = generator(z, labels)\n",
    "        outputs = discriminator(fake_images.detach(), labels)\n",
    "        d_fake_loss = criterion(outputs, fake_labels)\n",
    "\n",
    "        d_loss = (d_real_loss + d_fake_loss) / 2\n",
    "\n",
    "        d_loss.backward()\n",
    "        d_optimizer.step()\n",
    "        \n",
    "        # --------- Train the Student (G) --------- #\n",
    "        z = torch.randn(batch_size, latent_dim).to(device) \n",
    "        fake_images = generator(z, labels)\n",
    "        outputs = discriminator(fake_images, labels)\n",
    "        g_loss = criterion(outputs, real_labels)\n",
    "        g_loss.backward()\n",
    "        g_optimizer.step()\n",
    "\n",
    "        for scheduler in schedulers:\n",
    "            scheduler.step()\n",
    "\n",
    "        if (i+1) % 400 == 0:\n",
    "            print(f'Epoch [{epoch+1}/{num_epochs}], Step [{i+1}/{len(train_loader)}], D Loss: {d_loss.item()}, G Loss: {g_loss.item()}')\n",
    "\n",
    "    # Save generated images every epoch\n",
    "    save_image(fake_images.reshape(fake_images.size(0), 1, 28, 28), f'./data/fake_images-{epoch+1}.png')\n",
    "\n",
    "print(\"Training complete.\")"
   ]
  }
 ],
 "metadata": {
  "language_info": {
   "name": "python"
  }
 },
 "nbformat": 4,
 "nbformat_minor": 2
}
