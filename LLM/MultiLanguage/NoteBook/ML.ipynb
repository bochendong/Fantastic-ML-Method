{
 "cells": [
  {
   "cell_type": "code",
   "execution_count": 8,
   "metadata": {},
   "outputs": [
    {
     "name": "stdout",
     "output_type": "stream",
     "text": [
      "Processed chunk 1\n",
      "Processed chunk 2\n",
      "Processed chunk 3\n",
      "Processed chunk 4\n",
      "Processed chunk 5\n",
      "Processed chunk 6\n",
      "Processed chunk 7\n",
      "Processed chunk 8\n",
      "Processed chunk 9\n",
      "Processed chunk 10\n",
      "Processed chunk 11\n",
      "Processed chunk 12\n",
      "Processed chunk 13\n",
      "Processed chunk 14\n",
      "Processed chunk 15\n",
      "Processed chunk 16\n",
      "Processed chunk 17\n",
      "Processed chunk 18\n",
      "Processed chunk 19\n",
      "Processed chunk 20\n",
      "Processed chunk 21\n",
      "Processed chunk 22\n",
      "Processed chunk 23\n",
      "Processed chunk 24\n",
      "Processed chunk 25\n",
      "Processed chunk 26\n"
     ]
    }
   ],
   "source": [
    "import pandas as pd\n",
    "import json\n",
    "\n",
    "def json_to_csv(json_file_path, csv_file_path, chunk_size=10000):\n",
    "    with open(json_file_path, 'r', encoding='utf-8') as file:\n",
    "        data = json.load(file)\n",
    "\n",
    "    for i in range(0, len(data), chunk_size):\n",
    "        chunk = data[i:i+chunk_size]\n",
    "        df = pd.DataFrame(chunk)\n",
    "        if i == 0:\n",
    "            df.to_csv(csv_file_path, mode='w', index=False)\n",
    "        else:\n",
    "            df.to_csv(csv_file_path, mode='a', index=False, header=False)\n",
    "        \n",
    "        print(f\"Processed chunk {i // chunk_size + 1}\")\n",
    "\n",
    "json_file_path = '../Data/wikipedia-cn-20230720-filtered.json'\n",
    "csv_file_path = 'output_file.csv'\n",
    "json_to_csv(json_file_path, csv_file_path)"
   ]
  },
  {
   "cell_type": "code",
   "execution_count": 9,
   "metadata": {},
   "outputs": [
    {
     "name": "stdout",
     "output_type": "stream",
     "text": [
      "                                          completion            source\n",
      "0  昭通机场（ZPZT）是位于中国云南昭通的民用机场，始建于1935年，1960年3月开通往返航...  wikipedia.zh2307\n",
      "1  我的英雄学院：英雄新世纪\\n《我的英雄学院剧场版：英雄新世纪》（仆のヒーローアカデミア TH...  wikipedia.zh2307\n",
      "2  黄大仙文化公园（Wong Tai Sin Culture Park）是香港一个公园，位于九龙...  wikipedia.zh2307\n",
      "3  佐洛奇夫（Zolochiv），或按俄语译为佐洛乔夫（Золочев），是乌克兰西部利沃夫州佐...  wikipedia.zh2307\n",
      "4  陈准，字道基，颍川郡许昌（今河南许昌）人。西晋官员。官至太尉。出身颍川陈氏，青州刺史陈佐之子...  wikipedia.zh2307\n"
     ]
    }
   ],
   "source": [
    "csv_file_path = 'output_file.csv'  # Make sure to adjust this path to your actual CSV file\n",
    "df = pd.read_csv(csv_file_path)\n",
    "\n",
    "# Display the first few rows of the DataFrame\n",
    "print(df.head())"
   ]
  }
 ],
 "metadata": {
  "kernelspec": {
   "display_name": "torch",
   "language": "python",
   "name": "python3"
  },
  "language_info": {
   "codemirror_mode": {
    "name": "ipython",
    "version": 3
   },
   "file_extension": ".py",
   "mimetype": "text/x-python",
   "name": "python",
   "nbconvert_exporter": "python",
   "pygments_lexer": "ipython3",
   "version": "3.9.undefined"
  }
 },
 "nbformat": 4,
 "nbformat_minor": 2
}
