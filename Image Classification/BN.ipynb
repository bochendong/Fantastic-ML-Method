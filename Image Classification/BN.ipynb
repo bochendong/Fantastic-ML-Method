{
  "cells": [
    {
      "cell_type": "code",
      "execution_count": 1,
      "metadata": {
        "id": "TaaQ0xtg75ul"
      },
      "outputs": [],
      "source": [
        "import torch\n",
        "import torch.nn as nn\n",
        "import math\n",
        "import torch.optim as optim\n",
        "from torch.utils.data import DataLoader\n",
        "from torch.optim.lr_scheduler import StepLR\n",
        "from torchvision import datasets, transforms"
      ]
    },
    {
      "cell_type": "code",
      "execution_count": 2,
      "metadata": {
        "id": "J3A3npIr75um"
      },
      "outputs": [],
      "source": [
        "DEVICE = torch.device(\"cuda\" if torch.cuda.is_available() else \"cpu\")"
      ]
    },
    {
      "cell_type": "markdown",
      "metadata": {
        "id": "iwq90q6Q75um"
      },
      "source": [
        "# Load Dataset"
      ]
    },
    {
      "cell_type": "code",
      "execution_count": 3,
      "metadata": {
        "colab": {
          "base_uri": "https://localhost:8080/"
        },
        "id": "hrgSOtG975um",
        "outputId": "7fb9fd0e-2c16-47b4-d5cf-22a4afe0aa06"
      },
      "outputs": [
        {
          "name": "stdout",
          "output_type": "stream",
          "text": [
            "Files already downloaded and verified\n",
            "Files already downloaded and verified\n"
          ]
        }
      ],
      "source": [
        "transform_train = transforms.Compose([\n",
        "    transforms.RandomHorizontalFlip(),\n",
        "    transforms.RandomCrop(32, 4),\n",
        "    transforms.ToTensor(),\n",
        "    transforms.Normalize(mean=[0.485, 0.456, 0.406],\n",
        "                                     std=[0.229, 0.224, 0.225])\n",
        "])\n",
        "\n",
        "transform_test = transforms.Compose([\n",
        "    transforms.ToTensor(),\n",
        "    transforms.Normalize(mean=[0.485, 0.456, 0.406],\n",
        "                                     std=[0.229, 0.224, 0.225])\n",
        "])\n",
        "\n",
        "trainset = datasets.CIFAR10(root='./data', train=True, download=True, transform=transform_train)\n",
        "trainloader = DataLoader(trainset, batch_size=256, shuffle=True, drop_last = True)\n",
        "\n",
        "testset = datasets.CIFAR10(root='./data', train=False, download=True, transform=transform_test)\n",
        "testloader = DataLoader(testset, batch_size=256, shuffle=False, drop_last = True)"
      ]
    },
    {
      "cell_type": "markdown",
      "metadata": {
        "id": "u9sX_2LZ75um"
      },
      "source": [
        "# Model"
      ]
    },
    {
      "cell_type": "code",
      "execution_count": 4,
      "metadata": {
        "id": "pLvU5NfY75um"
      },
      "outputs": [],
      "source": [
        "class VGG(nn.Module):\n",
        "    def __init__(self):\n",
        "        super(VGG, self).__init__()\n",
        "        self.features = nn.Sequential(\n",
        "            nn.Conv2d(3, 64, kernel_size=3, padding=1),\n",
        "            nn.BatchNorm2d(64),\n",
        "            nn.ReLU(inplace=True),\n",
        "            nn.Conv2d(64, 64, kernel_size=3, padding=1),\n",
        "            nn.BatchNorm2d(64),\n",
        "            nn.ReLU(inplace=True),\n",
        "            nn.MaxPool2d(2, 2),\n",
        "\n",
        "            nn.Conv2d(64, 128, kernel_size=3, padding=1),\n",
        "            nn.BatchNorm2d(128),\n",
        "            nn.ReLU(inplace=True),\n",
        "            nn.Conv2d(128, 128, kernel_size=3, padding=1),\n",
        "            nn.BatchNorm2d(128),\n",
        "            nn.ReLU(inplace=True),\n",
        "            nn.MaxPool2d(2, 2),\n",
        "\n",
        "            nn.Conv2d(128, 256, kernel_size=3, padding=1),\n",
        "            nn.BatchNorm2d(256),\n",
        "            nn.ReLU(inplace=True),\n",
        "            nn.Conv2d(256, 256, kernel_size=3, padding=1),\n",
        "            nn.BatchNorm2d(256),\n",
        "            nn.ReLU(inplace=True),\n",
        "            nn.MaxPool2d(2, 2),\n",
        "\n",
        "            nn.Conv2d(256, 512, kernel_size=3, padding=1),\n",
        "            nn.BatchNorm2d(512),\n",
        "            nn.ReLU(inplace=True),\n",
        "            nn.Conv2d(512, 512, kernel_size=3, padding=1),\n",
        "            nn.BatchNorm2d(512),\n",
        "            nn.ReLU(inplace=True),\n",
        "            nn.MaxPool2d(2, 2),\n",
        "\n",
        "            nn.Conv2d(512, 512, kernel_size=3, padding=1),\n",
        "            nn.BatchNorm2d(512),\n",
        "            nn.ReLU(inplace=True),\n",
        "            nn.Conv2d(512, 512, kernel_size=3, padding=1),\n",
        "            nn.BatchNorm2d(512),\n",
        "            nn.ReLU(inplace=True),\n",
        "            nn.MaxPool2d(2, 2),\n",
        "        )\n",
        "\n",
        "        self.classifier = nn.Sequential(\n",
        "            nn.Linear(512, 512),\n",
        "            nn.BatchNorm1d(512),\n",
        "            nn.ReLU(inplace=True),\n",
        "            nn.Dropout(0.5),\n",
        "            nn.Linear(512, 512),\n",
        "            nn.BatchNorm1d(512),\n",
        "            nn.ReLU(inplace=True),\n",
        "            nn.Dropout(0.5),\n",
        "            nn.Linear(512, 10),\n",
        "            nn.Softmax(dim=1)\n",
        "        )\n",
        "\n",
        "        for m in self.modules():\n",
        "            if isinstance(m, nn.Conv2d):\n",
        "                n = m.kernel_size[0] * m.kernel_size[1] * m.out_channels\n",
        "                m.weight.data.normal_(0, math.sqrt(2. / n))\n",
        "                m.bias.data.zero_()\n",
        "\n",
        "    def forward(self, x):\n",
        "        x = self.features(x)\n",
        "        x = x.view(-1, 512)\n",
        "        x = self.classifier(x)\n",
        "        return x\n"
      ]
    },
    {
      "cell_type": "markdown",
      "metadata": {
        "id": "D5Hl1gW075um"
      },
      "source": [
        "# Train Function"
      ]
    },
    {
      "cell_type": "code",
      "execution_count": 5,
      "metadata": {
        "id": "wKcuHdYA75um"
      },
      "outputs": [],
      "source": [
        "def adjust_learning_rate(optimizer, epoch):\n",
        "    \"\"\"Sets the learning rate to the initial LR decayed by 2 every 30 epochs\"\"\"\n",
        "    lr = 0.05 * (0.5 ** (epoch // 30))\n",
        "    for param_group in optimizer.param_groups:\n",
        "        param_group['lr'] = lr\n",
        "\n",
        "def train(criterion, optimizer, model, num_epochs, device):\n",
        "    loss_history = []\n",
        "    test_acc_history = []\n",
        "\n",
        "    for epoch in range(num_epochs):\n",
        "        model.train()\n",
        "        loss_per_epoch = 0\n",
        "\n",
        "        for images, labels in trainloader:\n",
        "            images, labels = images.to(device), labels.to(device)\n",
        "            optimizer.zero_grad()\n",
        "            outputs = model(images)\n",
        "            loss = criterion(outputs, labels)\n",
        "            loss.backward()\n",
        "            optimizer.step()\n",
        "            loss_per_epoch += loss.item()\n",
        "\n",
        "        adjust_learning_rate(optimizer, epoch)\n",
        "        \n",
        "        correct = 0\n",
        "        total = 0\n",
        "        model.eval()\n",
        "\n",
        "        with torch.no_grad():\n",
        "            for images, labels in testloader:\n",
        "                images, labels = images.to(device), labels.to(device)\n",
        "                outputs = model(images)\n",
        "                _, predicted = torch.max(outputs.data, 1)\n",
        "                total += labels.size(0)\n",
        "                correct += (predicted == labels).sum().item()\n",
        "\n",
        "        epoch_loss = loss_per_epoch / len(trainloader)\n",
        "        epoch_acc = correct / total\n",
        "\n",
        "        print(f\"Epoch [{epoch + 1}/{num_epochs}], Loss: {epoch_loss:.4f}, Test Accuracy: {epoch_acc:.4f}\")\n",
        "        loss_history.append(epoch_loss)\n",
        "        test_acc_history.append(epoch_acc)\n",
        "\n",
        "    return loss_history, test_acc_history"
      ]
    },
    {
      "cell_type": "code",
      "execution_count": 6,
      "metadata": {
        "colab": {
          "base_uri": "https://localhost:8080/"
        },
        "id": "thUj_dsz75um",
        "outputId": "dc6570b2-4edb-42c9-cbe0-5133c84b266e"
      },
      "outputs": [
        {
          "name": "stdout",
          "output_type": "stream",
          "text": [
            "Epoch [1/100], Loss: 2.1023, Test Accuracy: 0.3890\n",
            "Epoch [2/100], Loss: 1.9604, Test Accuracy: 0.5343\n",
            "Epoch [3/100], Loss: 1.8780, Test Accuracy: 0.5775\n",
            "Epoch [4/100], Loss: 1.8228, Test Accuracy: 0.6524\n",
            "Epoch [5/100], Loss: 1.7874, Test Accuracy: 0.6446\n",
            "Epoch [6/100], Loss: 1.7628, Test Accuracy: 0.7072\n",
            "Epoch [7/100], Loss: 1.7390, Test Accuracy: 0.7384\n",
            "Epoch [8/100], Loss: 1.7239, Test Accuracy: 0.6990\n",
            "Epoch [9/100], Loss: 1.7112, Test Accuracy: 0.7443\n",
            "Epoch [10/100], Loss: 1.7010, Test Accuracy: 0.7501\n",
            "Epoch [11/100], Loss: 1.6892, Test Accuracy: 0.7066\n",
            "Epoch [12/100], Loss: 1.6850, Test Accuracy: 0.7610\n",
            "Epoch [13/100], Loss: 1.6768, Test Accuracy: 0.7839\n",
            "Epoch [14/100], Loss: 1.6695, Test Accuracy: 0.7805\n",
            "Epoch [15/100], Loss: 1.6617, Test Accuracy: 0.7455\n",
            "Epoch [16/100], Loss: 1.6576, Test Accuracy: 0.7438\n",
            "Epoch [17/100], Loss: 1.6597, Test Accuracy: 0.7489\n",
            "Epoch [18/100], Loss: 1.6513, Test Accuracy: 0.7722\n",
            "Epoch [19/100], Loss: 1.6498, Test Accuracy: 0.7483\n",
            "Epoch [20/100], Loss: 1.6450, Test Accuracy: 0.7854\n",
            "Epoch [21/100], Loss: 1.6434, Test Accuracy: 0.8141\n",
            "Epoch [22/100], Loss: 1.6386, Test Accuracy: 0.7690\n",
            "Epoch [23/100], Loss: 1.6332, Test Accuracy: 0.8149\n",
            "Epoch [24/100], Loss: 1.6325, Test Accuracy: 0.7854\n",
            "Epoch [25/100], Loss: 1.6361, Test Accuracy: 0.7786\n",
            "Epoch [26/100], Loss: 1.6324, Test Accuracy: 0.7955\n",
            "Epoch [27/100], Loss: 1.6271, Test Accuracy: 0.7876\n",
            "Epoch [28/100], Loss: 1.6301, Test Accuracy: 0.7809\n",
            "Epoch [29/100], Loss: 1.6333, Test Accuracy: 0.8109\n",
            "Epoch [30/100], Loss: 1.6288, Test Accuracy: 0.7834\n",
            "Epoch [31/100], Loss: 1.6283, Test Accuracy: 0.7180\n",
            "Epoch [32/100], Loss: 1.5952, Test Accuracy: 0.8396\n",
            "Epoch [33/100], Loss: 1.5858, Test Accuracy: 0.8486\n",
            "Epoch [34/100], Loss: 1.5846, Test Accuracy: 0.8387\n",
            "Epoch [35/100], Loss: 1.5831, Test Accuracy: 0.8477\n",
            "Epoch [36/100], Loss: 1.5853, Test Accuracy: 0.8420\n",
            "Epoch [37/100], Loss: 1.5843, Test Accuracy: 0.8207\n",
            "Epoch [38/100], Loss: 1.5846, Test Accuracy: 0.8360\n",
            "Epoch [39/100], Loss: 1.5821, Test Accuracy: 0.8591\n",
            "Epoch [40/100], Loss: 1.5846, Test Accuracy: 0.8452\n",
            "Epoch [41/100], Loss: 1.5838, Test Accuracy: 0.8469\n",
            "Epoch [42/100], Loss: 1.5822, Test Accuracy: 0.8485\n",
            "Epoch [43/100], Loss: 1.5829, Test Accuracy: 0.8471\n",
            "Epoch [44/100], Loss: 1.5838, Test Accuracy: 0.8319\n",
            "Epoch [45/100], Loss: 1.5851, Test Accuracy: 0.8385\n",
            "Epoch [46/100], Loss: 1.5850, Test Accuracy: 0.8372\n",
            "Epoch [47/100], Loss: 1.5882, Test Accuracy: 0.8160\n",
            "Epoch [48/100], Loss: 1.5859, Test Accuracy: 0.8370\n",
            "Epoch [49/100], Loss: 1.5850, Test Accuracy: 0.8246\n",
            "Epoch [50/100], Loss: 1.5818, Test Accuracy: 0.8319\n",
            "Epoch [51/100], Loss: 1.5883, Test Accuracy: 0.8327\n",
            "Epoch [52/100], Loss: 1.5883, Test Accuracy: 0.8577\n",
            "Epoch [53/100], Loss: 1.5849, Test Accuracy: 0.8489\n",
            "Epoch [54/100], Loss: 1.5870, Test Accuracy: 0.8430\n",
            "Epoch [55/100], Loss: 1.5859, Test Accuracy: 0.8361\n",
            "Epoch [56/100], Loss: 1.5866, Test Accuracy: 0.8407\n",
            "Epoch [57/100], Loss: 1.5865, Test Accuracy: 0.8501\n",
            "Epoch [58/100], Loss: 1.5846, Test Accuracy: 0.8465\n",
            "Epoch [59/100], Loss: 1.5861, Test Accuracy: 0.7820\n",
            "Epoch [60/100], Loss: 1.5863, Test Accuracy: 0.8481\n",
            "Epoch [61/100], Loss: 1.5903, Test Accuracy: 0.8359\n",
            "Epoch [62/100], Loss: 1.5612, Test Accuracy: 0.8758\n",
            "Epoch [63/100], Loss: 1.5513, Test Accuracy: 0.8761\n",
            "Epoch [64/100], Loss: 1.5484, Test Accuracy: 0.8802\n",
            "Epoch [65/100], Loss: 1.5474, Test Accuracy: 0.8772\n",
            "Epoch [66/100], Loss: 1.5472, Test Accuracy: 0.8797\n",
            "Epoch [67/100], Loss: 1.5474, Test Accuracy: 0.8807\n",
            "Epoch [68/100], Loss: 1.5427, Test Accuracy: 0.8828\n",
            "Epoch [69/100], Loss: 1.5442, Test Accuracy: 0.8787\n",
            "Epoch [70/100], Loss: 1.5438, Test Accuracy: 0.8799\n",
            "Epoch [71/100], Loss: 1.5452, Test Accuracy: 0.8726\n",
            "Epoch [72/100], Loss: 1.5445, Test Accuracy: 0.8842\n",
            "Epoch [73/100], Loss: 1.5457, Test Accuracy: 0.8773\n",
            "Epoch [74/100], Loss: 1.5460, Test Accuracy: 0.8839\n",
            "Epoch [75/100], Loss: 1.5449, Test Accuracy: 0.8677\n",
            "Epoch [76/100], Loss: 1.5465, Test Accuracy: 0.8814\n",
            "Epoch [77/100], Loss: 1.5474, Test Accuracy: 0.8625\n",
            "Epoch [78/100], Loss: 1.5463, Test Accuracy: 0.8835\n",
            "Epoch [79/100], Loss: 1.5470, Test Accuracy: 0.8788\n",
            "Epoch [80/100], Loss: 1.5456, Test Accuracy: 0.8701\n",
            "Epoch [81/100], Loss: 1.5426, Test Accuracy: 0.8776\n",
            "Epoch [82/100], Loss: 1.5413, Test Accuracy: 0.8794\n",
            "Epoch [83/100], Loss: 1.5437, Test Accuracy: 0.8747\n",
            "Epoch [84/100], Loss: 1.5449, Test Accuracy: 0.8798\n",
            "Epoch [85/100], Loss: 1.5452, Test Accuracy: 0.8737\n",
            "Epoch [86/100], Loss: 1.5461, Test Accuracy: 0.8636\n",
            "Epoch [87/100], Loss: 1.5433, Test Accuracy: 0.8541\n",
            "Epoch [88/100], Loss: 1.5472, Test Accuracy: 0.8693\n",
            "Epoch [89/100], Loss: 1.5420, Test Accuracy: 0.8628\n",
            "Epoch [90/100], Loss: 1.5468, Test Accuracy: 0.8772\n",
            "Epoch [91/100], Loss: 1.5468, Test Accuracy: 0.8651\n",
            "Epoch [92/100], Loss: 1.5288, Test Accuracy: 0.9031\n",
            "Epoch [93/100], Loss: 1.5206, Test Accuracy: 0.8991\n",
            "Epoch [94/100], Loss: 1.5199, Test Accuracy: 0.9011\n",
            "Epoch [95/100], Loss: 1.5177, Test Accuracy: 0.9037\n",
            "Epoch [96/100], Loss: 1.5170, Test Accuracy: 0.9039\n",
            "Epoch [97/100], Loss: 1.5161, Test Accuracy: 0.8988\n",
            "Epoch [98/100], Loss: 1.5135, Test Accuracy: 0.8972\n",
            "Epoch [99/100], Loss: 1.5143, Test Accuracy: 0.9020\n",
            "Epoch [100/100], Loss: 1.5133, Test Accuracy: 0.8993\n"
          ]
        }
      ],
      "source": [
        "model = VGG()\n",
        "model = model.to(DEVICE)\n",
        "\n",
        "criterion = nn.CrossEntropyLoss()\n",
        "optimizer = torch.optim.SGD(model.parameters(), 0.05,\n",
        "                                momentum=0.9, weight_decay=5e-4)\n",
        "\n",
        "\n",
        "num_epochs = 100\n",
        "loss_history, test_acc_history = train(criterion, optimizer, model, num_epochs, DEVICE)"
      ]
    },
    {
      "cell_type": "code",
      "execution_count": 7,
      "metadata": {},
      "outputs": [
        {
          "data": {
            "image/png": "[encoded data removed]",
            "text/plain": [
              "<Figure size 640x480 with 1 Axes>"
            ]
          },
          "metadata": {},
          "output_type": "display_data"
        }
      ],
      "source": [
        "import matplotlib.pyplot as plt\n",
        "\n",
        "plt.plot(list(range(num_epochs)), loss_history)\n",
        "plt.show()"
      ]
    },
    {
      "cell_type": "code",
      "execution_count": null,
      "metadata": {},
      "outputs": [],
      "source": [
        "plt.plot(list(range(num_epochs)), test_acc_history)\n",
        "plt.show()"
      ]
    }
  ],
  "metadata": {
    "accelerator": "GPU",
    "colab": {
      "gpuType": "T4",
      "provenance": []
    },
    "kernelspec": {
      "display_name": "Python 3",
      "name": "python3"
    },
    "language_info": {
      "codemirror_mode": {
        "name": "ipython",
        "version": 3
      },
      "file_extension": ".py",
      "mimetype": "text/x-python",
      "name": "python",
      "nbconvert_exporter": "python",
      "pygments_lexer": "ipython3",
      "version": "3.11.7"
    }
  },
  "nbformat": 4,
  "nbformat_minor": 0
}
