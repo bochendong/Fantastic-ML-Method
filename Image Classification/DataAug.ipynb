{
  "cells": [
    {
      "cell_type": "code",
      "execution_count": 1,
      "metadata": {
        "id": "TaaQ0xtg75ul"
      },
      "outputs": [],
      "source": [
        "import torch\n",
        "import torch.nn as nn\n",
        "import torch.optim as optim\n",
        "from torch.utils.data import DataLoader\n",
        "from torchvision import datasets, transforms"
      ]
    },
    {
      "cell_type": "code",
      "execution_count": 2,
      "metadata": {
        "id": "J3A3npIr75um"
      },
      "outputs": [],
      "source": [
        "DEVICE = torch.device(\"cuda\" if torch.cuda.is_available() else \"cpu\")"
      ]
    },
    {
      "cell_type": "markdown",
      "metadata": {
        "id": "iwq90q6Q75um"
      },
      "source": [
        "# Load Dataset"
      ]
    },
    {
      "cell_type": "code",
      "execution_count": 3,
      "metadata": {
        "colab": {
          "base_uri": "https://localhost:8080/"
        },
        "id": "hrgSOtG975um",
        "outputId": "7fb9fd0e-2c16-47b4-d5cf-22a4afe0aa06"
      },
      "outputs": [
        {
          "name": "stdout",
          "output_type": "stream",
          "text": [
            "Downloading https://www.cs.toronto.edu/~kriz/cifar-10-python.tar.gz to ./data/cifar-10-python.tar.gz\n"
          ]
        },
        {
          "name": "stderr",
          "output_type": "stream",
          "text": [
            "100%|██████████| 170498071/170498071 [00:03<00:00, 49087756.23it/s]\n"
          ]
        },
        {
          "name": "stdout",
          "output_type": "stream",
          "text": [
            "Extracting ./data/cifar-10-python.tar.gz to ./data\n",
            "Files already downloaded and verified\n"
          ]
        }
      ],
      "source": [
        "transform = transforms.Compose([\n",
        "    transforms.RandomHorizontalFlip(p=0.5),\n",
        "    transforms.ColorJitter(brightness=0.2),\n",
        "    transforms.RandomRotation(degrees=20),\n",
        "    transforms.ToTensor(),\n",
        "    transforms.Normalize((0.5, 0.5, 0.5), (0.5, 0.5, 0.5))\n",
        "])\n",
        "\n",
        "trainset = datasets.CIFAR10(root='./data', train=True, download=True, transform=transform)\n",
        "trainloader = DataLoader(trainset, batch_size=256, shuffle=True, drop_last = True)\n",
        "\n",
        "testset = datasets.CIFAR10(root='./data', train=False, download=True, transform=transform)\n",
        "testloader = DataLoader(testset, batch_size=256, shuffle=False, drop_last = True)"
      ]
    },
    {
      "cell_type": "markdown",
      "metadata": {
        "id": "u9sX_2LZ75um"
      },
      "source": [
        "# Model"
      ]
    },
    {
      "cell_type": "code",
      "execution_count": 4,
      "metadata": {
        "id": "pLvU5NfY75um"
      },
      "outputs": [],
      "source": [
        "class VGG(nn.Module):\n",
        "    def __init__(self):\n",
        "        super(VGG, self).__init__()\n",
        "        self.features = nn.Sequential(\n",
        "            nn.Conv2d(3, 64, kernel_size=3, padding=1),\n",
        "            nn.ReLU(inplace=True),\n",
        "            nn.Conv2d(64, 64, kernel_size=3, padding=1),\n",
        "            nn.ReLU(inplace=True),\n",
        "            nn.MaxPool2d(2, 2),\n",
        "\n",
        "            nn.Conv2d(64, 128, kernel_size=3, padding=1),\n",
        "            nn.ReLU(inplace=True),\n",
        "            nn.Conv2d(128, 128, kernel_size=3, padding=1),\n",
        "            nn.ReLU(inplace=True),\n",
        "            nn.MaxPool2d(2, 2),\n",
        "\n",
        "            nn.Conv2d(128, 256, kernel_size=3, padding=1),\n",
        "            nn.ReLU(inplace=True),\n",
        "            nn.Conv2d(256, 256, kernel_size=3, padding=1),\n",
        "            nn.ReLU(inplace=True),\n",
        "            nn.MaxPool2d(2, 2),\n",
        "        )\n",
        "\n",
        "        self.classifier = nn.Sequential(\n",
        "            nn.Linear(4 * 4 * 256, 4096),\n",
        "            nn.Dropout(0.5),\n",
        "            nn.ReLU(inplace=True),\n",
        "            nn.Linear(4096, 4096),\n",
        "            nn.Dropout(0.5),\n",
        "            nn.ReLU(inplace=True),\n",
        "            nn.Linear(4096, 512),\n",
        "            nn.Dropout(0.2),\n",
        "            nn.ReLU(inplace=True),\n",
        "            nn.Linear(512, 10)\n",
        "        )\n",
        "\n",
        "    def forward(self, x):\n",
        "        x = self.features(x)\n",
        "        x = x.view(-1, 4 * 4 * 256)  # Adjusted for the added depth\n",
        "        x = self.classifier(x)\n",
        "        return x"
      ]
    },
    {
      "cell_type": "markdown",
      "metadata": {
        "id": "D5Hl1gW075um"
      },
      "source": [
        "# Train Function"
      ]
    },
    {
      "cell_type": "code",
      "execution_count": 5,
      "metadata": {
        "id": "wKcuHdYA75um"
      },
      "outputs": [],
      "source": [
        "def train(criterion, optimizer, model, num_epochs, device):\n",
        "    loss_history = []\n",
        "    test_acc_history = []\n",
        "\n",
        "    for epoch in range(num_epochs):\n",
        "        loss_per_epoch = 0\n",
        "        for images, label in trainloader:\n",
        "            optimizer.zero_grad()\n",
        "\n",
        "            images, label = images.to(device), label.to(device)\n",
        "\n",
        "            outputs = model(images)\n",
        "\n",
        "            loss = criterion(outputs, label)\n",
        "            loss.backward()\n",
        "            optimizer.step()\n",
        "\n",
        "            loss_per_epoch += loss\n",
        "\n",
        "        correct = 0\n",
        "        total = 0\n",
        "\n",
        "        with torch.no_grad():\n",
        "            for images, label in testloader:\n",
        "                images, label = images.to(DEVICE), label.to(DEVICE)\n",
        "                outputs = model(images)\n",
        "                _, predicted = torch.max(outputs.data, 1)\n",
        "                total += label.size(0)\n",
        "                correct += (predicted == label).sum().item()\n",
        "\n",
        "        print(f\"epoch: {epoch}, loss_per_epoch: {loss_per_epoch}, test_accuracy: {correct/total}\")\n",
        "        loss_history.append(loss_per_epoch.cpu().detach().numpy())\n",
        "        test_acc_history.append((correct * 100/total))\n",
        "\n",
        "    return loss_history, test_acc_history"
      ]
    },
    {
      "cell_type": "code",
      "execution_count": 6,
      "metadata": {
        "colab": {
          "base_uri": "https://localhost:8080/"
        },
        "id": "thUj_dsz75um",
        "outputId": "dc6570b2-4edb-42c9-cbe0-5133c84b266e"
      },
      "outputs": [
        {
          "name": "stdout",
          "output_type": "stream",
          "text": [
            "epoch: 0, loss_per_epoch: 368.2815246582031, test_accuracy: 0.37049278846153844\n",
            "epoch: 1, loss_per_epoch: 281.6642761230469, test_accuracy: 0.5155248397435898\n",
            "epoch: 2, loss_per_epoch: 230.44444274902344, test_accuracy: 0.5955528846153846\n",
            "epoch: 3, loss_per_epoch: 200.229248046875, test_accuracy: 0.655448717948718\n",
            "epoch: 4, loss_per_epoch: 175.80667114257812, test_accuracy: 0.6715745192307693\n",
            "epoch: 5, loss_per_epoch: 156.90948486328125, test_accuracy: 0.7216546474358975\n",
            "epoch: 6, loss_per_epoch: 145.3646240234375, test_accuracy: 0.7233573717948718\n",
            "epoch: 7, loss_per_epoch: 130.2404022216797, test_accuracy: 0.7459935897435898\n",
            "epoch: 8, loss_per_epoch: 120.7616958618164, test_accuracy: 0.7686298076923077\n",
            "epoch: 9, loss_per_epoch: 112.94281768798828, test_accuracy: 0.7735376602564102\n",
            "epoch: 10, loss_per_epoch: 104.33758544921875, test_accuracy: 0.7728365384615384\n",
            "epoch: 11, loss_per_epoch: 98.05274200439453, test_accuracy: 0.7841546474358975\n",
            "epoch: 12, loss_per_epoch: 90.84552764892578, test_accuracy: 0.7946714743589743\n",
            "epoch: 13, loss_per_epoch: 85.78142547607422, test_accuracy: 0.8016826923076923\n",
            "epoch: 14, loss_per_epoch: 81.39420318603516, test_accuracy: 0.8072916666666666\n",
            "epoch: 15, loss_per_epoch: 76.49192810058594, test_accuracy: 0.7992788461538461\n",
            "epoch: 16, loss_per_epoch: 70.04721069335938, test_accuracy: 0.8024839743589743\n",
            "epoch: 17, loss_per_epoch: 67.15564727783203, test_accuracy: 0.8135016025641025\n",
            "epoch: 18, loss_per_epoch: 61.969303131103516, test_accuracy: 0.8144030448717948\n",
            "epoch: 19, loss_per_epoch: 59.4989128112793, test_accuracy: 0.8141025641025641\n"
          ]
        }
      ],
      "source": [
        "model = VGG()\n",
        "model = model.to(DEVICE)\n",
        "\n",
        "criterion = nn.CrossEntropyLoss()\n",
        "optimizer = optim.Adam(model.parameters(), lr=0.0005)\n",
        "\n",
        "num_epochs = 20\n",
        "loss_history, test_acc_history = train(criterion, optimizer, model, num_epochs = num_epochs, device = DEVICE)"
      ]
    }
  ],
  "metadata": {
    "accelerator": "GPU",
    "colab": {
      "gpuType": "T4",
      "provenance": []
    },
    "kernelspec": {
      "display_name": "Python 3",
      "name": "python3"
    },
    "language_info": {
      "name": "python"
    }
  },
  "nbformat": 4,
  "nbformat_minor": 0
}
