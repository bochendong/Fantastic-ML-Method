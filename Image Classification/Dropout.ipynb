{
  "cells": [
    {
      "cell_type": "code",
      "execution_count": 1,
      "metadata": {
        "id": "ZcqJJbln3bvw"
      },
      "outputs": [],
      "source": [
        "import torch\n",
        "import torch.nn as nn\n",
        "import torch.optim as optim\n",
        "import torch.nn.functional as F\n",
        "from torch.utils.data import DataLoader\n",
        "from torchvision import datasets, transforms"
      ]
    },
    {
      "cell_type": "code",
      "execution_count": 2,
      "metadata": {
        "id": "VllFCk5h3bvx"
      },
      "outputs": [],
      "source": [
        "DEVICE = torch.device(\"cuda\" if torch.cuda.is_available() else \"cpu\")"
      ]
    },
    {
      "cell_type": "markdown",
      "metadata": {
        "id": "9HBFzSuH3bvx"
      },
      "source": [
        "# Load Dataset"
      ]
    },
    {
      "cell_type": "code",
      "execution_count": 3,
      "metadata": {
        "id": "yttIc_Vb3bvy",
        "outputId": "dd649b22-e01d-426e-c18b-9a168f404e79",
        "colab": {
          "base_uri": "https://localhost:8080/"
        }
      },
      "outputs": [
        {
          "output_type": "stream",
          "name": "stdout",
          "text": [
            "Files already downloaded and verified\n",
            "Files already downloaded and verified\n"
          ]
        }
      ],
      "source": [
        "transform = transforms.Compose([\n",
        "    transforms.ToTensor(),\n",
        "    transforms.Normalize((0.5, 0.5, 0.5), (0.5, 0.5, 0.5))\n",
        "])\n",
        "\n",
        "trainset = datasets.CIFAR10(root='./data', train=True, download=True, transform=transform)\n",
        "trainloader = DataLoader(trainset, batch_size=256, shuffle=True, drop_last = True)\n",
        "\n",
        "testset = datasets.CIFAR10(root='./data', train=False, download=True, transform=transform)\n",
        "testloader = DataLoader(testset, batch_size=256, shuffle=False, drop_last = True)"
      ]
    },
    {
      "cell_type": "markdown",
      "metadata": {
        "id": "mMy0ijnZ3bvy"
      },
      "source": [
        "# Model"
      ]
    },
    {
      "cell_type": "code",
      "execution_count": 4,
      "metadata": {
        "id": "17QpoChD3bvy"
      },
      "outputs": [],
      "source": [
        "class VGG(nn.Module):\n",
        "    def __init__(self):\n",
        "        super(VGG, self).__init__()\n",
        "        self.features = nn.Sequential(\n",
        "            nn.Conv2d(3, 64, kernel_size=3, padding=1),\n",
        "            nn.ReLU(inplace=True),\n",
        "            nn.Conv2d(64, 64, kernel_size=3, padding=1),\n",
        "            nn.ReLU(inplace=True),\n",
        "            nn.MaxPool2d(2, 2),\n",
        "\n",
        "            nn.Conv2d(64, 128, kernel_size=3, padding=1),\n",
        "            nn.ReLU(inplace=True),\n",
        "            nn.Conv2d(128, 128, kernel_size=3, padding=1),\n",
        "            nn.ReLU(inplace=True),\n",
        "            nn.MaxPool2d(2, 2),\n",
        "\n",
        "            nn.Conv2d(128, 256, kernel_size=3, padding=1),\n",
        "            nn.ReLU(inplace=True),\n",
        "            nn.Conv2d(256, 256, kernel_size=3, padding=1),\n",
        "            nn.ReLU(inplace=True),\n",
        "            nn.MaxPool2d(2, 2),\n",
        "        )\n",
        "\n",
        "        self.classifier = nn.Sequential(\n",
        "            nn.Linear(4 * 4 * 256, 4096),\n",
        "            nn.Dropout(0.2),\n",
        "            nn.ReLU(inplace=True),\n",
        "            nn.Linear(4096, 4096),\n",
        "            nn.Dropout(0.2),\n",
        "            nn.ReLU(inplace=True),\n",
        "            nn.Linear(4096, 512),\n",
        "            nn.Dropout(0.2),\n",
        "            nn.ReLU(inplace=True),\n",
        "            nn.Linear(512, 10)\n",
        "        )\n",
        "\n",
        "    def forward(self, x):\n",
        "        x = self.features(x)\n",
        "        x = x.view(-1, 4 * 4 * 256)\n",
        "        x = self.classifier(x)\n",
        "        return x"
      ]
    },
    {
      "cell_type": "markdown",
      "metadata": {
        "id": "4Ux7_mdi3bvy"
      },
      "source": [
        "# Train Function"
      ]
    },
    {
      "cell_type": "code",
      "execution_count": 5,
      "metadata": {
        "id": "7h_xSWUa3bvy"
      },
      "outputs": [],
      "source": [
        "def train(criterion, optimizer, model, num_epochs, device):\n",
        "    loss_history = []\n",
        "    test_acc_history = []\n",
        "\n",
        "    for epoch in range(num_epochs):\n",
        "        loss_per_epoch = 0\n",
        "        for images, label in trainloader:\n",
        "            optimizer.zero_grad()\n",
        "\n",
        "            images, label = images.to(device), label.to(device)\n",
        "\n",
        "            outputs = model(images)\n",
        "\n",
        "            loss = criterion(outputs, label)\n",
        "            loss.backward()\n",
        "            optimizer.step()\n",
        "\n",
        "            loss_per_epoch += loss\n",
        "\n",
        "        correct = 0\n",
        "        total = 0\n",
        "\n",
        "        with torch.no_grad():\n",
        "            for images, label in testloader:\n",
        "                images, label = images.to(DEVICE), label.to(DEVICE)\n",
        "                outputs = model(images)\n",
        "                _, predicted = torch.max(outputs.data, 1)\n",
        "                total += label.size(0)\n",
        "                correct += (predicted == label).sum().item()\n",
        "\n",
        "        print(f\"epoch: {epoch}, loss_per_epoch: {loss_per_epoch}, test_accuracy: {correct/total}\")\n",
        "        loss_history.append(loss_per_epoch.cpu().detach().numpy())\n",
        "        test_acc_history.append((correct * 100/total))\n",
        "\n",
        "    return loss_history, test_acc_history"
      ]
    },
    {
      "cell_type": "code",
      "execution_count": 6,
      "metadata": {
        "id": "xrfQqHT83bvy",
        "outputId": "20445afb-73e1-4c62-d85d-db9615713735",
        "colab": {
          "base_uri": "https://localhost:8080/"
        }
      },
      "outputs": [
        {
          "output_type": "stream",
          "name": "stdout",
          "text": [
            "epoch: 0, loss_per_epoch: 341.1842041015625, test_accuracy: 0.4794671474358974\n",
            "epoch: 1, loss_per_epoch: 240.4415283203125, test_accuracy: 0.5974559294871795\n",
            "epoch: 2, loss_per_epoch: 188.27964782714844, test_accuracy: 0.6911057692307693\n",
            "epoch: 3, loss_per_epoch: 149.82054138183594, test_accuracy: 0.7182491987179487\n",
            "epoch: 4, loss_per_epoch: 121.84396362304688, test_accuracy: 0.7571113782051282\n",
            "epoch: 5, loss_per_epoch: 97.75029754638672, test_accuracy: 0.7674278846153846\n",
            "epoch: 6, loss_per_epoch: 78.45774841308594, test_accuracy: 0.7838541666666666\n",
            "epoch: 7, loss_per_epoch: 60.614967346191406, test_accuracy: 0.7901642628205128\n",
            "epoch: 8, loss_per_epoch: 43.391990661621094, test_accuracy: 0.7850560897435898\n",
            "epoch: 9, loss_per_epoch: 32.66335678100586, test_accuracy: 0.7743389423076923\n",
            "epoch: 10, loss_per_epoch: 24.540250778198242, test_accuracy: 0.7809495192307693\n",
            "epoch: 11, loss_per_epoch: 17.794069290161133, test_accuracy: 0.7899639423076923\n",
            "epoch: 12, loss_per_epoch: 16.30069923400879, test_accuracy: 0.7905649038461539\n",
            "epoch: 13, loss_per_epoch: 14.080906867980957, test_accuracy: 0.7869591346153846\n",
            "epoch: 14, loss_per_epoch: 12.418133735656738, test_accuracy: 0.7950721153846154\n",
            "epoch: 15, loss_per_epoch: 10.087305068969727, test_accuracy: 0.7918669871794872\n",
            "epoch: 16, loss_per_epoch: 9.1492280960083, test_accuracy: 0.7834535256410257\n",
            "epoch: 17, loss_per_epoch: 8.598295211791992, test_accuracy: 0.7847556089743589\n",
            "epoch: 18, loss_per_epoch: 9.39523983001709, test_accuracy: 0.7830528846153846\n",
            "epoch: 19, loss_per_epoch: 7.980276107788086, test_accuracy: 0.7890625\n"
          ]
        }
      ],
      "source": [
        "model = VGG()\n",
        "model = model.to(DEVICE)\n",
        "\n",
        "criterion = nn.CrossEntropyLoss()\n",
        "optimizer = optim.Adam(model.parameters(), lr=0.0005)\n",
        "\n",
        "num_epochs = 20\n",
        "loss_history, test_acc_history = train(criterion, optimizer, model, num_epochs = num_epochs, device = DEVICE)"
      ]
    }
  ],
  "metadata": {
    "language_info": {
      "name": "python"
    },
    "colab": {
      "provenance": [],
      "gpuType": "T4"
    },
    "kernelspec": {
      "name": "python3",
      "display_name": "Python 3"
    },
    "accelerator": "GPU"
  },
  "nbformat": 4,
  "nbformat_minor": 0
}